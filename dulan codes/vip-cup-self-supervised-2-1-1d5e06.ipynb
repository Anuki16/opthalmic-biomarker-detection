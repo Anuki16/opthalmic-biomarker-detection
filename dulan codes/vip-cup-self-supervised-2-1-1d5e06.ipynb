{
 "cells": [
  {
   "cell_type": "code",
   "execution_count": 1,
   "id": "b744ace2",
   "metadata": {
    "_cell_guid": "b1076dfc-b9ad-4769-8c92-a6c4dae69d19",
    "_uuid": "8f2839f25d086af736a60e9eeb907d3b93b6e0e5",
    "execution": {
     "iopub.execute_input": "2023-08-27T09:17:25.712051Z",
     "iopub.status.busy": "2023-08-27T09:17:25.711610Z",
     "iopub.status.idle": "2023-08-27T09:17:26.752480Z",
     "shell.execute_reply": "2023-08-27T09:17:26.751543Z"
    },
    "papermill": {
     "duration": 1.058459,
     "end_time": "2023-08-27T09:17:26.754682",
     "exception": false,
     "start_time": "2023-08-27T09:17:25.696223",
     "status": "completed"
    },
    "tags": []
   },
   "outputs": [
    {
     "name": "stderr",
     "output_type": "stream",
     "text": [
      "/opt/conda/lib/python3.10/site-packages/scipy/__init__.py:146: UserWarning: A NumPy version >=1.16.5 and <1.23.0 is required for this version of SciPy (detected version 1.23.5\n",
      "  warnings.warn(f\"A NumPy version >={np_minversion} and <{np_maxversion}\"\n"
     ]
    },
    {
     "data": {
      "text/plain": [
       "\"\\nimport os\\nfor dirname, _, filenames in os.walk('/kaggle/input'):\\n    for filename in filenames:\\n        print(os.path.join(dirname, filename))\\n\""
      ]
     },
     "execution_count": 1,
     "metadata": {},
     "output_type": "execute_result"
    }
   ],
   "source": [
    "# This Python 3 environment comes with many helpful analytics libraries installed\n",
    "# It is defined by the kaggle/python Docker image: https://github.com/kaggle/docker-python\n",
    "# For example, here's several helpful packages to load\n",
    "\n",
    "import numpy as np # linear algebra\n",
    "import pandas as pd # data processing, CSV file I/O (e.g. pd.read_csv)\n",
    "\n",
    "import sys\n",
    "import time\n",
    "import numpy as np\n",
    "from sklearn.metrics import f1_score\n",
    "import random\n",
    "\n",
    "# Input data files are available in the read-only \"../input/\" directory\n",
    "# For example, running this (by clicking run or pressing Shift+Enter) will list all files under the input directory\n",
    "\n",
    "'''\n",
    "import os\n",
    "for dirname, _, filenames in os.walk('/kaggle/input'):\n",
    "    for filename in filenames:\n",
    "        print(os.path.join(dirname, filename))\n",
    "'''\n",
    "\n",
    "# You can write up to 20GB to the current directory (/kaggle/working/) that gets preserved as output when you create a version using \"Save & Run All\" \n",
    "# You can also write temporary files to /kaggle/temp/, but they won't be saved outside of the current session"
   ]
  },
  {
   "cell_type": "code",
   "execution_count": 2,
   "id": "2bcaecb8",
   "metadata": {
    "execution": {
     "iopub.execute_input": "2023-08-27T09:17:26.782602Z",
     "iopub.status.busy": "2023-08-27T09:17:26.781741Z",
     "iopub.status.idle": "2023-08-27T09:17:39.798673Z",
     "shell.execute_reply": "2023-08-27T09:17:39.797455Z"
    },
    "papermill": {
     "duration": 13.033365,
     "end_time": "2023-08-27T09:17:39.801622",
     "exception": false,
     "start_time": "2023-08-27T09:17:26.768257",
     "status": "completed"
    },
    "tags": []
   },
   "outputs": [
    {
     "name": "stdout",
     "output_type": "stream",
     "text": [
      "Collecting pytorch-metric-learning\r\n",
      "  Downloading pytorch_metric_learning-2.3.0-py3-none-any.whl (115 kB)\r\n",
      "\u001b[2K     \u001b[90m━━━━━━━━━━━━━━━━━━━━━━━━━━━━━━━━━━━━━━━\u001b[0m \u001b[32m115.3/115.3 kB\u001b[0m \u001b[31m4.7 MB/s\u001b[0m eta \u001b[36m0:00:00\u001b[0m\r\n",
      "\u001b[?25hRequirement already satisfied: numpy in /opt/conda/lib/python3.10/site-packages (from pytorch-metric-learning) (1.23.5)\r\n",
      "Requirement already satisfied: scikit-learn in /opt/conda/lib/python3.10/site-packages (from pytorch-metric-learning) (1.2.2)\r\n",
      "Requirement already satisfied: tqdm in /opt/conda/lib/python3.10/site-packages (from pytorch-metric-learning) (4.65.0)\r\n",
      "Requirement already satisfied: torch>=1.6.0 in /opt/conda/lib/python3.10/site-packages (from pytorch-metric-learning) (2.0.0)\r\n",
      "Requirement already satisfied: filelock in /opt/conda/lib/python3.10/site-packages (from torch>=1.6.0->pytorch-metric-learning) (3.12.2)\r\n",
      "Requirement already satisfied: typing-extensions in /opt/conda/lib/python3.10/site-packages (from torch>=1.6.0->pytorch-metric-learning) (4.6.3)\r\n",
      "Requirement already satisfied: sympy in /opt/conda/lib/python3.10/site-packages (from torch>=1.6.0->pytorch-metric-learning) (1.12)\r\n",
      "Requirement already satisfied: networkx in /opt/conda/lib/python3.10/site-packages (from torch>=1.6.0->pytorch-metric-learning) (3.1)\r\n",
      "Requirement already satisfied: jinja2 in /opt/conda/lib/python3.10/site-packages (from torch>=1.6.0->pytorch-metric-learning) (3.1.2)\r\n",
      "Requirement already satisfied: scipy>=1.3.2 in /opt/conda/lib/python3.10/site-packages (from scikit-learn->pytorch-metric-learning) (1.11.1)\r\n",
      "Requirement already satisfied: joblib>=1.1.1 in /opt/conda/lib/python3.10/site-packages (from scikit-learn->pytorch-metric-learning) (1.2.0)\r\n",
      "Requirement already satisfied: threadpoolctl>=2.0.0 in /opt/conda/lib/python3.10/site-packages (from scikit-learn->pytorch-metric-learning) (3.1.0)\r\n",
      "Requirement already satisfied: MarkupSafe>=2.0 in /opt/conda/lib/python3.10/site-packages (from jinja2->torch>=1.6.0->pytorch-metric-learning) (2.1.3)\r\n",
      "Requirement already satisfied: mpmath>=0.19 in /opt/conda/lib/python3.10/site-packages (from sympy->torch>=1.6.0->pytorch-metric-learning) (1.3.0)\r\n",
      "Installing collected packages: pytorch-metric-learning\r\n",
      "Successfully installed pytorch-metric-learning-2.3.0\r\n"
     ]
    }
   ],
   "source": [
    "!pip install pytorch-metric-learning"
   ]
  },
  {
   "cell_type": "code",
   "execution_count": 3,
   "id": "e2117a30",
   "metadata": {
    "execution": {
     "iopub.execute_input": "2023-08-27T09:17:39.831938Z",
     "iopub.status.busy": "2023-08-27T09:17:39.830964Z",
     "iopub.status.idle": "2023-08-27T09:17:43.353841Z",
     "shell.execute_reply": "2023-08-27T09:17:43.352878Z"
    },
    "papermill": {
     "duration": 3.540114,
     "end_time": "2023-08-27T09:17:43.356211",
     "exception": false,
     "start_time": "2023-08-27T09:17:39.816097",
     "status": "completed"
    },
    "tags": []
   },
   "outputs": [],
   "source": [
    "# model.py\n",
    "\n",
    "import torch\n",
    "import torch.nn as nn\n",
    "import torch.nn.functional as F\n",
    "import torchvision.models as models\n",
    "import torchvision\n",
    "\n",
    "class ResNet(nn.Module):\n",
    "    \"\"\"encoder + classifier\"\"\"\n",
    "    def __init__(self, name='resnet50', num_classes=2):\n",
    "        super(ResNet, self).__init__()\n",
    "        if (name == 'resnet50'):\n",
    "            self.encoder = torchvision.models.resnet50(zero_init_residual=True)\n",
    "            self.encoder.conv1 = nn.Conv2d(1, 64, kernel_size=(7, 7), stride=(2, 2), padding=(3, 3), bias=False)\n",
    "            self.encoder.fc = nn.Identity()\n",
    "            self.fc = nn.Linear(2048, num_classes)\n",
    "        else:\n",
    "            self.encoder = torchvision.models.resnet18(zero_init_residual=True)\n",
    "            self.encoder.conv1 = nn.Conv2d(1, 64, kernel_size=(7, 7), stride=(2, 2), padding=(3, 3), bias=False)\n",
    "            self.encoder.fc = nn.Identity()\n",
    "            self.fc = nn.Linear(512, num_classes)\n",
    "    def forward(self, x):\n",
    "\n",
    "        return self.fc(self.encoder(x))\n",
    "\n"
   ]
  },
  {
   "cell_type": "code",
   "execution_count": 4,
   "id": "e575ca07",
   "metadata": {
    "execution": {
     "iopub.execute_input": "2023-08-27T09:17:43.384731Z",
     "iopub.status.busy": "2023-08-27T09:17:43.384232Z",
     "iopub.status.idle": "2023-08-27T09:17:43.392252Z",
     "shell.execute_reply": "2023-08-27T09:17:43.391253Z"
    },
    "papermill": {
     "duration": 0.024668,
     "end_time": "2023-08-27T09:17:43.394574",
     "exception": false,
     "start_time": "2023-08-27T09:17:43.369906",
     "status": "completed"
    },
    "tags": []
   },
   "outputs": [],
   "source": [
    "class Prj_Head(nn.Module):\n",
    "    def __init__(self,in_dim,feature_dim):\n",
    "        super(Prj_Head, self).__init__()\n",
    "        \n",
    "        self.g1 = nn.Sequential(nn.Linear(in_dim, 1024, bias=False),\n",
    "                               nn.BatchNorm1d(1024),\n",
    "                               nn.ReLU(inplace=True)\n",
    "                               )\n",
    "        self.g2 = nn.Sequential(nn.Linear(1024, 512, bias=False),\n",
    "                                nn.BatchNorm1d(512),\n",
    "                                nn.ReLU(inplace=True)\n",
    "                                )\n",
    "        self.g3=nn.Linear(512, feature_dim, bias=True)\n",
    "    def forward(self, x):\n",
    "        # print(x.shape)\n",
    "        x = torch.flatten(x, start_dim=1, end_dim=- 1) \n",
    "        x = self.g1(x)\n",
    "        x = self.g2(x)\n",
    "        x = self.g3(x)\n",
    "        return x"
   ]
  },
  {
   "cell_type": "code",
   "execution_count": 5,
   "id": "04c1d161",
   "metadata": {
    "execution": {
     "iopub.execute_input": "2023-08-27T09:17:43.422676Z",
     "iopub.status.busy": "2023-08-27T09:17:43.422144Z",
     "iopub.status.idle": "2023-08-27T09:17:43.429552Z",
     "shell.execute_reply": "2023-08-27T09:17:43.428747Z"
    },
    "papermill": {
     "duration": 0.023546,
     "end_time": "2023-08-27T09:17:43.431522",
     "exception": false,
     "start_time": "2023-08-27T09:17:43.407976",
     "status": "completed"
    },
    "tags": []
   },
   "outputs": [],
   "source": [
    "class Encdr(nn.Module):\n",
    "    \"\"\"encoder + classifier\"\"\"\n",
    "    def __init__(self, name='resnet50', num_classes=2):\n",
    "        super(Encdr, self).__init__()\n",
    "        self.encoder = torchvision.models.resnet50(pretrained=True, zero_init_residual=True)\n",
    "        self.encoder.conv1 = nn.Conv2d(1, 64, kernel_size=(7, 7), stride=(2, 2), padding=(3, 3), bias=False)\n",
    "        self.encoder.fc = nn.Identity()\n",
    "        self.fc = nn.Linear(2048, 512)\n",
    "\n",
    "    def forward(self, x):\n",
    "\n",
    "        return self.fc(self.encoder(x))\n",
    "    \n",
    "    def add_feature(self):\n",
    "        self.fc1=nn.Linear(512,2)\n",
    "\n",
    "        "
   ]
  },
  {
   "cell_type": "code",
   "execution_count": 6,
   "id": "91cbd586",
   "metadata": {
    "execution": {
     "iopub.execute_input": "2023-08-27T09:17:43.459755Z",
     "iopub.status.busy": "2023-08-27T09:17:43.459257Z",
     "iopub.status.idle": "2023-08-27T09:17:43.475982Z",
     "shell.execute_reply": "2023-08-27T09:17:43.475144Z"
    },
    "papermill": {
     "duration": 0.032642,
     "end_time": "2023-08-27T09:17:43.477992",
     "exception": false,
     "start_time": "2023-08-27T09:17:43.445350",
     "status": "completed"
    },
    "tags": []
   },
   "outputs": [],
   "source": [
    "# datasets.py\n",
    "\n",
    "import torch.utils.data as data\n",
    "from PIL import Image\n",
    "import numpy as np\n",
    "import pandas as pd\n",
    "import os\n",
    "\n",
    "class OLIVES(data.Dataset):\n",
    "    def __init__(self,df, img_dir, transforms):\n",
    "        self.img_dir = img_dir\n",
    "        self.transforms = transforms\n",
    "        self.df = pd.read_csv(df)\n",
    "    def __len__(self):\n",
    "        return len(self.df)\n",
    "\n",
    "    def __getitem__(self, idx):\n",
    "        path = self.img_dir + self.df.iloc[idx,0]\n",
    "        image = Image.open(path).convert(\"L\")\n",
    "        image = np.array(image)\n",
    "        image = Image.fromarray(image)\n",
    "        image = self.transforms(image)\n",
    "        b1 = self.df.iloc[idx,1]\n",
    "        b2 = self.df.iloc[idx,2]\n",
    "        b3 = self.df.iloc[idx,3]\n",
    "        b4 = self.df.iloc[idx, 4]\n",
    "        b5 = self.df.iloc[idx, 5]\n",
    "        b6 = self.df.iloc[idx, 6]\n",
    "        bio_tensor = torch.tensor([b1, b2, b3, b4, b5, b6])\n",
    "        return image, bio_tensor\n",
    "\n",
    "\n",
    "\n",
    "\n",
    "class RECOVERY(data.Dataset):\n",
    "    def __init__(self,df, img_dir, transforms):\n",
    "        self.img_dir = img_dir\n",
    "        self.transforms = transforms\n",
    "        self.df = pd.read_csv(df)\n",
    "    def __len__(self):\n",
    "        return len(self.df)\n",
    "\n",
    "    def __getitem__(self, idx):\n",
    "        path = self.img_dir + self.df.iloc[idx,0]\n",
    "        image = Image.open(path).convert(\"L\")\n",
    "        image = np.array(image)\n",
    "        image = Image.fromarray(image)\n",
    "        image = self.transforms(image)\n",
    "        return image\n",
    "\n",
    "\n",
    "\n",
    "class RECOVERY_TEST(data.Dataset):\n",
    "    def __init__(self,df, img_dir, transforms):\n",
    "        self.img_dir = img_dir\n",
    "        self.transforms = transforms\n",
    "        self.df = pd.read_csv(df)\n",
    "    def __len__(self):\n",
    "        return len(self.df)\n",
    "\n",
    "    def __getitem__(self, idx):\n",
    "        path = self.img_dir + self.df.iloc[idx,0]\n",
    "        image = Image.open(path).convert(\"L\")\n",
    "        image = np.array(image)\n",
    "        image = Image.fromarray(image)\n",
    "        image = self.transforms(image)\n",
    "        b1 = self.df.iloc[idx,1]\n",
    "        b2 = self.df.iloc[idx,2]\n",
    "        b3 = self.df.iloc[idx,3]\n",
    "        b4 = self.df.iloc[idx, 4]\n",
    "        b5 = self.df.iloc[idx, 5]\n",
    "        b6 = self.df.iloc[idx, 6]\n",
    "        bio_tensor = torch.tensor([b1, b2, b3, b4, b5, b6])\n",
    "        return image, bio_tensor\n"
   ]
  },
  {
   "cell_type": "code",
   "execution_count": 7,
   "id": "1ab8af0f",
   "metadata": {
    "execution": {
     "iopub.execute_input": "2023-08-27T09:17:43.506217Z",
     "iopub.status.busy": "2023-08-27T09:17:43.505425Z",
     "iopub.status.idle": "2023-08-27T09:17:43.516208Z",
     "shell.execute_reply": "2023-08-27T09:17:43.515419Z"
    },
    "papermill": {
     "duration": 0.026801,
     "end_time": "2023-08-27T09:17:43.518150",
     "exception": false,
     "start_time": "2023-08-27T09:17:43.491349",
     "status": "completed"
    },
    "tags": []
   },
   "outputs": [],
   "source": [
    "# data_preprocessing.py\n",
    "\n",
    "import pandas as pd\n",
    "import numpy as np\n",
    "\n",
    "import matplotlib.pyplot as plt\n",
    "import glob\n",
    "from tqdm import tqdm\n",
    "from PIL import Image\n",
    "\n",
    "def combine_excel(csv_dir):\n",
    "    filenames = glob.glob(csv_dir + \"/*.xlsx\")\n",
    "    outputxlsx = pd.DataFrame()\n",
    "\n",
    "    for file in filenames:\n",
    "        df = pd.concat(pd.read_excel(file, sheet_name=None), ignore_index=True, sort=False)\n",
    "        outputxlsx = outputxlsx.append(df, ignore_index=True)\n",
    "\n",
    "    outputxlsx.to_csv('test_set_labels.csv',index=False)\n",
    "\n",
    "def analyze_dataframe(csv_dir):\n",
    "    pass\n",
    "\n",
    "def process_images(csv_dir):\n",
    "    df = pd.read_csv(csv_dir)\n",
    "\n",
    "    for i in tqdm(range(0,len(df))):\n",
    "        path = df.iloc[i,0]\n",
    "        im = Image.open(path).convert('L')\n",
    "\n",
    "\n",
    "def numpy_submission(sub_dir,np_dir):\n",
    "    np_file  = np.load(np_dir)\n",
    "    print(len(np_file))\n",
    "    sub_dir = pd.read_csv(sub_dir)\n",
    "    print(len(sub_dir))\n",
    "    for i in range(0,len(sub_dir)):\n",
    "        sub_dir.iloc[i,1] = np_file[i,0]\n",
    "        sub_dir.iloc[i, 2] = np_file[i, 1]\n",
    "        sub_dir.iloc[i, 3] = np_file[i, 2]\n",
    "        sub_dir.iloc[i, 4] = np_file[i, 3]\n",
    "        sub_dir.iloc[i, 5] = np_file[i, 4]\n",
    "        sub_dir.iloc[i, 6] = np_file[i, 5]\n",
    "    print(sub_dir.head())\n",
    "    sub_dir.to_csv('baseline_result.csv',index=False)\n",
    "\n",
    "\n",
    "\n",
    "    #process_images(csv_dir)"
   ]
  },
  {
   "cell_type": "code",
   "execution_count": 8,
   "id": "0075d9fb",
   "metadata": {
    "execution": {
     "iopub.execute_input": "2023-08-27T09:17:43.546285Z",
     "iopub.status.busy": "2023-08-27T09:17:43.546030Z",
     "iopub.status.idle": "2023-08-27T09:17:43.576231Z",
     "shell.execute_reply": "2023-08-27T09:17:43.575419Z"
    },
    "papermill": {
     "duration": 0.046858,
     "end_time": "2023-08-27T09:17:43.578353",
     "exception": false,
     "start_time": "2023-08-27T09:17:43.531495",
     "status": "completed"
    },
    "tags": []
   },
   "outputs": [],
   "source": [
    "from __future__ import print_function\n",
    "\n",
    "import math\n",
    "import numpy as np\n",
    "import torch.optim as optim\n",
    "import os\n",
    "from sklearn.metrics import f1_score\n",
    "import torch.backends.cudnn as cudnn\n",
    "from torchvision import transforms, datasets\n",
    "from torch.utils.data import random_split, Subset, SubsetRandomSampler\n",
    "\n",
    "import torch.nn as nn\n",
    "def set_model(opt, freeze = False):\n",
    "\n",
    "\n",
    "    device = opt.device\n",
    "    model = ResNet(name=opt.model,num_classes = opt.ncls)\n",
    "    if freeze:\n",
    "        model.encoder.requires_grad_(False)\n",
    "    criterion = torch.nn.BCEWithLogitsLoss()\n",
    "\n",
    "    model = model.to(device)\n",
    "    criterion = criterion.to(device)\n",
    "\n",
    "\n",
    "    return model, criterion\n",
    "\n",
    "\n",
    "# model for self supervised training\n",
    "\n",
    "def set_model_st(opt,Net):\n",
    "\n",
    "\n",
    "    device = opt.device\n",
    "    #model = Encdr(name=opt.model,num_classes = opt.ncls)\n",
    "    model = nn.Sequential(\n",
    "    Net, \n",
    "    nn.Linear(512, 1024, bias=False),\n",
    "    nn.BatchNorm1d(1024),\n",
    "    nn.ReLU(inplace=True),\n",
    "    nn.Linear(1024, 512, bias=False),\n",
    "    nn.BatchNorm1d(512),\n",
    "    nn.ReLU(inplace=True),\n",
    "    nn.Linear(512, 6, bias=True))\n",
    "    \n",
    "    criterion = torch.nn.BCEWithLogitsLoss()\n",
    "\n",
    "    model = model.to(device)\n",
    "    criterion = criterion.to(device)\n",
    "\n",
    "\n",
    "    return model, criterion\n",
    "\n",
    "\n",
    "\n",
    "\n",
    "def set_loader(opt):\n",
    "    # construct data loader\n",
    "    if opt.dataset == 'OLIVES' or opt.dataset == 'RECOVERY':\n",
    "        mean = (.1706)\n",
    "        std = (.2112)\n",
    "    else:\n",
    "        raise ValueError('dataset not supported: {}'.format(opt.dataset))\n",
    "\n",
    "    normalize = transforms.Normalize(mean=mean, std=std)\n",
    "\n",
    "    train_transform = transforms.Compose([\n",
    "        transforms.RandomResizedCrop(size=224, scale=(0.95, 1.)),\n",
    "        #transforms.RandomHorizontalFlip(),\n",
    "\n",
    "        transforms.RandomApply([\n",
    "            transforms.ColorJitter(0.4, 0.4, 0.4, 0.1)\n",
    "        ], p=0.8),\n",
    "        transforms.RandomGrayscale(p=0.5),\n",
    "        transforms.RandomRotation(degrees=10),\n",
    "        transforms.ToTensor(),\n",
    "        normalize,\n",
    "    ])\n",
    "\n",
    "    val_transform = transforms.Compose([\n",
    "        transforms.Resize((224,224)),\n",
    "        transforms.ToTensor(),\n",
    "        normalize,\n",
    "    ])\n",
    "\n",
    "\n",
    "    if opt.dataset =='OLIVES':\n",
    "        data_path_train = opt.train_image_path\n",
    "        data_path_test = opt.test_image_path\n",
    "        train_dataset = OLIVES(csv_path_train,data_path_train,transforms = train_transform)\n",
    "        unlabelled_train_dataset = RECOVERY(csv_path_unlabelled,data_path_train,transforms = val_transform)\n",
    "        val_dataset = OLIVES(csv_path_valid,data_path_train,transforms = val_transform)\n",
    "        test_dataset = RECOVERY(csv_path_test,data_path_test,transforms = val_transform)\n",
    "        \n",
    "        # Create a random sampler for the subset\n",
    "        np.random.seed(121)\n",
    "        random_indices = np.random.choice(len(unlabelled_train_dataset), unlabel_count, replace=False)\n",
    "        subset_sampler = SubsetRandomSampler(random_indices)\n",
    "\n",
    "    else:\n",
    "        raise ValueError(opt.dataset)\n",
    "\n",
    "    train_loader = torch.utils.data.DataLoader(\n",
    "        train_dataset, batch_size=opt.batch_size, shuffle=True,\n",
    "        num_workers=opt.num_workers, pin_memory=True)\n",
    "    \n",
    "    val_loader = torch.utils.data.DataLoader(\n",
    "        val_dataset, batch_size=1, shuffle=False,\n",
    "        num_workers=0, pin_memory=True,drop_last=False)\n",
    "    \n",
    "    test_loader = torch.utils.data.DataLoader(\n",
    "        test_dataset, batch_size=1, shuffle=False,\n",
    "        num_workers=0, pin_memory=True,drop_last=False)\n",
    "    \n",
    "    unlabelled_train_loader = torch.utils.data.DataLoader(unlabelled_train_dataset,\n",
    "        sampler=subset_sampler, batch_size=opt.batch_size,\n",
    "        num_workers=opt.num_workers, pin_memory=True)\n",
    "\n",
    "    return train_loader, val_loader, test_loader, unlabelled_train_loader\n",
    "\n",
    "\n",
    "\n",
    "\n",
    "class AverageMeter(object):\n",
    "    \"\"\"Computes and stores the average and current value\"\"\"\n",
    "    def __init__(self):\n",
    "        self.reset()\n",
    "\n",
    "    def reset(self):\n",
    "        self.val = 0\n",
    "        self.avg = 0\n",
    "        self.sum = 0\n",
    "        self.count = 0\n",
    "\n",
    "    def update(self, val, n=1):\n",
    "        self.val = val\n",
    "        self.sum += val * n\n",
    "        self.count += n\n",
    "        self.avg = self.sum / self.count\n",
    "\n",
    "\n",
    "def accuracy(output, target, topk=(1,)):\n",
    "    \"\"\"Computes the accuracy over the k top predictions for the specified values of k\"\"\"\n",
    "    with torch.no_grad():\n",
    "        maxk = max(topk)\n",
    "        batch_size = target.size(0)\n",
    "\n",
    "        _, pred = output.topk(maxk, 1, True, True)\n",
    "        pred = pred.t()\n",
    "        correct = pred.eq(target.view(1, -1).expand_as(pred))\n",
    "\n",
    "        res = []\n",
    "        for k in topk:\n",
    "            correct_k = correct[:k].view(-1).float().sum(0, keepdim=True)\n",
    "            res.append(correct_k.mul_(100.0 / batch_size))\n",
    "        return res\n",
    "\n",
    "\n",
    "def adjust_learning_rate(args, optimizer, epoch):\n",
    "    lr = args.learning_rate\n",
    "    if args.cosine:\n",
    "        eta_min = lr * (args.lr_decay_rate ** 3)\n",
    "        lr = eta_min + (lr - eta_min) * (\n",
    "                1 + math.cos(math.pi * epoch / args.epochs)) / 2\n",
    "    else:\n",
    "        steps = np.sum(epoch > np.asarray(args.lr_decay_epochs))\n",
    "        if steps > 0:\n",
    "            lr = lr * (args.lr_decay_rate ** steps)\n",
    "    for param_group in optimizer.param_groups:\n",
    "        param_group['lr'] = lr\n",
    "\n",
    "\n",
    "def warmup_learning_rate(args, epoch, batch_id, total_batches, optimizer):\n",
    "    if args.warm and epoch <= args.warm_epochs:\n",
    "        p = (batch_id + (epoch - 1) * total_batches) / \\\n",
    "            (args.warm_epochs * total_batches)\n",
    "        lr = args.warmup_from + p * (args.warmup_to - args.warmup_from)\n",
    "\n",
    "        for param_group in optimizer.param_groups:\n",
    "            param_group['lr'] = lr\n",
    "\n",
    "\n",
    "def set_optimizer(opt, model):\n",
    "\n",
    "    optimizer = optim.SGD(model.parameters(),\n",
    "                          lr=opt.learning_rate,\n",
    "                          momentum=opt.momentum,\n",
    "                          weight_decay=opt.weight_decay)\n",
    "    #optimizer = torch.optim.Adam(model.parameters(), lr=opt.learning_rate)\n",
    "\n",
    "    return optimizer\n",
    "\n",
    "\n",
    "def save_model(model, optimizer, opt, epoch, save_file):\n",
    "    print('==> Saving...')\n",
    "    state = {\n",
    "        'opt': opt,\n",
    "        'model': model.state_dict(),\n",
    "        'optimizer': optimizer.state_dict(),\n",
    "        'epoch': epoch,\n",
    "    }\n",
    "    torch.save(state, save_file)\n",
    "    del state"
   ]
  },
  {
   "cell_type": "code",
   "execution_count": 9,
   "id": "b60d43c6",
   "metadata": {
    "execution": {
     "iopub.execute_input": "2023-08-27T09:17:43.606642Z",
     "iopub.status.busy": "2023-08-27T09:17:43.606386Z",
     "iopub.status.idle": "2023-08-27T09:17:43.622758Z",
     "shell.execute_reply": "2023-08-27T09:17:43.621194Z"
    },
    "papermill": {
     "duration": 0.033042,
     "end_time": "2023-08-27T09:17:43.624766",
     "exception": false,
     "start_time": "2023-08-27T09:17:43.591724",
     "status": "completed"
    },
    "tags": []
   },
   "outputs": [
    {
     "name": "stdout",
     "output_type": "stream",
     "text": [
      "Compose(\n",
      "    Resize(size=224, interpolation=bilinear, max_size=None, antialias=warn)\n",
      "    RandomResizedCrop(size=(224, 224), scale=(0.99, 1.0), ratio=(0.75, 1.3333), interpolation=bilinear, antialias=warn)\n",
      "    RandomApply(\n",
      "    p=0.3\n",
      "    ColorJitter(brightness=(0.76, 1.24), contrast=(0.76, 1.24), saturation=(0.76, 1.24), hue=(-0.06, 0.06))\n",
      ")\n",
      "    RandomApply(\n",
      "    p=1\n",
      "    GaussianBlur(kernel_size=(3, 3), sigma=(0.1, 0.2))\n",
      ")\n",
      ")\n"
     ]
    }
   ],
   "source": [
    "#----------------------------------------------------------------------------------------------------\n",
    "# Augmentations\n",
    "from torchvision import transforms\n",
    "class GaussianBlur(object):\n",
    "    \"\"\"Gaussian blur augmentation in SimCLR https://arxiv.org/abs/2002.05709\"\"\"\n",
    "    \"\"\"Borrowed from MoCo implementation\"\"\"\n",
    "\n",
    "    def __init__(self, sigma=[.1, 2.]):\n",
    "        self.sigma = sigma\n",
    "\n",
    "    def __call__(self, x):\n",
    "        sigma = random.uniform(self.sigma[0], self.sigma[1])\n",
    "        x = x.filter(ImageFilter.GaussianBlur(radius=sigma))\n",
    "        return x\n",
    "    \n",
    "class FixedRandomRotation:\n",
    "    \"\"\"Rotate by one of the given angles.\"\"\"\n",
    "    def __init__(self, angles):\n",
    "        self.angles = angles\n",
    "\n",
    "    def __call__(self, x):\n",
    "        angle = random.choice(self.angles)\n",
    "        return transforms.functional.rotate(x, angle)\n",
    "    \n",
    "def torchvision_transforms(eval=False, aug=None):\n",
    "\n",
    "    trans = []\n",
    "\n",
    "    if aug[\"resize\"]:\n",
    "        trans.append(transforms.Resize(aug[\"resize\"]))\n",
    "\n",
    "    if aug[\"randcrop\"] and aug[\"scale\"] and not eval:\n",
    "        trans.append(transforms.RandomResizedCrop(aug[\"randcrop\"], scale=aug[\"scale\"]))\n",
    "\n",
    "    if aug[\"randcrop\"] and eval:\n",
    "        trans.append(transforms.CenterCrop(aug[\"randcrop\"]))\n",
    "\n",
    "    if aug[\"flip\"] and not eval:\n",
    "        trans.append(transforms.RandomHorizontalFlip(p=0.5))\n",
    "        trans.append(transforms.RandomVerticalFlip(p=0.5))\n",
    "\n",
    "    if aug[\"jitter_d\"] and not eval:\n",
    "        trans.append(transforms.RandomApply(\n",
    "            [transforms.ColorJitter(0.8*aug[\"jitter_d\"], 0.8*aug[\"jitter_d\"], 0.8*aug[\"jitter_d\"], 0.2*aug[\"jitter_d\"])],\n",
    "             p=aug[\"jitter_p\"]))\n",
    "\n",
    "    if aug[\"gaussian_blur\"] and not eval:\n",
    "        trans.append(transforms.RandomApply([transforms.GaussianBlur(kernel_size=3, sigma=(0.1,.2))], p=aug[\"gaussian_blur\"]))\n",
    "\n",
    "    if aug[\"rotation\"] and not eval:\n",
    "        # rotation_transform = FixedRandomRotation(angles=[0, 90, 180, 270])\n",
    "        trans.append(FixedRandomRotation(angles=[-10, -9, -8, -7, -6, -5, -4, -3, -2, -1, 0, 1, 2, 3, 4, 5, 6, 7, 8, 9, 10]))\n",
    "\n",
    "\n",
    "    trans = transforms.Compose(trans)\n",
    "   \n",
    "    return trans\n",
    "aug = {\"resize\":224,\n",
    "    \"randcrop\":224,\n",
    "      \"scale\": (0.99, 1.0),\n",
    "      \"flip\":0,\n",
    "      \"jitter_d\":0.3,\n",
    "       \"jitter_p\":0.3,\n",
    "       \"gaussian_blur\":1,\n",
    "       \"rotation\":0\n",
    "      }\n",
    "augmentations = torchvision_transforms(aug = aug)\n",
    "print(augmentations)\n",
    "\n",
    "\n"
   ]
  },
  {
   "cell_type": "code",
   "execution_count": 10,
   "id": "9ba57de3",
   "metadata": {
    "execution": {
     "iopub.execute_input": "2023-08-27T09:17:43.653225Z",
     "iopub.status.busy": "2023-08-27T09:17:43.652964Z",
     "iopub.status.idle": "2023-08-27T09:17:43.673596Z",
     "shell.execute_reply": "2023-08-27T09:17:43.672767Z"
    },
    "papermill": {
     "duration": 0.037036,
     "end_time": "2023-08-27T09:17:43.675547",
     "exception": false,
     "start_time": "2023-08-27T09:17:43.638511",
     "status": "completed"
    },
    "tags": []
   },
   "outputs": [],
   "source": [
    "# config.py\n",
    "\n",
    "import argparse\n",
    "import math\n",
    "import os\n",
    "\n",
    "def parse_option(string):\n",
    "    parser = argparse.ArgumentParser('argument for training')\n",
    "\n",
    "    parser.add_argument('--print_freq', type=int, default=10,\n",
    "                        help='print frequency')\n",
    "    parser.add_argument('--save_freq', type=int, default=50,\n",
    "                        help='save frequency')\n",
    "    parser.add_argument('--batch_size', type=int, default=128,\n",
    "                        help='batch_size')\n",
    "    parser.add_argument('--num_workers', type=int, default=8,\n",
    "                        help='num of workers to use')\n",
    "    parser.add_argument('--epochs', type=int, default=100,\n",
    "                        help='number of training epochs')\n",
    "    parser.add_argument('--device', type=str, default='cuda:0')\n",
    "    # optimization\n",
    "    parser.add_argument('--learning_rate', type=float, default=0.05,\n",
    "                        help='learning rate')\n",
    "    parser.add_argument('--patient_lambda', type=float, default=1,\n",
    "                        help='learning rate')\n",
    "    parser.add_argument('--cluster_lambda', type=float, default=1,\n",
    "                        help='learning rate')\n",
    "    parser.add_argument('--lr_decay_epochs', type=str, default='100',\n",
    "                        help='where to decay lr, can be a list')\n",
    "    parser.add_argument('--lr_decay_rate', type=float, default=0.1,\n",
    "                        help='decay rate for learning rate')\n",
    "    parser.add_argument('--weight_decay', type=float, default=1e-4,\n",
    "                        help='weight decay')\n",
    "    parser.add_argument('--momentum', type=float, default=0.9,\n",
    "                        help='momentum')\n",
    "    parser.add_argument('--train_csv_path', type=str, default='train data csv')\n",
    "    parser.add_argument('--test_csv_path', type=str, default='test data csv')\n",
    "    parser.add_argument('--train_image_path', type=str, default='train data csv')\n",
    "    parser.add_argument('--test_image_path', type=str, default='test data csv')\n",
    "\n",
    "    parser.add_argument('--parallel', type=int, default=1, help='data parallel')\n",
    "    parser.add_argument('--ncls', type=int, default=6, help='Number of Classes')\n",
    "    # model dataset\n",
    "    parser.add_argument('--model', type=str, default='resnet50')\n",
    "    parser.add_argument('--dataset', type=str, default='TREX_DME',\n",
    "                        choices=[ 'OLIVES'], help='dataset')\n",
    "    parser.add_argument('--mean', type=str, help='mean of dataset in path in form of str tuple')\n",
    "    parser.add_argument('--std', type=str, help='std of dataset in path in form of str tuple')\n",
    "    parser.add_argument('--data_folder', type=str, default=None, help='path to custom dataset')\n",
    "    parser.add_argument('--size', type=int, default=128, help='parameter for RandomResizedCrop')\n",
    "\n",
    "    # temperature\n",
    "    parser.add_argument('--temp', type=float, default=0.07,\n",
    "                        help='temperature for loss function')\n",
    "\n",
    "\n",
    "\n",
    "    opt = parser.parse_args(string)\n",
    "\n",
    "    # check if dataset is path that passed required arguments\n",
    "    if opt.dataset == 'path':\n",
    "        assert opt.data_folder is not None \\\n",
    "               and opt.mean is not None \\\n",
    "               and opt.std is not None\n",
    "\n",
    "    # set the path according to the environment\n",
    "    if opt.data_folder is None:\n",
    "        opt.data_folder = './datasets/'\n",
    "    opt.model_path = './save/{}_models'.format(opt.dataset)\n",
    "\n",
    "    iterations = opt.lr_decay_epochs.split(',')\n",
    "    opt.lr_decay_epochs = list([])\n",
    "    for it in iterations:\n",
    "        opt.lr_decay_epochs.append(int(it))\n",
    "\n",
    "    opt.model_name = '{}_lr_{}_decay_{}_bsz_{}_temp_{}'. \\\n",
    "        format(opt.model, opt.learning_rate,\n",
    "               opt.weight_decay, opt.batch_size, opt.temp)\n",
    "\n",
    "\n",
    "    opt.save_folder = os.path.join(opt.model_path, opt.model_name)\n",
    "    if not os.path.isdir(opt.save_folder):\n",
    "        os.makedirs(opt.save_folder)\n",
    "\n",
    "    return opt"
   ]
  },
  {
   "cell_type": "code",
   "execution_count": 11,
   "id": "df7dff60",
   "metadata": {
    "execution": {
     "iopub.execute_input": "2023-08-27T09:17:43.704010Z",
     "iopub.status.busy": "2023-08-27T09:17:43.703176Z",
     "iopub.status.idle": "2023-08-27T09:17:43.727391Z",
     "shell.execute_reply": "2023-08-27T09:17:43.726541Z"
    },
    "papermill": {
     "duration": 0.040683,
     "end_time": "2023-08-27T09:17:43.729484",
     "exception": false,
     "start_time": "2023-08-27T09:17:43.688801",
     "status": "completed"
    },
    "tags": []
   },
   "outputs": [],
   "source": [
    "from pytorch_metric_learning.losses import NTXentLoss\n",
    "ss_loss_func = NTXentLoss(temperature=0.10)\n",
    "\n",
    "def train_ss(Net,projection_head,data_loader, epoch):\n",
    "    Net.train()\n",
    "    projection_head.train()\n",
    "    total_loss = AverageMeter()\n",
    "    for idx, x in enumerate(data_loader): \n",
    "        # print(batch_idx)\n",
    "        optimizer.zero_grad()\n",
    "        x = x.to(device)\n",
    "        # Get data representations\n",
    "        \n",
    "        A1 = augmentations(x)\n",
    "        A2 = augmentations(x)\n",
    "        \n",
    "        h1 = Net(A1)\n",
    "        z1 = projection_head(h1)\n",
    "        \n",
    "        h2 = Net(A2)\n",
    "        z2 = projection_head(h2)\n",
    "        \n",
    "        # Prepare for loss\n",
    "        embeddings = torch.cat((z1, z2))\n",
    "        # The same index corresponds to a positive pair\n",
    "        indices = torch.arange(0, z1.size(0), device=z2.device)\n",
    "        labels = torch.cat((indices, indices))\n",
    "        loss = ss_loss_func(embeddings, labels)\n",
    "        loss.backward()\n",
    "        optimizer.step()\n",
    "        total_loss.update(loss.data.item())\n",
    "        \n",
    "        # print info\n",
    "        if (idx + 1) % 50 == 0:\n",
    "            print('Train: [{0}][{1}/{2}]\\t'.format(\n",
    "                epoch, idx + 1, len(data_loader)))\n",
    "            \n",
    "        del x, A1, A2\n",
    "            \n",
    "    return total_loss.avg"
   ]
  },
  {
   "cell_type": "code",
   "execution_count": 12,
   "id": "1ed55d15",
   "metadata": {
    "execution": {
     "iopub.execute_input": "2023-08-27T09:17:43.759813Z",
     "iopub.status.busy": "2023-08-27T09:17:43.758742Z",
     "iopub.status.idle": "2023-08-27T09:17:43.771491Z",
     "shell.execute_reply": "2023-08-27T09:17:43.770475Z"
    },
    "papermill": {
     "duration": 0.031006,
     "end_time": "2023-08-27T09:17:43.774173",
     "exception": false,
     "start_time": "2023-08-27T09:17:43.743167",
     "status": "completed"
    },
    "tags": []
   },
   "outputs": [],
   "source": [
    "def train_supervised(train_loader, val_loader, model,criterion, optimizer, epoch, opt):\n",
    "    \"\"\"one epoch training\"\"\"\n",
    "    model.train()\n",
    "\n",
    "\n",
    "    batch_time = AverageMeter()\n",
    "    data_time = AverageMeter()\n",
    "    losses = AverageMeter()\n",
    "    device = opt.device\n",
    "    end = time.time()\n",
    "    correct_predictions = 0\n",
    "\n",
    "    for idx, (image, bio_tensor) in enumerate(train_loader):\n",
    "        data_time.update(time.time() - end)\n",
    "\n",
    "        images = image.to(device)\n",
    "\n",
    "        labels = bio_tensor.float()\n",
    "\n",
    "        labels = labels.to(device)\n",
    "        bsz = labels.shape[0]\n",
    "\n",
    "        # compute loss\n",
    "        output = model(images)\n",
    "        loss = criterion(output, labels)\n",
    "        \n",
    "        # Calculate training accuracy\n",
    "        predicted_labels = torch.round(torch.sigmoid(output)) \n",
    "        correct_predictions += (predicted_labels == labels).sum().item()\n",
    "\n",
    "        # update metric\n",
    "        losses.update(loss.item(), bsz)\n",
    "\n",
    "        # SGD\n",
    "        optimizer.zero_grad()\n",
    "        loss.backward()\n",
    "        optimizer.step()\n",
    "\n",
    "        # measure elapsed time\n",
    "        batch_time.update(time.time() - end)\n",
    "        end = time.time()\n",
    "\n",
    "        # print info\n",
    "        if (idx + 1) % 10 == 0:\n",
    "            print('Train: [{0}][{1}/{2}]\\t'.format(\n",
    "                epoch, idx + 1, len(train_loader)))\n",
    "\n",
    "            sys.stdout.flush()\n",
    "\n",
    "    total_values = len(train_loader.dataset) * 6\n",
    "    training_accuracy = (correct_predictions / total_values) * 100.0\n",
    "    print(f\"Training Accuracy: {training_accuracy:.2f}%\")\n",
    "    print(\"Training loss:\", losses.avg)\n",
    "    \n",
    "    return losses.avg\n"
   ]
  },
  {
   "cell_type": "code",
   "execution_count": 13,
   "id": "8b51fca3",
   "metadata": {
    "execution": {
     "iopub.execute_input": "2023-08-27T09:17:43.807496Z",
     "iopub.status.busy": "2023-08-27T09:17:43.806586Z",
     "iopub.status.idle": "2023-08-27T09:17:43.815941Z",
     "shell.execute_reply": "2023-08-27T09:17:43.814877Z"
    },
    "papermill": {
     "duration": 0.028213,
     "end_time": "2023-08-27T09:17:43.818243",
     "exception": false,
     "start_time": "2023-08-27T09:17:43.790030",
     "status": "completed"
    },
    "tags": []
   },
   "outputs": [],
   "source": [
    "def submission_generate(val_loader, model, opt, epoch = 'final'):\n",
    "    \"\"\"validation\"\"\"\n",
    "    model.eval()\n",
    "\n",
    "    device = opt.device\n",
    "    out_list = []\n",
    "    with torch.no_grad():\n",
    "        for idx, image in (enumerate(val_loader)):\n",
    "\n",
    "            images = image.float().to(device)\n",
    "\n",
    "            # forward\n",
    "            output = model(images)\n",
    "            output = torch.round(torch.sigmoid(output))\n",
    "            out_list.append(output.squeeze().detach().cpu().numpy())\n",
    "\n",
    "\n",
    "    out_submisison = np.array(out_list)\n",
    "    np.save('output',out_submisison)\n",
    "    \n",
    "    output = np.load('/kaggle/working/output.npy')\n",
    "    submission = pd.read_csv(\"/kaggle/input/olives-vip-cup-2023/2023 IEEE SPS Video and Image Processing (VIP) Cup - Ophthalmic Biomarker Detection/TEST/test_set_submission_template.csv\")\n",
    "    submission.iloc[:, 1:] = output\n",
    "    submission.to_csv(f\"/kaggle/working/submission{epoch}.csv\", index = False)\n"
   ]
  },
  {
   "cell_type": "code",
   "execution_count": 14,
   "id": "c2a6fa1f",
   "metadata": {
    "execution": {
     "iopub.execute_input": "2023-08-27T09:17:43.851626Z",
     "iopub.status.busy": "2023-08-27T09:17:43.850663Z",
     "iopub.status.idle": "2023-08-27T09:17:43.861114Z",
     "shell.execute_reply": "2023-08-27T09:17:43.860150Z"
    },
    "papermill": {
     "duration": 0.029455,
     "end_time": "2023-08-27T09:17:43.863400",
     "exception": false,
     "start_time": "2023-08-27T09:17:43.833945",
     "status": "completed"
    },
    "tags": []
   },
   "outputs": [],
   "source": [
    "def sample_evaluation(val_loader, model, opt):\n",
    "    \"\"\"validation\"\"\"\n",
    "    model.eval()\n",
    "\n",
    "    device = opt.device\n",
    "    out_list = []\n",
    "    label_list = []\n",
    "    correct_count = 0\n",
    "    total_count = 0\n",
    "\n",
    "    with torch.no_grad():\n",
    "        for idx, (image,bio_tensor) in (enumerate(val_loader)):\n",
    "\n",
    "            images = image.float().to(device)\n",
    "            labels = bio_tensor.float().to(device)\n",
    "\n",
    "            labels = labels.float()\n",
    "\n",
    "            label_list.append(labels.squeeze().detach().cpu().numpy())\n",
    "            # forward\n",
    "            output = model(images)\n",
    "            output = torch.round(torch.sigmoid(output))\n",
    "            out_list.append(output.squeeze().detach().cpu().numpy())\n",
    "            \n",
    "            correct_count += (labels == output).sum().item()\n",
    "            total_count += len(labels) * 6\n",
    "        \n",
    "    print(\"Validation accuracy:\", (correct_count / total_count) * 100, \"%\")\n",
    "\n",
    "    label_array = np.array(label_list)\n",
    "    out_array = np.array(out_list)\n",
    "    f = f1_score(label_array,out_array,average='macro')\n",
    "    print(\"Validation F1:\", f)\n",
    "    \n",
    "    return f"
   ]
  },
  {
   "cell_type": "code",
   "execution_count": 15,
   "id": "05f87328",
   "metadata": {
    "execution": {
     "iopub.execute_input": "2023-08-27T09:17:43.895508Z",
     "iopub.status.busy": "2023-08-27T09:17:43.894661Z",
     "iopub.status.idle": "2023-08-27T09:17:43.902925Z",
     "shell.execute_reply": "2023-08-27T09:17:43.902076Z"
    },
    "papermill": {
     "duration": 0.026126,
     "end_time": "2023-08-27T09:17:43.904883",
     "exception": false,
     "start_time": "2023-08-27T09:17:43.878757",
     "status": "completed"
    },
    "tags": []
   },
   "outputs": [],
   "source": [
    "def sample_evaluation_acc(val_loader, model, opt):\n",
    "    \"\"\"validation\"\"\"\n",
    "    model.eval()\n",
    "\n",
    "    device = opt.device\n",
    "    out_list = []\n",
    "    label_list = []\n",
    "    correct_count = 0\n",
    "    total_count = 0\n",
    "\n",
    "    with torch.no_grad():\n",
    "        for idx, (image,bio_tensor) in (enumerate(val_loader)):\n",
    "\n",
    "            images = image.float().to(device)\n",
    "            labels = bio_tensor.float().to(device)\n",
    "\n",
    "            labels = labels.float()\n",
    "\n",
    "            #label_list.append(labels.squeeze().detach().cpu().numpy())\n",
    "            # forward\n",
    "            output = model(images)\n",
    "            output = torch.round(torch.sigmoid(output))\n",
    "            #out_list.append(output.squeeze().detach().cpu().numpy())\n",
    "            \n",
    "            correct_count += (labels == output).sum().item()\n",
    "            total_count += len(labels) * 6\n",
    "        \n",
    "    print((correct_count / total_count) * 100, \"%\")\n",
    "\n"
   ]
  },
  {
   "cell_type": "code",
   "execution_count": 16,
   "id": "2b0cf75a",
   "metadata": {
    "execution": {
     "iopub.execute_input": "2023-08-27T09:17:43.933706Z",
     "iopub.status.busy": "2023-08-27T09:17:43.932906Z",
     "iopub.status.idle": "2023-08-27T09:17:43.937864Z",
     "shell.execute_reply": "2023-08-27T09:17:43.936824Z"
    },
    "papermill": {
     "duration": 0.021735,
     "end_time": "2023-08-27T09:17:43.939897",
     "exception": false,
     "start_time": "2023-08-27T09:17:43.918162",
     "status": "completed"
    },
    "tags": []
   },
   "outputs": [],
   "source": [
    "def load_model(model, load_file, key = 'model'):\n",
    "    print('==> Loading...')\n",
    "    checkpoint = torch.load(load_file)\n",
    "    model.load_state_dict(checkpoint[key])\n",
    "    return model"
   ]
  },
  {
   "cell_type": "code",
   "execution_count": 17,
   "id": "53a40dc7",
   "metadata": {
    "execution": {
     "iopub.execute_input": "2023-08-27T09:17:43.969498Z",
     "iopub.status.busy": "2023-08-27T09:17:43.968708Z",
     "iopub.status.idle": "2023-08-27T09:17:43.974143Z",
     "shell.execute_reply": "2023-08-27T09:17:43.973261Z"
    },
    "papermill": {
     "duration": 0.022597,
     "end_time": "2023-08-27T09:17:43.976245",
     "exception": false,
     "start_time": "2023-08-27T09:17:43.953648",
     "status": "completed"
    },
    "tags": []
   },
   "outputs": [],
   "source": [
    "if not os.path.isdir('/kaggle/working/supervised'):\n",
    "    os.makedirs('/kaggle/working/supervised')\n",
    "if not os.path.isdir('/kaggle/working/unsupervised'):\n",
    "    os.makedirs('/kaggle/working/unsupervised')"
   ]
  },
  {
   "cell_type": "code",
   "execution_count": 18,
   "id": "7b16f157",
   "metadata": {
    "execution": {
     "iopub.execute_input": "2023-08-27T09:17:44.004615Z",
     "iopub.status.busy": "2023-08-27T09:17:44.004063Z",
     "iopub.status.idle": "2023-08-27T09:17:44.012251Z",
     "shell.execute_reply": "2023-08-27T09:17:44.011420Z"
    },
    "papermill": {
     "duration": 0.024339,
     "end_time": "2023-08-27T09:17:44.014185",
     "exception": false,
     "start_time": "2023-08-27T09:17:43.989846",
     "status": "completed"
    },
    "tags": []
   },
   "outputs": [],
   "source": [
    "args = args = ['--batch_size', '64', '--model', \"resnet50\", '--dataset', 'OLIVES', '--epochs', '2', '--device', 'cuda:0', '--train_image_path', '/kaggle/input/olives-vip-cup-2023/2023 IEEE SPS Video and Image Processing (VIP) Cup - Ophthalmic Biomarker Detection/TRAIN/OLIVES', '--test_image_path', '/kaggle/input/olives-vip-cup-2023/2023 IEEE SPS Video and Image Processing (VIP) Cup - Ophthalmic Biomarker Detection/TEST/', '--test_csv_path', '/kaggle/input/olives-vip-cup-2023/2023 IEEE SPS Video and Image Processing (VIP) Cup - Ophthalmic Biomarker Detection/TEST/test_set_submission_template.csv', '--train_csv_path', '/kaggle/input/olives-training-labels/Training_Biomarker_Data.csv']\n",
    "opt = parse_option(args)\n",
    "\n",
    "# CSV paths\n",
    "csv_path_train = \"/kaggle/input/olives-training-labels/training_split_biomarker_data.csv\"\n",
    "csv_path_valid = \"/kaggle/input/olives-training-labels/validation_biomarker_data.csv\"\n",
    "csv_path_test = \"/kaggle/input/olives-vip-cup-2023/2023 IEEE SPS Video and Image Processing (VIP) Cup - Ophthalmic Biomarker Detection/TEST/test_set_submission_template.csv\"\n",
    "csv_path_unlabelled = \"/kaggle/input/olives-training-labels/unlabelled_images.csv\""
   ]
  },
  {
   "cell_type": "code",
   "execution_count": null,
   "id": "550384aa",
   "metadata": {
    "papermill": {
     "duration": 0.012856,
     "end_time": "2023-08-27T09:17:44.040130",
     "exception": false,
     "start_time": "2023-08-27T09:17:44.027274",
     "status": "completed"
    },
    "tags": []
   },
   "outputs": [],
   "source": []
  },
  {
   "cell_type": "code",
   "execution_count": 19,
   "id": "7d381313",
   "metadata": {
    "execution": {
     "iopub.execute_input": "2023-08-27T09:17:44.067726Z",
     "iopub.status.busy": "2023-08-27T09:17:44.067003Z",
     "iopub.status.idle": "2023-08-27T09:17:44.337770Z",
     "shell.execute_reply": "2023-08-27T09:17:44.335655Z"
    },
    "papermill": {
     "duration": 0.286784,
     "end_time": "2023-08-27T09:17:44.339928",
     "exception": false,
     "start_time": "2023-08-27T09:17:44.053144",
     "status": "completed"
    },
    "tags": []
   },
   "outputs": [
    {
     "name": "stderr",
     "output_type": "stream",
     "text": [
      "/opt/conda/lib/python3.10/site-packages/torch/utils/data/dataloader.py:561: UserWarning: This DataLoader will create 8 worker processes in total. Our suggested max number of worker in current system is 2, which is smaller than what this DataLoader is going to create. Please be aware that excessive worker creation might get DataLoader running slow or even freeze, lower the worker number to avoid potential slowness/freeze if necessary.\n",
      "  warnings.warn(_create_warning_msg(\n"
     ]
    }
   ],
   "source": [
    "# build data loader\n",
    "unlabel_count = 80000\n",
    "train_loader, val_loader, test_loader, unlabelled_train_loader = set_loader(opt)"
   ]
  },
  {
   "cell_type": "code",
   "execution_count": null,
   "id": "f2bb3120",
   "metadata": {
    "papermill": {
     "duration": 0.012998,
     "end_time": "2023-08-27T09:17:44.366778",
     "exception": false,
     "start_time": "2023-08-27T09:17:44.353780",
     "status": "completed"
    },
    "tags": []
   },
   "outputs": [],
   "source": []
  },
  {
   "cell_type": "code",
   "execution_count": null,
   "id": "c4499ac9",
   "metadata": {
    "papermill": {
     "duration": 0.013376,
     "end_time": "2023-08-27T09:17:44.393265",
     "exception": false,
     "start_time": "2023-08-27T09:17:44.379889",
     "status": "completed"
    },
    "tags": []
   },
   "outputs": [],
   "source": []
  },
  {
   "cell_type": "code",
   "execution_count": 20,
   "id": "082f2598",
   "metadata": {
    "execution": {
     "iopub.execute_input": "2023-08-27T09:17:44.421005Z",
     "iopub.status.busy": "2023-08-27T09:17:44.420701Z",
     "iopub.status.idle": "2023-08-27T09:17:44.425080Z",
     "shell.execute_reply": "2023-08-27T09:17:44.424055Z"
    },
    "papermill": {
     "duration": 0.020855,
     "end_time": "2023-08-27T09:17:44.427319",
     "exception": false,
     "start_time": "2023-08-27T09:17:44.406464",
     "status": "completed"
    },
    "tags": []
   },
   "outputs": [],
   "source": [
    "##### UNSUPERVISED LEARNING PART"
   ]
  },
  {
   "cell_type": "code",
   "execution_count": 21,
   "id": "e0d44926",
   "metadata": {
    "execution": {
     "iopub.execute_input": "2023-08-27T09:17:44.455130Z",
     "iopub.status.busy": "2023-08-27T09:17:44.454863Z",
     "iopub.status.idle": "2023-08-27T09:17:44.460256Z",
     "shell.execute_reply": "2023-08-27T09:17:44.459411Z"
    },
    "papermill": {
     "duration": 0.021615,
     "end_time": "2023-08-27T09:17:44.462224",
     "exception": false,
     "start_time": "2023-08-27T09:17:44.440609",
     "status": "completed"
    },
    "tags": []
   },
   "outputs": [],
   "source": [
    "#--------------------------------------------------------------------------\n",
    "# device = torch.device(\"cuda:0\" )\n",
    "# Net = Encdr().to(device)\n",
    "# projection_head = Prj_Head(512,128).to(device)\n",
    "\n",
    "# optimizer = torch.optim.Adam(list(Net.parameters())+list(projection_head.parameters()), lr=0.001)\n",
    "# scheduler = torch.optim.lr_scheduler.StepLR(optimizer, step_size=20, gamma=0.5)\n",
    "\n",
    "# #train(Net,projection_head,train_loader)"
   ]
  },
  {
   "cell_type": "code",
   "execution_count": 22,
   "id": "2c79c9d4",
   "metadata": {
    "execution": {
     "iopub.execute_input": "2023-08-27T09:17:44.490332Z",
     "iopub.status.busy": "2023-08-27T09:17:44.490070Z",
     "iopub.status.idle": "2023-08-27T09:17:44.494738Z",
     "shell.execute_reply": "2023-08-27T09:17:44.493753Z"
    },
    "papermill": {
     "duration": 0.020898,
     "end_time": "2023-08-27T09:17:44.497102",
     "exception": false,
     "start_time": "2023-08-27T09:17:44.476204",
     "status": "completed"
    },
    "tags": []
   },
   "outputs": [],
   "source": [
    "# n_epoch = 3\n",
    "# loss_list = []\n",
    "# best_loss = 10000\n",
    "# save_file = os.path.join(opt.save_folder + 'models', 'last.pth')\n",
    "# #save_model(model, optimizer, opt, opt.epochs, save_file)\n",
    "\n",
    "# for epoch in range(1, n_epoch + 1):\n",
    "#     loss = train_ss(Net,projection_head,unlabelled_train_loader, epoch)\n",
    "#     print(f'Epoch {epoch:3d}, Loss: {loss:.4f}')\n",
    "#     scheduler.step()\n",
    "#     loss_list.append(loss)\n",
    "#     if loss<best_loss:\n",
    "#         best_loss = loss\n",
    "#         #torch.save(Net, f'./model_checkpoints/simclr_ki67/resnet50_ki67_dapi_chan_pretraining_best_loss.pth.tar') \n",
    "#         save_model(Net, optimizer, opt, opt.epochs, '/kaggle/working/unsupervised/best_loss.pth')\n",
    "#     elif epoch % 1 == 0:\n",
    "#         #best_loss = loss\n",
    "#         #torch.save(Net, f'./model_checkpoints/simclr_ki67/resnet50_ki67_dapi_chan_pretraining_checkpoint.pth.tar') \n",
    "#         save_model(Net, optimizer, opt, opt.epochs, f'/kaggle/working/unsupervised/epoch{epoch}.pth')\n",
    "# #torch.save(Net, f'./model_checkpoints/simclr_ki67/resnet50_ki67_dapi_chan_pretraining_final_checkpoint.pth.tar') \n",
    "# plt.figure()\n",
    "# plt.plot(loss_list)"
   ]
  },
  {
   "cell_type": "code",
   "execution_count": null,
   "id": "980d95bb",
   "metadata": {
    "papermill": {
     "duration": 0.012968,
     "end_time": "2023-08-27T09:17:44.523099",
     "exception": false,
     "start_time": "2023-08-27T09:17:44.510131",
     "status": "completed"
    },
    "tags": []
   },
   "outputs": [],
   "source": []
  },
  {
   "cell_type": "code",
   "execution_count": 23,
   "id": "fcd3760d",
   "metadata": {
    "execution": {
     "iopub.execute_input": "2023-08-27T09:17:44.550975Z",
     "iopub.status.busy": "2023-08-27T09:17:44.550197Z",
     "iopub.status.idle": "2023-08-27T09:17:44.554623Z",
     "shell.execute_reply": "2023-08-27T09:17:44.553690Z"
    },
    "papermill": {
     "duration": 0.020274,
     "end_time": "2023-08-27T09:17:44.556529",
     "exception": false,
     "start_time": "2023-08-27T09:17:44.536255",
     "status": "completed"
    },
    "tags": []
   },
   "outputs": [],
   "source": [
    "###### SUPERVISED LEARNING PART"
   ]
  },
  {
   "cell_type": "code",
   "execution_count": 24,
   "id": "963b730b",
   "metadata": {
    "execution": {
     "iopub.execute_input": "2023-08-27T09:17:44.584388Z",
     "iopub.status.busy": "2023-08-27T09:17:44.584110Z",
     "iopub.status.idle": "2023-08-27T09:17:53.476596Z",
     "shell.execute_reply": "2023-08-27T09:17:53.475603Z"
    },
    "papermill": {
     "duration": 8.909383,
     "end_time": "2023-08-27T09:17:53.479250",
     "exception": false,
     "start_time": "2023-08-27T09:17:44.569867",
     "status": "completed"
    },
    "tags": []
   },
   "outputs": [
    {
     "name": "stderr",
     "output_type": "stream",
     "text": [
      "/opt/conda/lib/python3.10/site-packages/torchvision/models/_utils.py:208: UserWarning: The parameter 'pretrained' is deprecated since 0.13 and may be removed in the future, please use 'weights' instead.\n",
      "  warnings.warn(\n",
      "/opt/conda/lib/python3.10/site-packages/torchvision/models/_utils.py:223: UserWarning: Arguments other than a weight enum or `None` for 'weights' are deprecated since 0.13 and may be removed in the future. The current behavior is equivalent to passing `weights=ResNet50_Weights.IMAGENET1K_V1`. You can also use `weights=ResNet50_Weights.DEFAULT` to get the most up-to-date weights.\n",
      "  warnings.warn(msg)\n",
      "Downloading: \"https://download.pytorch.org/models/resnet50-0676ba61.pth\" to /root/.cache/torch/hub/checkpoints/resnet50-0676ba61.pth\n",
      "100%|██████████| 97.8M/97.8M [00:01<00:00, 89.5MB/s]\n"
     ]
    },
    {
     "name": "stdout",
     "output_type": "stream",
     "text": [
      "==> Loading...\n"
     ]
    }
   ],
   "source": [
    "# If loading pretrained\n",
    "#load_file = \"/kaggle/input/models/pretrain_unsupervised.pth\"  # change to model path\n",
    "load_file = \"/kaggle/input/unsupervised80000epo/best_loss.pth\"\n",
    "\n",
    "device = torch.device(\"cuda:0\" )\n",
    "Net = Encdr().to(device)\n",
    "Net = load_model(Net, load_file, \"model\")"
   ]
  },
  {
   "cell_type": "code",
   "execution_count": 25,
   "id": "dab69382",
   "metadata": {
    "execution": {
     "iopub.execute_input": "2023-08-27T09:17:53.510087Z",
     "iopub.status.busy": "2023-08-27T09:17:53.509783Z",
     "iopub.status.idle": "2023-08-27T09:17:53.526884Z",
     "shell.execute_reply": "2023-08-27T09:17:53.526029Z"
    },
    "papermill": {
     "duration": 0.034667,
     "end_time": "2023-08-27T09:17:53.529006",
     "exception": false,
     "start_time": "2023-08-27T09:17:53.494339",
     "status": "completed"
    },
    "tags": []
   },
   "outputs": [],
   "source": [
    "#Net.add_feature()\n",
    "model, criterion = set_model_st(opt, Net)    \n",
    "optimizer = set_optimizer(opt, model)"
   ]
  },
  {
   "cell_type": "code",
   "execution_count": 26,
   "id": "e06d899e",
   "metadata": {
    "execution": {
     "iopub.execute_input": "2023-08-27T09:17:53.559061Z",
     "iopub.status.busy": "2023-08-27T09:17:53.558789Z",
     "iopub.status.idle": "2023-08-27T09:17:53.562884Z",
     "shell.execute_reply": "2023-08-27T09:17:53.562027Z"
    },
    "papermill": {
     "duration": 0.021367,
     "end_time": "2023-08-27T09:17:53.564788",
     "exception": false,
     "start_time": "2023-08-27T09:17:53.543421",
     "status": "completed"
    },
    "tags": []
   },
   "outputs": [],
   "source": [
    "# To check performance without the pre training\n",
    "#model, criterion = set_model(opt)    \n",
    "#optimizer = set_optimizer(opt, model)"
   ]
  },
  {
   "cell_type": "code",
   "execution_count": null,
   "id": "5f036f3c",
   "metadata": {
    "papermill": {
     "duration": 0.014116,
     "end_time": "2023-08-27T09:17:53.593208",
     "exception": false,
     "start_time": "2023-08-27T09:17:53.579092",
     "status": "completed"
    },
    "tags": []
   },
   "outputs": [],
   "source": []
  },
  {
   "cell_type": "code",
   "execution_count": 27,
   "id": "633d794b",
   "metadata": {
    "execution": {
     "iopub.execute_input": "2023-08-27T09:17:53.624073Z",
     "iopub.status.busy": "2023-08-27T09:17:53.623652Z",
     "iopub.status.idle": "2023-08-27T09:17:53.627559Z",
     "shell.execute_reply": "2023-08-27T09:17:53.626680Z"
    },
    "papermill": {
     "duration": 0.021636,
     "end_time": "2023-08-27T09:17:53.629555",
     "exception": false,
     "start_time": "2023-08-27T09:17:53.607919",
     "status": "completed"
    },
    "tags": []
   },
   "outputs": [],
   "source": [
    "# training routine with freezing\n",
    "#model[0].requires_grad_(False)\n",
    "#opt.learning_rate = 0.05\n",
    "#for epoch in range(1, 15+1):\n",
    "#    train_supervised(train_loader, val_loader, model, criterion, optimizer, epoch, opt)"
   ]
  },
  {
   "cell_type": "code",
   "execution_count": 28,
   "id": "1b4e6c39",
   "metadata": {
    "execution": {
     "iopub.execute_input": "2023-08-27T09:17:53.659846Z",
     "iopub.status.busy": "2023-08-27T09:17:53.659590Z",
     "iopub.status.idle": "2023-08-27T11:47:56.960701Z",
     "shell.execute_reply": "2023-08-27T11:47:56.959169Z"
    },
    "papermill": {
     "duration": 9003.319394,
     "end_time": "2023-08-27T11:47:56.963879",
     "exception": false,
     "start_time": "2023-08-27T09:17:53.644485",
     "status": "completed"
    },
    "tags": []
   },
   "outputs": [
    {
     "name": "stdout",
     "output_type": "stream",
     "text": [
      "Train: [1][10/140]\t\n",
      "Train: [1][20/140]\t\n",
      "Train: [1][30/140]\t\n",
      "Train: [1][40/140]\t\n",
      "Train: [1][50/140]\t\n",
      "Train: [1][60/140]\t\n",
      "Train: [1][70/140]\t\n",
      "Train: [1][80/140]\t\n",
      "Train: [1][90/140]\t\n",
      "Train: [1][100/140]\t\n",
      "Train: [1][110/140]\t\n",
      "Train: [1][120/140]\t\n",
      "Train: [1][130/140]\t\n",
      "Train: [1][140/140]\t\n",
      "Training Accuracy: 69.68%\n",
      "Training loss: 0.5616610701321005\n",
      "Validation accuracy: 67.10884353741497 %\n",
      "Validation F1: 0.33427279852082487\n"
     ]
    },
    {
     "name": "stderr",
     "output_type": "stream",
     "text": [
      "/opt/conda/lib/python3.10/site-packages/torch/utils/data/dataloader.py:561: UserWarning: This DataLoader will create 8 worker processes in total. Our suggested max number of worker in current system is 2, which is smaller than what this DataLoader is going to create. Please be aware that excessive worker creation might get DataLoader running slow or even freeze, lower the worker number to avoid potential slowness/freeze if necessary.\n",
      "  warnings.warn(_create_warning_msg(\n"
     ]
    },
    {
     "name": "stdout",
     "output_type": "stream",
     "text": [
      "Train: [2][10/140]\t\n",
      "Train: [2][20/140]\t\n",
      "Train: [2][30/140]\t\n",
      "Train: [2][40/140]\t\n",
      "Train: [2][50/140]\t\n",
      "Train: [2][60/140]\t\n",
      "Train: [2][70/140]\t\n",
      "Train: [2][80/140]\t\n",
      "Train: [2][90/140]\t\n",
      "Train: [2][100/140]\t\n",
      "Train: [2][110/140]\t\n",
      "Train: [2][120/140]\t\n",
      "Train: [2][130/140]\t\n",
      "Train: [2][140/140]\t\n",
      "Training Accuracy: 74.92%\n",
      "Training loss: 0.4943848780102996\n",
      "Validation accuracy: 66.29251700680273 %\n",
      "Validation F1: 0.42261009657336274\n"
     ]
    },
    {
     "name": "stderr",
     "output_type": "stream",
     "text": [
      "/opt/conda/lib/python3.10/site-packages/torch/utils/data/dataloader.py:561: UserWarning: This DataLoader will create 8 worker processes in total. Our suggested max number of worker in current system is 2, which is smaller than what this DataLoader is going to create. Please be aware that excessive worker creation might get DataLoader running slow or even freeze, lower the worker number to avoid potential slowness/freeze if necessary.\n",
      "  warnings.warn(_create_warning_msg(\n"
     ]
    },
    {
     "name": "stdout",
     "output_type": "stream",
     "text": [
      "Train: [3][10/140]\t\n",
      "Train: [3][20/140]\t\n",
      "Train: [3][30/140]\t\n",
      "Train: [3][40/140]\t\n",
      "Train: [3][50/140]\t\n",
      "Train: [3][60/140]\t\n",
      "Train: [3][70/140]\t\n",
      "Train: [3][80/140]\t\n",
      "Train: [3][90/140]\t\n",
      "Train: [3][100/140]\t\n",
      "Train: [3][110/140]\t\n",
      "Train: [3][120/140]\t\n",
      "Train: [3][130/140]\t\n",
      "Train: [3][140/140]\t\n",
      "Training Accuracy: 79.95%\n",
      "Training loss: 0.4227129157869023\n",
      "Validation accuracy: 74.82993197278913 %\n",
      "Validation F1: 0.46661859729417543\n"
     ]
    },
    {
     "name": "stderr",
     "output_type": "stream",
     "text": [
      "/opt/conda/lib/python3.10/site-packages/torch/utils/data/dataloader.py:561: UserWarning: This DataLoader will create 8 worker processes in total. Our suggested max number of worker in current system is 2, which is smaller than what this DataLoader is going to create. Please be aware that excessive worker creation might get DataLoader running slow or even freeze, lower the worker number to avoid potential slowness/freeze if necessary.\n",
      "  warnings.warn(_create_warning_msg(\n"
     ]
    },
    {
     "name": "stdout",
     "output_type": "stream",
     "text": [
      "Train: [4][10/140]\t\n",
      "Train: [4][20/140]\t\n",
      "Train: [4][30/140]\t\n",
      "Train: [4][40/140]\t\n",
      "Train: [4][50/140]\t\n",
      "Train: [4][60/140]\t\n",
      "Train: [4][70/140]\t\n",
      "Train: [4][80/140]\t\n",
      "Train: [4][90/140]\t\n",
      "Train: [4][100/140]\t\n",
      "Train: [4][110/140]\t\n",
      "Train: [4][120/140]\t\n",
      "Train: [4][130/140]\t\n",
      "Train: [4][140/140]\t\n",
      "Training Accuracy: 82.39%\n",
      "Training loss: 0.3797294935602114\n",
      "Validation accuracy: 74.82993197278913 %\n",
      "Validation F1: 0.472255400300633\n"
     ]
    },
    {
     "name": "stderr",
     "output_type": "stream",
     "text": [
      "/opt/conda/lib/python3.10/site-packages/torch/utils/data/dataloader.py:561: UserWarning: This DataLoader will create 8 worker processes in total. Our suggested max number of worker in current system is 2, which is smaller than what this DataLoader is going to create. Please be aware that excessive worker creation might get DataLoader running slow or even freeze, lower the worker number to avoid potential slowness/freeze if necessary.\n",
      "  warnings.warn(_create_warning_msg(\n"
     ]
    },
    {
     "name": "stdout",
     "output_type": "stream",
     "text": [
      "Train: [5][10/140]\t\n",
      "Train: [5][20/140]\t\n",
      "Train: [5][30/140]\t\n",
      "Train: [5][40/140]\t\n",
      "Train: [5][50/140]\t\n",
      "Train: [5][60/140]\t\n",
      "Train: [5][70/140]\t\n",
      "Train: [5][80/140]\t\n",
      "Train: [5][90/140]\t\n",
      "Train: [5][100/140]\t\n",
      "Train: [5][110/140]\t\n",
      "Train: [5][120/140]\t\n",
      "Train: [5][130/140]\t\n",
      "Train: [5][140/140]\t\n",
      "Training Accuracy: 83.65%\n",
      "Training loss: 0.3557559138029834\n",
      "Validation accuracy: 75.98639455782313 %\n",
      "Validation F1: 0.4213238896573632\n"
     ]
    },
    {
     "name": "stderr",
     "output_type": "stream",
     "text": [
      "/opt/conda/lib/python3.10/site-packages/torch/utils/data/dataloader.py:561: UserWarning: This DataLoader will create 8 worker processes in total. Our suggested max number of worker in current system is 2, which is smaller than what this DataLoader is going to create. Please be aware that excessive worker creation might get DataLoader running slow or even freeze, lower the worker number to avoid potential slowness/freeze if necessary.\n",
      "  warnings.warn(_create_warning_msg(\n"
     ]
    },
    {
     "name": "stdout",
     "output_type": "stream",
     "text": [
      "Train: [6][10/140]\t\n",
      "Train: [6][20/140]\t\n",
      "Train: [6][30/140]\t\n",
      "Train: [6][40/140]\t\n",
      "Train: [6][50/140]\t\n",
      "Train: [6][60/140]\t\n",
      "Train: [6][70/140]\t\n",
      "Train: [6][80/140]\t\n",
      "Train: [6][90/140]\t\n",
      "Train: [6][100/140]\t\n",
      "Train: [6][110/140]\t\n",
      "Train: [6][120/140]\t\n",
      "Train: [6][130/140]\t\n",
      "Train: [6][140/140]\t\n",
      "Training Accuracy: 84.53%\n",
      "Training loss: 0.34061209065787434\n",
      "Validation accuracy: 74.89795918367346 %\n",
      "Validation F1: 0.4800050892649248\n"
     ]
    },
    {
     "name": "stderr",
     "output_type": "stream",
     "text": [
      "/opt/conda/lib/python3.10/site-packages/torch/utils/data/dataloader.py:561: UserWarning: This DataLoader will create 8 worker processes in total. Our suggested max number of worker in current system is 2, which is smaller than what this DataLoader is going to create. Please be aware that excessive worker creation might get DataLoader running slow or even freeze, lower the worker number to avoid potential slowness/freeze if necessary.\n",
      "  warnings.warn(_create_warning_msg(\n"
     ]
    },
    {
     "name": "stdout",
     "output_type": "stream",
     "text": [
      "Train: [7][10/140]\t\n",
      "Train: [7][20/140]\t\n",
      "Train: [7][30/140]\t\n",
      "Train: [7][40/140]\t\n",
      "Train: [7][50/140]\t\n",
      "Train: [7][60/140]\t\n",
      "Train: [7][70/140]\t\n",
      "Train: [7][80/140]\t\n",
      "Train: [7][90/140]\t\n",
      "Train: [7][100/140]\t\n",
      "Train: [7][110/140]\t\n",
      "Train: [7][120/140]\t\n",
      "Train: [7][130/140]\t\n",
      "Train: [7][140/140]\t\n",
      "Training Accuracy: 85.06%\n",
      "Training loss: 0.3277827360205491\n",
      "Validation accuracy: 76.46258503401361 %\n",
      "Validation F1: 0.5087777830526764\n"
     ]
    },
    {
     "name": "stderr",
     "output_type": "stream",
     "text": [
      "/opt/conda/lib/python3.10/site-packages/torch/utils/data/dataloader.py:561: UserWarning: This DataLoader will create 8 worker processes in total. Our suggested max number of worker in current system is 2, which is smaller than what this DataLoader is going to create. Please be aware that excessive worker creation might get DataLoader running slow or even freeze, lower the worker number to avoid potential slowness/freeze if necessary.\n",
      "  warnings.warn(_create_warning_msg(\n"
     ]
    },
    {
     "name": "stdout",
     "output_type": "stream",
     "text": [
      "Train: [8][10/140]\t\n",
      "Train: [8][20/140]\t\n",
      "Train: [8][30/140]\t\n",
      "Train: [8][40/140]\t\n",
      "Train: [8][50/140]\t\n",
      "Train: [8][60/140]\t\n",
      "Train: [8][70/140]\t\n",
      "Train: [8][80/140]\t\n",
      "Train: [8][90/140]\t\n",
      "Train: [8][100/140]\t\n",
      "Train: [8][110/140]\t\n",
      "Train: [8][120/140]\t\n",
      "Train: [8][130/140]\t\n",
      "Train: [8][140/140]\t\n",
      "Training Accuracy: 86.06%\n",
      "Training loss: 0.3112259567599308\n",
      "Validation accuracy: 76.93877551020408 %\n",
      "Validation F1: 0.5283645368905242\n"
     ]
    },
    {
     "name": "stderr",
     "output_type": "stream",
     "text": [
      "/opt/conda/lib/python3.10/site-packages/torch/utils/data/dataloader.py:561: UserWarning: This DataLoader will create 8 worker processes in total. Our suggested max number of worker in current system is 2, which is smaller than what this DataLoader is going to create. Please be aware that excessive worker creation might get DataLoader running slow or even freeze, lower the worker number to avoid potential slowness/freeze if necessary.\n",
      "  warnings.warn(_create_warning_msg(\n"
     ]
    },
    {
     "name": "stdout",
     "output_type": "stream",
     "text": [
      "Train: [9][10/140]\t\n",
      "Train: [9][20/140]\t\n",
      "Train: [9][30/140]\t\n",
      "Train: [9][40/140]\t\n",
      "Train: [9][50/140]\t\n",
      "Train: [9][60/140]\t\n",
      "Train: [9][70/140]\t\n",
      "Train: [9][80/140]\t\n",
      "Train: [9][90/140]\t\n",
      "Train: [9][100/140]\t\n",
      "Train: [9][110/140]\t\n",
      "Train: [9][120/140]\t\n",
      "Train: [9][130/140]\t\n",
      "Train: [9][140/140]\t\n",
      "Training Accuracy: 86.72%\n",
      "Training loss: 0.29732167996494563\n",
      "Validation accuracy: 76.7687074829932 %\n",
      "Validation F1: 0.5240900363315234\n"
     ]
    },
    {
     "name": "stderr",
     "output_type": "stream",
     "text": [
      "/opt/conda/lib/python3.10/site-packages/torch/utils/data/dataloader.py:561: UserWarning: This DataLoader will create 8 worker processes in total. Our suggested max number of worker in current system is 2, which is smaller than what this DataLoader is going to create. Please be aware that excessive worker creation might get DataLoader running slow or even freeze, lower the worker number to avoid potential slowness/freeze if necessary.\n",
      "  warnings.warn(_create_warning_msg(\n"
     ]
    },
    {
     "name": "stdout",
     "output_type": "stream",
     "text": [
      "Train: [10][10/140]\t\n",
      "Train: [10][20/140]\t\n",
      "Train: [10][30/140]\t\n",
      "Train: [10][40/140]\t\n",
      "Train: [10][50/140]\t\n",
      "Train: [10][60/140]\t\n",
      "Train: [10][70/140]\t\n",
      "Train: [10][80/140]\t\n",
      "Train: [10][90/140]\t\n",
      "Train: [10][100/140]\t\n",
      "Train: [10][110/140]\t\n",
      "Train: [10][120/140]\t\n",
      "Train: [10][130/140]\t\n",
      "Train: [10][140/140]\t\n",
      "Training Accuracy: 87.14%\n",
      "Training loss: 0.2868129636279455\n",
      "Validation accuracy: 76.32653061224491 %\n",
      "Validation F1: 0.5049777024974006\n"
     ]
    },
    {
     "name": "stderr",
     "output_type": "stream",
     "text": [
      "/opt/conda/lib/python3.10/site-packages/torch/utils/data/dataloader.py:561: UserWarning: This DataLoader will create 8 worker processes in total. Our suggested max number of worker in current system is 2, which is smaller than what this DataLoader is going to create. Please be aware that excessive worker creation might get DataLoader running slow or even freeze, lower the worker number to avoid potential slowness/freeze if necessary.\n",
      "  warnings.warn(_create_warning_msg(\n"
     ]
    },
    {
     "name": "stdout",
     "output_type": "stream",
     "text": [
      "Train: [11][10/140]\t\n",
      "Train: [11][20/140]\t\n",
      "Train: [11][30/140]\t\n",
      "Train: [11][40/140]\t\n",
      "Train: [11][50/140]\t\n",
      "Train: [11][60/140]\t\n",
      "Train: [11][70/140]\t\n",
      "Train: [11][80/140]\t\n",
      "Train: [11][90/140]\t\n",
      "Train: [11][100/140]\t\n",
      "Train: [11][110/140]\t\n",
      "Train: [11][120/140]\t\n",
      "Train: [11][130/140]\t\n",
      "Train: [11][140/140]\t\n",
      "Training Accuracy: 87.77%\n",
      "Training loss: 0.2777464189826707\n",
      "Validation accuracy: 78.26530612244898 %\n",
      "Validation F1: 0.5867107704288341\n"
     ]
    },
    {
     "name": "stderr",
     "output_type": "stream",
     "text": [
      "/opt/conda/lib/python3.10/site-packages/torch/utils/data/dataloader.py:561: UserWarning: This DataLoader will create 8 worker processes in total. Our suggested max number of worker in current system is 2, which is smaller than what this DataLoader is going to create. Please be aware that excessive worker creation might get DataLoader running slow or even freeze, lower the worker number to avoid potential slowness/freeze if necessary.\n",
      "  warnings.warn(_create_warning_msg(\n"
     ]
    },
    {
     "name": "stdout",
     "output_type": "stream",
     "text": [
      "Train: [12][10/140]\t\n",
      "Train: [12][20/140]\t\n",
      "Train: [12][30/140]\t\n",
      "Train: [12][40/140]\t\n",
      "Train: [12][50/140]\t\n",
      "Train: [12][60/140]\t\n",
      "Train: [12][70/140]\t\n",
      "Train: [12][80/140]\t\n",
      "Train: [12][90/140]\t\n",
      "Train: [12][100/140]\t\n",
      "Train: [12][110/140]\t\n",
      "Train: [12][120/140]\t\n",
      "Train: [12][130/140]\t\n",
      "Train: [12][140/140]\t\n",
      "Training Accuracy: 88.05%\n",
      "Training loss: 0.27017128233632637\n",
      "Validation accuracy: 79.1156462585034 %\n",
      "Validation F1: 0.5874615754479485\n"
     ]
    },
    {
     "name": "stderr",
     "output_type": "stream",
     "text": [
      "/opt/conda/lib/python3.10/site-packages/torch/utils/data/dataloader.py:561: UserWarning: This DataLoader will create 8 worker processes in total. Our suggested max number of worker in current system is 2, which is smaller than what this DataLoader is going to create. Please be aware that excessive worker creation might get DataLoader running slow or even freeze, lower the worker number to avoid potential slowness/freeze if necessary.\n",
      "  warnings.warn(_create_warning_msg(\n"
     ]
    },
    {
     "name": "stdout",
     "output_type": "stream",
     "text": [
      "Train: [13][10/140]\t\n",
      "Train: [13][20/140]\t\n",
      "Train: [13][30/140]\t\n",
      "Train: [13][40/140]\t\n",
      "Train: [13][50/140]\t\n",
      "Train: [13][60/140]\t\n",
      "Train: [13][70/140]\t\n",
      "Train: [13][80/140]\t\n",
      "Train: [13][90/140]\t\n",
      "Train: [13][100/140]\t\n",
      "Train: [13][110/140]\t\n",
      "Train: [13][120/140]\t\n",
      "Train: [13][130/140]\t\n",
      "Train: [13][140/140]\t\n",
      "Training Accuracy: 88.49%\n",
      "Training loss: 0.2617003141456881\n",
      "Validation accuracy: 77.65306122448979 %\n",
      "Validation F1: 0.5590517149604817\n"
     ]
    },
    {
     "name": "stderr",
     "output_type": "stream",
     "text": [
      "/opt/conda/lib/python3.10/site-packages/torch/utils/data/dataloader.py:561: UserWarning: This DataLoader will create 8 worker processes in total. Our suggested max number of worker in current system is 2, which is smaller than what this DataLoader is going to create. Please be aware that excessive worker creation might get DataLoader running slow or even freeze, lower the worker number to avoid potential slowness/freeze if necessary.\n",
      "  warnings.warn(_create_warning_msg(\n"
     ]
    },
    {
     "name": "stdout",
     "output_type": "stream",
     "text": [
      "Train: [14][10/140]\t\n",
      "Train: [14][20/140]\t\n",
      "Train: [14][30/140]\t\n",
      "Train: [14][40/140]\t\n",
      "Train: [14][50/140]\t\n",
      "Train: [14][60/140]\t\n",
      "Train: [14][70/140]\t\n",
      "Train: [14][80/140]\t\n",
      "Train: [14][90/140]\t\n",
      "Train: [14][100/140]\t\n",
      "Train: [14][110/140]\t\n",
      "Train: [14][120/140]\t\n",
      "Train: [14][130/140]\t\n",
      "Train: [14][140/140]\t\n",
      "Training Accuracy: 88.82%\n",
      "Training loss: 0.2546386101416179\n",
      "Validation accuracy: 76.7687074829932 %\n",
      "Validation F1: 0.4940134668498159\n"
     ]
    },
    {
     "name": "stderr",
     "output_type": "stream",
     "text": [
      "/opt/conda/lib/python3.10/site-packages/torch/utils/data/dataloader.py:561: UserWarning: This DataLoader will create 8 worker processes in total. Our suggested max number of worker in current system is 2, which is smaller than what this DataLoader is going to create. Please be aware that excessive worker creation might get DataLoader running slow or even freeze, lower the worker number to avoid potential slowness/freeze if necessary.\n",
      "  warnings.warn(_create_warning_msg(\n"
     ]
    },
    {
     "name": "stdout",
     "output_type": "stream",
     "text": [
      "Train: [15][10/140]\t\n",
      "Train: [15][20/140]\t\n",
      "Train: [15][30/140]\t\n",
      "Train: [15][40/140]\t\n",
      "Train: [15][50/140]\t\n",
      "Train: [15][60/140]\t\n",
      "Train: [15][70/140]\t\n",
      "Train: [15][80/140]\t\n",
      "Train: [15][90/140]\t\n",
      "Train: [15][100/140]\t\n",
      "Train: [15][110/140]\t\n",
      "Train: [15][120/140]\t\n",
      "Train: [15][130/140]\t\n",
      "Train: [15][140/140]\t\n",
      "Training Accuracy: 89.23%\n",
      "Training loss: 0.24503005417801121\n",
      "Validation accuracy: 75.27210884353741 %\n",
      "Validation F1: 0.5877395069663796\n"
     ]
    },
    {
     "name": "stderr",
     "output_type": "stream",
     "text": [
      "/opt/conda/lib/python3.10/site-packages/torch/utils/data/dataloader.py:561: UserWarning: This DataLoader will create 8 worker processes in total. Our suggested max number of worker in current system is 2, which is smaller than what this DataLoader is going to create. Please be aware that excessive worker creation might get DataLoader running slow or even freeze, lower the worker number to avoid potential slowness/freeze if necessary.\n",
      "  warnings.warn(_create_warning_msg(\n"
     ]
    },
    {
     "name": "stdout",
     "output_type": "stream",
     "text": [
      "Train: [16][10/140]\t\n",
      "Train: [16][20/140]\t\n",
      "Train: [16][30/140]\t\n",
      "Train: [16][40/140]\t\n",
      "Train: [16][50/140]\t\n",
      "Train: [16][60/140]\t\n",
      "Train: [16][70/140]\t\n",
      "Train: [16][80/140]\t\n",
      "Train: [16][90/140]\t\n",
      "Train: [16][100/140]\t\n",
      "Train: [16][110/140]\t\n",
      "Train: [16][120/140]\t\n",
      "Train: [16][130/140]\t\n",
      "Train: [16][140/140]\t\n",
      "Training Accuracy: 89.68%\n",
      "Training loss: 0.24039262684906348\n",
      "Validation accuracy: 75.3061224489796 %\n",
      "Validation F1: 0.4899345073340447\n"
     ]
    },
    {
     "name": "stderr",
     "output_type": "stream",
     "text": [
      "/opt/conda/lib/python3.10/site-packages/torch/utils/data/dataloader.py:561: UserWarning: This DataLoader will create 8 worker processes in total. Our suggested max number of worker in current system is 2, which is smaller than what this DataLoader is going to create. Please be aware that excessive worker creation might get DataLoader running slow or even freeze, lower the worker number to avoid potential slowness/freeze if necessary.\n",
      "  warnings.warn(_create_warning_msg(\n"
     ]
    },
    {
     "name": "stdout",
     "output_type": "stream",
     "text": [
      "Train: [17][10/140]\t\n",
      "Train: [17][20/140]\t\n",
      "Train: [17][30/140]\t\n",
      "Train: [17][40/140]\t\n",
      "Train: [17][50/140]\t\n",
      "Train: [17][60/140]\t\n",
      "Train: [17][70/140]\t\n",
      "Train: [17][80/140]\t\n",
      "Train: [17][90/140]\t\n",
      "Train: [17][100/140]\t\n",
      "Train: [17][110/140]\t\n",
      "Train: [17][120/140]\t\n",
      "Train: [17][130/140]\t\n",
      "Train: [17][140/140]\t\n",
      "Training Accuracy: 89.96%\n",
      "Training loss: 0.23235723854822277\n",
      "Validation accuracy: 75.95238095238095 %\n",
      "Validation F1: 0.5357595946042252\n"
     ]
    },
    {
     "name": "stderr",
     "output_type": "stream",
     "text": [
      "/opt/conda/lib/python3.10/site-packages/torch/utils/data/dataloader.py:561: UserWarning: This DataLoader will create 8 worker processes in total. Our suggested max number of worker in current system is 2, which is smaller than what this DataLoader is going to create. Please be aware that excessive worker creation might get DataLoader running slow or even freeze, lower the worker number to avoid potential slowness/freeze if necessary.\n",
      "  warnings.warn(_create_warning_msg(\n"
     ]
    },
    {
     "name": "stdout",
     "output_type": "stream",
     "text": [
      "Train: [18][10/140]\t\n",
      "Train: [18][20/140]\t\n",
      "Train: [18][30/140]\t\n",
      "Train: [18][40/140]\t\n",
      "Train: [18][50/140]\t\n",
      "Train: [18][60/140]\t\n",
      "Train: [18][70/140]\t\n",
      "Train: [18][80/140]\t\n",
      "Train: [18][90/140]\t\n",
      "Train: [18][100/140]\t\n",
      "Train: [18][110/140]\t\n",
      "Train: [18][120/140]\t\n",
      "Train: [18][130/140]\t\n",
      "Train: [18][140/140]\t\n",
      "Training Accuracy: 90.18%\n",
      "Training loss: 0.22659790978407107\n",
      "Validation accuracy: 77.7891156462585 %\n",
      "Validation F1: 0.6020373681956643\n"
     ]
    },
    {
     "name": "stderr",
     "output_type": "stream",
     "text": [
      "/opt/conda/lib/python3.10/site-packages/torch/utils/data/dataloader.py:561: UserWarning: This DataLoader will create 8 worker processes in total. Our suggested max number of worker in current system is 2, which is smaller than what this DataLoader is going to create. Please be aware that excessive worker creation might get DataLoader running slow or even freeze, lower the worker number to avoid potential slowness/freeze if necessary.\n",
      "  warnings.warn(_create_warning_msg(\n"
     ]
    },
    {
     "name": "stdout",
     "output_type": "stream",
     "text": [
      "Train: [19][10/140]\t\n",
      "Train: [19][20/140]\t\n",
      "Train: [19][30/140]\t\n",
      "Train: [19][40/140]\t\n",
      "Train: [19][50/140]\t\n",
      "Train: [19][60/140]\t\n",
      "Train: [19][70/140]\t\n",
      "Train: [19][80/140]\t\n",
      "Train: [19][90/140]\t\n",
      "Train: [19][100/140]\t\n",
      "Train: [19][110/140]\t\n",
      "Train: [19][120/140]\t\n",
      "Train: [19][130/140]\t\n",
      "Train: [19][140/140]\t\n",
      "Training Accuracy: 90.45%\n",
      "Training loss: 0.22266385320471285\n",
      "Validation accuracy: 75.40816326530613 %\n",
      "Validation F1: 0.5888137415057656\n"
     ]
    },
    {
     "name": "stderr",
     "output_type": "stream",
     "text": [
      "/opt/conda/lib/python3.10/site-packages/torch/utils/data/dataloader.py:561: UserWarning: This DataLoader will create 8 worker processes in total. Our suggested max number of worker in current system is 2, which is smaller than what this DataLoader is going to create. Please be aware that excessive worker creation might get DataLoader running slow or even freeze, lower the worker number to avoid potential slowness/freeze if necessary.\n",
      "  warnings.warn(_create_warning_msg(\n"
     ]
    },
    {
     "name": "stdout",
     "output_type": "stream",
     "text": [
      "Train: [20][10/140]\t\n",
      "Train: [20][20/140]\t\n",
      "Train: [20][30/140]\t\n",
      "Train: [20][40/140]\t\n",
      "Train: [20][50/140]\t\n",
      "Train: [20][60/140]\t\n",
      "Train: [20][70/140]\t\n",
      "Train: [20][80/140]\t\n",
      "Train: [20][90/140]\t\n",
      "Train: [20][100/140]\t\n",
      "Train: [20][110/140]\t\n",
      "Train: [20][120/140]\t\n",
      "Train: [20][130/140]\t\n",
      "Train: [20][140/140]\t\n",
      "Training Accuracy: 90.60%\n",
      "Training loss: 0.2185575908296818\n",
      "Validation accuracy: 73.9795918367347 %\n",
      "Validation F1: 0.540751336465218\n"
     ]
    },
    {
     "name": "stderr",
     "output_type": "stream",
     "text": [
      "/opt/conda/lib/python3.10/site-packages/torch/utils/data/dataloader.py:561: UserWarning: This DataLoader will create 8 worker processes in total. Our suggested max number of worker in current system is 2, which is smaller than what this DataLoader is going to create. Please be aware that excessive worker creation might get DataLoader running slow or even freeze, lower the worker number to avoid potential slowness/freeze if necessary.\n",
      "  warnings.warn(_create_warning_msg(\n"
     ]
    },
    {
     "name": "stdout",
     "output_type": "stream",
     "text": [
      "Train: [21][10/140]\t\n",
      "Train: [21][20/140]\t\n",
      "Train: [21][30/140]\t\n",
      "Train: [21][40/140]\t\n",
      "Train: [21][50/140]\t\n",
      "Train: [21][60/140]\t\n",
      "Train: [21][70/140]\t\n",
      "Train: [21][80/140]\t\n",
      "Train: [21][90/140]\t\n",
      "Train: [21][100/140]\t\n",
      "Train: [21][110/140]\t\n",
      "Train: [21][120/140]\t\n",
      "Train: [21][130/140]\t\n",
      "Train: [21][140/140]\t\n",
      "Training Accuracy: 91.17%\n",
      "Training loss: 0.2089226665344974\n",
      "Validation accuracy: 78.2312925170068 %\n",
      "Validation F1: 0.5905094410797578\n"
     ]
    },
    {
     "name": "stderr",
     "output_type": "stream",
     "text": [
      "/opt/conda/lib/python3.10/site-packages/torch/utils/data/dataloader.py:561: UserWarning: This DataLoader will create 8 worker processes in total. Our suggested max number of worker in current system is 2, which is smaller than what this DataLoader is going to create. Please be aware that excessive worker creation might get DataLoader running slow or even freeze, lower the worker number to avoid potential slowness/freeze if necessary.\n",
      "  warnings.warn(_create_warning_msg(\n"
     ]
    },
    {
     "name": "stdout",
     "output_type": "stream",
     "text": [
      "Train: [22][10/140]\t\n",
      "Train: [22][20/140]\t\n",
      "Train: [22][30/140]\t\n",
      "Train: [22][40/140]\t\n",
      "Train: [22][50/140]\t\n",
      "Train: [22][60/140]\t\n",
      "Train: [22][70/140]\t\n",
      "Train: [22][80/140]\t\n",
      "Train: [22][90/140]\t\n",
      "Train: [22][100/140]\t\n",
      "Train: [22][110/140]\t\n",
      "Train: [22][120/140]\t\n",
      "Train: [22][130/140]\t\n",
      "Train: [22][140/140]\t\n",
      "Training Accuracy: 90.98%\n",
      "Training loss: 0.21074105702619644\n",
      "Validation accuracy: 75.4421768707483 %\n",
      "Validation F1: 0.5616285849714823\n"
     ]
    },
    {
     "name": "stderr",
     "output_type": "stream",
     "text": [
      "/opt/conda/lib/python3.10/site-packages/torch/utils/data/dataloader.py:561: UserWarning: This DataLoader will create 8 worker processes in total. Our suggested max number of worker in current system is 2, which is smaller than what this DataLoader is going to create. Please be aware that excessive worker creation might get DataLoader running slow or even freeze, lower the worker number to avoid potential slowness/freeze if necessary.\n",
      "  warnings.warn(_create_warning_msg(\n"
     ]
    },
    {
     "name": "stdout",
     "output_type": "stream",
     "text": [
      "Train: [23][10/140]\t\n",
      "Train: [23][20/140]\t\n",
      "Train: [23][30/140]\t\n",
      "Train: [23][40/140]\t\n",
      "Train: [23][50/140]\t\n",
      "Train: [23][60/140]\t\n",
      "Train: [23][70/140]\t\n",
      "Train: [23][80/140]\t\n",
      "Train: [23][90/140]\t\n",
      "Train: [23][100/140]\t\n",
      "Train: [23][110/140]\t\n",
      "Train: [23][120/140]\t\n",
      "Train: [23][130/140]\t\n",
      "Train: [23][140/140]\t\n",
      "Training Accuracy: 91.43%\n",
      "Training loss: 0.20217192525565825\n",
      "Validation accuracy: 78.43537414965986 %\n",
      "Validation F1: 0.5989375571978064\n"
     ]
    },
    {
     "name": "stderr",
     "output_type": "stream",
     "text": [
      "/opt/conda/lib/python3.10/site-packages/torch/utils/data/dataloader.py:561: UserWarning: This DataLoader will create 8 worker processes in total. Our suggested max number of worker in current system is 2, which is smaller than what this DataLoader is going to create. Please be aware that excessive worker creation might get DataLoader running slow or even freeze, lower the worker number to avoid potential slowness/freeze if necessary.\n",
      "  warnings.warn(_create_warning_msg(\n"
     ]
    },
    {
     "name": "stdout",
     "output_type": "stream",
     "text": [
      "Train: [24][10/140]\t\n",
      "Train: [24][20/140]\t\n",
      "Train: [24][30/140]\t\n",
      "Train: [24][40/140]\t\n",
      "Train: [24][50/140]\t\n",
      "Train: [24][60/140]\t\n",
      "Train: [24][70/140]\t\n",
      "Train: [24][80/140]\t\n",
      "Train: [24][90/140]\t\n",
      "Train: [24][100/140]\t\n",
      "Train: [24][110/140]\t\n",
      "Train: [24][120/140]\t\n",
      "Train: [24][130/140]\t\n",
      "Train: [24][140/140]\t\n",
      "Training Accuracy: 91.63%\n",
      "Training loss: 0.19714118323737287\n",
      "Validation accuracy: 77.68707482993197 %\n",
      "Validation F1: 0.5766799103754904\n"
     ]
    },
    {
     "name": "stderr",
     "output_type": "stream",
     "text": [
      "/opt/conda/lib/python3.10/site-packages/torch/utils/data/dataloader.py:561: UserWarning: This DataLoader will create 8 worker processes in total. Our suggested max number of worker in current system is 2, which is smaller than what this DataLoader is going to create. Please be aware that excessive worker creation might get DataLoader running slow or even freeze, lower the worker number to avoid potential slowness/freeze if necessary.\n",
      "  warnings.warn(_create_warning_msg(\n"
     ]
    },
    {
     "name": "stdout",
     "output_type": "stream",
     "text": [
      "Train: [25][10/140]\t\n",
      "Train: [25][20/140]\t\n",
      "Train: [25][30/140]\t\n",
      "Train: [25][40/140]\t\n",
      "Train: [25][50/140]\t\n",
      "Train: [25][60/140]\t\n",
      "Train: [25][70/140]\t\n",
      "Train: [25][80/140]\t\n",
      "Train: [25][90/140]\t\n",
      "Train: [25][100/140]\t\n",
      "Train: [25][110/140]\t\n",
      "Train: [25][120/140]\t\n",
      "Train: [25][130/140]\t\n",
      "Train: [25][140/140]\t\n",
      "Training Accuracy: 91.97%\n",
      "Training loss: 0.19167165010064727\n",
      "Validation accuracy: 78.91156462585033 %\n",
      "Validation F1: 0.6044741285413933\n"
     ]
    },
    {
     "name": "stderr",
     "output_type": "stream",
     "text": [
      "/opt/conda/lib/python3.10/site-packages/torch/utils/data/dataloader.py:561: UserWarning: This DataLoader will create 8 worker processes in total. Our suggested max number of worker in current system is 2, which is smaller than what this DataLoader is going to create. Please be aware that excessive worker creation might get DataLoader running slow or even freeze, lower the worker number to avoid potential slowness/freeze if necessary.\n",
      "  warnings.warn(_create_warning_msg(\n"
     ]
    },
    {
     "name": "stdout",
     "output_type": "stream",
     "text": [
      "Train: [26][10/140]\t\n",
      "Train: [26][20/140]\t\n",
      "Train: [26][30/140]\t\n",
      "Train: [26][40/140]\t\n",
      "Train: [26][50/140]\t\n",
      "Train: [26][60/140]\t\n",
      "Train: [26][70/140]\t\n",
      "Train: [26][80/140]\t\n",
      "Train: [26][90/140]\t\n",
      "Train: [26][100/140]\t\n",
      "Train: [26][110/140]\t\n",
      "Train: [26][120/140]\t\n",
      "Train: [26][130/140]\t\n",
      "Train: [26][140/140]\t\n",
      "Training Accuracy: 92.01%\n",
      "Training loss: 0.1904957031329455\n",
      "Validation accuracy: 76.39455782312925 %\n",
      "Validation F1: 0.6147930836990027\n"
     ]
    },
    {
     "name": "stderr",
     "output_type": "stream",
     "text": [
      "/opt/conda/lib/python3.10/site-packages/torch/utils/data/dataloader.py:561: UserWarning: This DataLoader will create 8 worker processes in total. Our suggested max number of worker in current system is 2, which is smaller than what this DataLoader is going to create. Please be aware that excessive worker creation might get DataLoader running slow or even freeze, lower the worker number to avoid potential slowness/freeze if necessary.\n",
      "  warnings.warn(_create_warning_msg(\n"
     ]
    },
    {
     "name": "stdout",
     "output_type": "stream",
     "text": [
      "Train: [27][10/140]\t\n",
      "Train: [27][20/140]\t\n",
      "Train: [27][30/140]\t\n",
      "Train: [27][40/140]\t\n",
      "Train: [27][50/140]\t\n",
      "Train: [27][60/140]\t\n",
      "Train: [27][70/140]\t\n",
      "Train: [27][80/140]\t\n",
      "Train: [27][90/140]\t\n",
      "Train: [27][100/140]\t\n",
      "Train: [27][110/140]\t\n",
      "Train: [27][120/140]\t\n",
      "Train: [27][130/140]\t\n",
      "Train: [27][140/140]\t\n",
      "Training Accuracy: 92.27%\n",
      "Training loss: 0.1834566907701965\n",
      "Validation accuracy: 78.77551020408163 %\n",
      "Validation F1: 0.5899348949150952\n"
     ]
    },
    {
     "name": "stderr",
     "output_type": "stream",
     "text": [
      "/opt/conda/lib/python3.10/site-packages/torch/utils/data/dataloader.py:561: UserWarning: This DataLoader will create 8 worker processes in total. Our suggested max number of worker in current system is 2, which is smaller than what this DataLoader is going to create. Please be aware that excessive worker creation might get DataLoader running slow or even freeze, lower the worker number to avoid potential slowness/freeze if necessary.\n",
      "  warnings.warn(_create_warning_msg(\n"
     ]
    },
    {
     "name": "stdout",
     "output_type": "stream",
     "text": [
      "Train: [28][10/140]\t\n",
      "Train: [28][20/140]\t\n",
      "Train: [28][30/140]\t\n",
      "Train: [28][40/140]\t\n",
      "Train: [28][50/140]\t\n",
      "Train: [28][60/140]\t\n",
      "Train: [28][70/140]\t\n",
      "Train: [28][80/140]\t\n",
      "Train: [28][90/140]\t\n",
      "Train: [28][100/140]\t\n",
      "Train: [28][110/140]\t\n",
      "Train: [28][120/140]\t\n",
      "Train: [28][130/140]\t\n",
      "Train: [28][140/140]\t\n",
      "Training Accuracy: 92.29%\n",
      "Training loss: 0.1838537210485384\n",
      "Validation accuracy: 78.2312925170068 %\n",
      "Validation F1: 0.6120363310357563\n"
     ]
    },
    {
     "name": "stderr",
     "output_type": "stream",
     "text": [
      "/opt/conda/lib/python3.10/site-packages/torch/utils/data/dataloader.py:561: UserWarning: This DataLoader will create 8 worker processes in total. Our suggested max number of worker in current system is 2, which is smaller than what this DataLoader is going to create. Please be aware that excessive worker creation might get DataLoader running slow or even freeze, lower the worker number to avoid potential slowness/freeze if necessary.\n",
      "  warnings.warn(_create_warning_msg(\n"
     ]
    },
    {
     "name": "stdout",
     "output_type": "stream",
     "text": [
      "Train: [29][10/140]\t\n",
      "Train: [29][20/140]\t\n",
      "Train: [29][30/140]\t\n",
      "Train: [29][40/140]\t\n",
      "Train: [29][50/140]\t\n",
      "Train: [29][60/140]\t\n",
      "Train: [29][70/140]\t\n",
      "Train: [29][80/140]\t\n",
      "Train: [29][90/140]\t\n",
      "Train: [29][100/140]\t\n",
      "Train: [29][110/140]\t\n",
      "Train: [29][120/140]\t\n",
      "Train: [29][130/140]\t\n",
      "Train: [29][140/140]\t\n",
      "Training Accuracy: 92.74%\n",
      "Training loss: 0.1749194108783517\n",
      "Validation accuracy: 78.50340136054422 %\n",
      "Validation F1: 0.5879159781622253\n"
     ]
    },
    {
     "name": "stderr",
     "output_type": "stream",
     "text": [
      "/opt/conda/lib/python3.10/site-packages/torch/utils/data/dataloader.py:561: UserWarning: This DataLoader will create 8 worker processes in total. Our suggested max number of worker in current system is 2, which is smaller than what this DataLoader is going to create. Please be aware that excessive worker creation might get DataLoader running slow or even freeze, lower the worker number to avoid potential slowness/freeze if necessary.\n",
      "  warnings.warn(_create_warning_msg(\n"
     ]
    },
    {
     "name": "stdout",
     "output_type": "stream",
     "text": [
      "Train: [30][10/140]\t\n",
      "Train: [30][20/140]\t\n",
      "Train: [30][30/140]\t\n",
      "Train: [30][40/140]\t\n",
      "Train: [30][50/140]\t\n",
      "Train: [30][60/140]\t\n",
      "Train: [30][70/140]\t\n",
      "Train: [30][80/140]\t\n",
      "Train: [30][90/140]\t\n",
      "Train: [30][100/140]\t\n",
      "Train: [30][110/140]\t\n",
      "Train: [30][120/140]\t\n",
      "Train: [30][130/140]\t\n",
      "Train: [30][140/140]\t\n",
      "Training Accuracy: 92.71%\n",
      "Training loss: 0.17560165266694977\n",
      "Validation accuracy: 72.00680272108843 %\n",
      "Validation F1: 0.5856263308161435\n"
     ]
    },
    {
     "name": "stderr",
     "output_type": "stream",
     "text": [
      "/opt/conda/lib/python3.10/site-packages/torch/utils/data/dataloader.py:561: UserWarning: This DataLoader will create 8 worker processes in total. Our suggested max number of worker in current system is 2, which is smaller than what this DataLoader is going to create. Please be aware that excessive worker creation might get DataLoader running slow or even freeze, lower the worker number to avoid potential slowness/freeze if necessary.\n",
      "  warnings.warn(_create_warning_msg(\n"
     ]
    },
    {
     "name": "stdout",
     "output_type": "stream",
     "text": [
      "Train: [31][10/140]\t\n",
      "Train: [31][20/140]\t\n",
      "Train: [31][30/140]\t\n",
      "Train: [31][40/140]\t\n",
      "Train: [31][50/140]\t\n",
      "Train: [31][60/140]\t\n",
      "Train: [31][70/140]\t\n",
      "Train: [31][80/140]\t\n",
      "Train: [31][90/140]\t\n",
      "Train: [31][100/140]\t\n",
      "Train: [31][110/140]\t\n",
      "Train: [31][120/140]\t\n",
      "Train: [31][130/140]\t\n",
      "Train: [31][140/140]\t\n",
      "Training Accuracy: 92.97%\n",
      "Training loss: 0.1668301082413997\n",
      "Validation accuracy: 78.70748299319727 %\n",
      "Validation F1: 0.5969462570220313\n"
     ]
    },
    {
     "name": "stderr",
     "output_type": "stream",
     "text": [
      "/opt/conda/lib/python3.10/site-packages/torch/utils/data/dataloader.py:561: UserWarning: This DataLoader will create 8 worker processes in total. Our suggested max number of worker in current system is 2, which is smaller than what this DataLoader is going to create. Please be aware that excessive worker creation might get DataLoader running slow or even freeze, lower the worker number to avoid potential slowness/freeze if necessary.\n",
      "  warnings.warn(_create_warning_msg(\n"
     ]
    },
    {
     "name": "stdout",
     "output_type": "stream",
     "text": [
      "Train: [32][10/140]\t\n",
      "Train: [32][20/140]\t\n",
      "Train: [32][30/140]\t\n",
      "Train: [32][40/140]\t\n",
      "Train: [32][50/140]\t\n",
      "Train: [32][60/140]\t\n",
      "Train: [32][70/140]\t\n",
      "Train: [32][80/140]\t\n",
      "Train: [32][90/140]\t\n",
      "Train: [32][100/140]\t\n",
      "Train: [32][110/140]\t\n",
      "Train: [32][120/140]\t\n",
      "Train: [32][130/140]\t\n",
      "Train: [32][140/140]\t\n",
      "Training Accuracy: 92.96%\n",
      "Training loss: 0.16745520660991653\n",
      "Validation accuracy: 79.65986394557824 %\n",
      "Validation F1: 0.5981431100717908\n"
     ]
    },
    {
     "name": "stderr",
     "output_type": "stream",
     "text": [
      "/opt/conda/lib/python3.10/site-packages/torch/utils/data/dataloader.py:561: UserWarning: This DataLoader will create 8 worker processes in total. Our suggested max number of worker in current system is 2, which is smaller than what this DataLoader is going to create. Please be aware that excessive worker creation might get DataLoader running slow or even freeze, lower the worker number to avoid potential slowness/freeze if necessary.\n",
      "  warnings.warn(_create_warning_msg(\n"
     ]
    },
    {
     "name": "stdout",
     "output_type": "stream",
     "text": [
      "Train: [33][10/140]\t\n",
      "Train: [33][20/140]\t\n",
      "Train: [33][30/140]\t\n",
      "Train: [33][40/140]\t\n",
      "Train: [33][50/140]\t\n",
      "Train: [33][60/140]\t\n",
      "Train: [33][70/140]\t\n",
      "Train: [33][80/140]\t\n",
      "Train: [33][90/140]\t\n",
      "Train: [33][100/140]\t\n",
      "Train: [33][110/140]\t\n",
      "Train: [33][120/140]\t\n",
      "Train: [33][130/140]\t\n",
      "Train: [33][140/140]\t\n",
      "Training Accuracy: 93.21%\n",
      "Training loss: 0.16279434738043685\n",
      "Validation accuracy: 79.96598639455782 %\n",
      "Validation F1: 0.6186461771415098\n"
     ]
    },
    {
     "name": "stderr",
     "output_type": "stream",
     "text": [
      "/opt/conda/lib/python3.10/site-packages/torch/utils/data/dataloader.py:561: UserWarning: This DataLoader will create 8 worker processes in total. Our suggested max number of worker in current system is 2, which is smaller than what this DataLoader is going to create. Please be aware that excessive worker creation might get DataLoader running slow or even freeze, lower the worker number to avoid potential slowness/freeze if necessary.\n",
      "  warnings.warn(_create_warning_msg(\n"
     ]
    },
    {
     "name": "stdout",
     "output_type": "stream",
     "text": [
      "Train: [34][10/140]\t\n",
      "Train: [34][20/140]\t\n",
      "Train: [34][30/140]\t\n",
      "Train: [34][40/140]\t\n",
      "Train: [34][50/140]\t\n",
      "Train: [34][60/140]\t\n",
      "Train: [34][70/140]\t\n",
      "Train: [34][80/140]\t\n",
      "Train: [34][90/140]\t\n",
      "Train: [34][100/140]\t\n",
      "Train: [34][110/140]\t\n",
      "Train: [34][120/140]\t\n",
      "Train: [34][130/140]\t\n",
      "Train: [34][140/140]\t\n",
      "Training Accuracy: 93.33%\n",
      "Training loss: 0.16198821554311751\n",
      "Validation accuracy: 81.70068027210884 %\n",
      "Validation F1: 0.6364885302526554\n"
     ]
    },
    {
     "name": "stderr",
     "output_type": "stream",
     "text": [
      "/opt/conda/lib/python3.10/site-packages/torch/utils/data/dataloader.py:561: UserWarning: This DataLoader will create 8 worker processes in total. Our suggested max number of worker in current system is 2, which is smaller than what this DataLoader is going to create. Please be aware that excessive worker creation might get DataLoader running slow or even freeze, lower the worker number to avoid potential slowness/freeze if necessary.\n",
      "  warnings.warn(_create_warning_msg(\n"
     ]
    },
    {
     "name": "stdout",
     "output_type": "stream",
     "text": [
      "Train: [35][10/140]\t\n",
      "Train: [35][20/140]\t\n",
      "Train: [35][30/140]\t\n",
      "Train: [35][40/140]\t\n",
      "Train: [35][50/140]\t\n",
      "Train: [35][60/140]\t\n",
      "Train: [35][70/140]\t\n",
      "Train: [35][80/140]\t\n",
      "Train: [35][90/140]\t\n",
      "Train: [35][100/140]\t\n",
      "Train: [35][110/140]\t\n",
      "Train: [35][120/140]\t\n",
      "Train: [35][130/140]\t\n",
      "Train: [35][140/140]\t\n",
      "Training Accuracy: 93.59%\n",
      "Training loss: 0.1547762164655997\n",
      "Validation accuracy: 80.71428571428572 %\n",
      "Validation F1: 0.6046626321593896\n"
     ]
    },
    {
     "name": "stderr",
     "output_type": "stream",
     "text": [
      "/opt/conda/lib/python3.10/site-packages/torch/utils/data/dataloader.py:561: UserWarning: This DataLoader will create 8 worker processes in total. Our suggested max number of worker in current system is 2, which is smaller than what this DataLoader is going to create. Please be aware that excessive worker creation might get DataLoader running slow or even freeze, lower the worker number to avoid potential slowness/freeze if necessary.\n",
      "  warnings.warn(_create_warning_msg(\n"
     ]
    },
    {
     "name": "stdout",
     "output_type": "stream",
     "text": [
      "Train: [36][10/140]\t\n",
      "Train: [36][20/140]\t\n",
      "Train: [36][30/140]\t\n",
      "Train: [36][40/140]\t\n",
      "Train: [36][50/140]\t\n",
      "Train: [36][60/140]\t\n",
      "Train: [36][70/140]\t\n",
      "Train: [36][80/140]\t\n",
      "Train: [36][90/140]\t\n",
      "Train: [36][100/140]\t\n",
      "Train: [36][110/140]\t\n",
      "Train: [36][120/140]\t\n",
      "Train: [36][130/140]\t\n",
      "Train: [36][140/140]\t\n",
      "Training Accuracy: 93.73%\n",
      "Training loss: 0.1524740578341468\n",
      "Validation accuracy: 79.14965986394557 %\n",
      "Validation F1: 0.6191258855627711\n"
     ]
    },
    {
     "name": "stderr",
     "output_type": "stream",
     "text": [
      "/opt/conda/lib/python3.10/site-packages/torch/utils/data/dataloader.py:561: UserWarning: This DataLoader will create 8 worker processes in total. Our suggested max number of worker in current system is 2, which is smaller than what this DataLoader is going to create. Please be aware that excessive worker creation might get DataLoader running slow or even freeze, lower the worker number to avoid potential slowness/freeze if necessary.\n",
      "  warnings.warn(_create_warning_msg(\n"
     ]
    },
    {
     "name": "stdout",
     "output_type": "stream",
     "text": [
      "Train: [37][10/140]\t\n",
      "Train: [37][20/140]\t\n",
      "Train: [37][30/140]\t\n",
      "Train: [37][40/140]\t\n",
      "Train: [37][50/140]\t\n",
      "Train: [37][60/140]\t\n",
      "Train: [37][70/140]\t\n",
      "Train: [37][80/140]\t\n",
      "Train: [37][90/140]\t\n",
      "Train: [37][100/140]\t\n",
      "Train: [37][110/140]\t\n",
      "Train: [37][120/140]\t\n",
      "Train: [37][130/140]\t\n",
      "Train: [37][140/140]\t\n",
      "Training Accuracy: 93.83%\n",
      "Training loss: 0.14988533457075703\n",
      "Validation accuracy: 79.04761904761905 %\n",
      "Validation F1: 0.6235601218899395\n"
     ]
    },
    {
     "name": "stderr",
     "output_type": "stream",
     "text": [
      "/opt/conda/lib/python3.10/site-packages/torch/utils/data/dataloader.py:561: UserWarning: This DataLoader will create 8 worker processes in total. Our suggested max number of worker in current system is 2, which is smaller than what this DataLoader is going to create. Please be aware that excessive worker creation might get DataLoader running slow or even freeze, lower the worker number to avoid potential slowness/freeze if necessary.\n",
      "  warnings.warn(_create_warning_msg(\n"
     ]
    },
    {
     "name": "stdout",
     "output_type": "stream",
     "text": [
      "Train: [38][10/140]\t\n",
      "Train: [38][20/140]\t\n",
      "Train: [38][30/140]\t\n",
      "Train: [38][40/140]\t\n",
      "Train: [38][50/140]\t\n",
      "Train: [38][60/140]\t\n",
      "Train: [38][70/140]\t\n",
      "Train: [38][80/140]\t\n",
      "Train: [38][90/140]\t\n",
      "Train: [38][100/140]\t\n",
      "Train: [38][110/140]\t\n",
      "Train: [38][120/140]\t\n",
      "Train: [38][130/140]\t\n",
      "Train: [38][140/140]\t\n",
      "Training Accuracy: 93.83%\n",
      "Training loss: 0.14980865956809816\n",
      "Validation accuracy: 79.28571428571428 %\n",
      "Validation F1: 0.6207670001107508\n"
     ]
    },
    {
     "name": "stderr",
     "output_type": "stream",
     "text": [
      "/opt/conda/lib/python3.10/site-packages/torch/utils/data/dataloader.py:561: UserWarning: This DataLoader will create 8 worker processes in total. Our suggested max number of worker in current system is 2, which is smaller than what this DataLoader is going to create. Please be aware that excessive worker creation might get DataLoader running slow or even freeze, lower the worker number to avoid potential slowness/freeze if necessary.\n",
      "  warnings.warn(_create_warning_msg(\n"
     ]
    },
    {
     "name": "stdout",
     "output_type": "stream",
     "text": [
      "Train: [39][10/140]\t\n",
      "Train: [39][20/140]\t\n",
      "Train: [39][30/140]\t\n",
      "Train: [39][40/140]\t\n",
      "Train: [39][50/140]\t\n",
      "Train: [39][60/140]\t\n",
      "Train: [39][70/140]\t\n",
      "Train: [39][80/140]\t\n",
      "Train: [39][90/140]\t\n",
      "Train: [39][100/140]\t\n",
      "Train: [39][110/140]\t\n",
      "Train: [39][120/140]\t\n",
      "Train: [39][130/140]\t\n",
      "Train: [39][140/140]\t\n",
      "Training Accuracy: 94.18%\n",
      "Training loss: 0.1424710525074035\n",
      "Validation accuracy: 79.89795918367348 %\n",
      "Validation F1: 0.5967833752133308\n"
     ]
    },
    {
     "name": "stderr",
     "output_type": "stream",
     "text": [
      "/opt/conda/lib/python3.10/site-packages/torch/utils/data/dataloader.py:561: UserWarning: This DataLoader will create 8 worker processes in total. Our suggested max number of worker in current system is 2, which is smaller than what this DataLoader is going to create. Please be aware that excessive worker creation might get DataLoader running slow or even freeze, lower the worker number to avoid potential slowness/freeze if necessary.\n",
      "  warnings.warn(_create_warning_msg(\n"
     ]
    },
    {
     "name": "stdout",
     "output_type": "stream",
     "text": [
      "Train: [40][10/140]\t\n",
      "Train: [40][20/140]\t\n",
      "Train: [40][30/140]\t\n",
      "Train: [40][40/140]\t\n",
      "Train: [40][50/140]\t\n",
      "Train: [40][60/140]\t\n",
      "Train: [40][70/140]\t\n",
      "Train: [40][80/140]\t\n",
      "Train: [40][90/140]\t\n",
      "Train: [40][100/140]\t\n",
      "Train: [40][110/140]\t\n",
      "Train: [40][120/140]\t\n",
      "Train: [40][130/140]\t\n",
      "Train: [40][140/140]\t\n",
      "Training Accuracy: 93.95%\n",
      "Training loss: 0.14346112113050827\n",
      "Validation accuracy: 79.21768707482994 %\n",
      "Validation F1: 0.6026277878336873\n"
     ]
    },
    {
     "name": "stderr",
     "output_type": "stream",
     "text": [
      "/opt/conda/lib/python3.10/site-packages/torch/utils/data/dataloader.py:561: UserWarning: This DataLoader will create 8 worker processes in total. Our suggested max number of worker in current system is 2, which is smaller than what this DataLoader is going to create. Please be aware that excessive worker creation might get DataLoader running slow or even freeze, lower the worker number to avoid potential slowness/freeze if necessary.\n",
      "  warnings.warn(_create_warning_msg(\n"
     ]
    },
    {
     "name": "stdout",
     "output_type": "stream",
     "text": [
      "Train: [41][10/140]\t\n",
      "Train: [41][20/140]\t\n",
      "Train: [41][30/140]\t\n",
      "Train: [41][40/140]\t\n",
      "Train: [41][50/140]\t\n",
      "Train: [41][60/140]\t\n",
      "Train: [41][70/140]\t\n",
      "Train: [41][80/140]\t\n",
      "Train: [41][90/140]\t\n",
      "Train: [41][100/140]\t\n",
      "Train: [41][110/140]\t\n",
      "Train: [41][120/140]\t\n",
      "Train: [41][130/140]\t\n",
      "Train: [41][140/140]\t\n",
      "Training Accuracy: 94.09%\n",
      "Training loss: 0.14317748972147296\n",
      "Validation accuracy: 77.99319727891157 %\n",
      "Validation F1: 0.6095936416608486\n"
     ]
    },
    {
     "name": "stderr",
     "output_type": "stream",
     "text": [
      "/opt/conda/lib/python3.10/site-packages/torch/utils/data/dataloader.py:561: UserWarning: This DataLoader will create 8 worker processes in total. Our suggested max number of worker in current system is 2, which is smaller than what this DataLoader is going to create. Please be aware that excessive worker creation might get DataLoader running slow or even freeze, lower the worker number to avoid potential slowness/freeze if necessary.\n",
      "  warnings.warn(_create_warning_msg(\n"
     ]
    },
    {
     "name": "stdout",
     "output_type": "stream",
     "text": [
      "Train: [42][10/140]\t\n",
      "Train: [42][20/140]\t\n",
      "Train: [42][30/140]\t\n",
      "Train: [42][40/140]\t\n",
      "Train: [42][50/140]\t\n",
      "Train: [42][60/140]\t\n",
      "Train: [42][70/140]\t\n",
      "Train: [42][80/140]\t\n",
      "Train: [42][90/140]\t\n",
      "Train: [42][100/140]\t\n",
      "Train: [42][110/140]\t\n",
      "Train: [42][120/140]\t\n",
      "Train: [42][130/140]\t\n",
      "Train: [42][140/140]\t\n",
      "Training Accuracy: 94.26%\n",
      "Training loss: 0.14033859241674448\n",
      "Validation accuracy: 79.1156462585034 %\n",
      "Validation F1: 0.6128750502172852\n"
     ]
    },
    {
     "name": "stderr",
     "output_type": "stream",
     "text": [
      "/opt/conda/lib/python3.10/site-packages/torch/utils/data/dataloader.py:561: UserWarning: This DataLoader will create 8 worker processes in total. Our suggested max number of worker in current system is 2, which is smaller than what this DataLoader is going to create. Please be aware that excessive worker creation might get DataLoader running slow or even freeze, lower the worker number to avoid potential slowness/freeze if necessary.\n",
      "  warnings.warn(_create_warning_msg(\n"
     ]
    },
    {
     "name": "stdout",
     "output_type": "stream",
     "text": [
      "Train: [43][10/140]\t\n",
      "Train: [43][20/140]\t\n",
      "Train: [43][30/140]\t\n",
      "Train: [43][40/140]\t\n",
      "Train: [43][50/140]\t\n",
      "Train: [43][60/140]\t\n",
      "Train: [43][70/140]\t\n",
      "Train: [43][80/140]\t\n",
      "Train: [43][90/140]\t\n",
      "Train: [43][100/140]\t\n",
      "Train: [43][110/140]\t\n",
      "Train: [43][120/140]\t\n",
      "Train: [43][130/140]\t\n",
      "Train: [43][140/140]\t\n",
      "Training Accuracy: 94.18%\n",
      "Training loss: 0.14015066067943607\n",
      "Validation accuracy: 81.19047619047619 %\n",
      "Validation F1: 0.614784955054709\n"
     ]
    },
    {
     "name": "stderr",
     "output_type": "stream",
     "text": [
      "/opt/conda/lib/python3.10/site-packages/torch/utils/data/dataloader.py:561: UserWarning: This DataLoader will create 8 worker processes in total. Our suggested max number of worker in current system is 2, which is smaller than what this DataLoader is going to create. Please be aware that excessive worker creation might get DataLoader running slow or even freeze, lower the worker number to avoid potential slowness/freeze if necessary.\n",
      "  warnings.warn(_create_warning_msg(\n"
     ]
    },
    {
     "name": "stdout",
     "output_type": "stream",
     "text": [
      "Train: [44][10/140]\t\n",
      "Train: [44][20/140]\t\n",
      "Train: [44][30/140]\t\n",
      "Train: [44][40/140]\t\n",
      "Train: [44][50/140]\t\n",
      "Train: [44][60/140]\t\n",
      "Train: [44][70/140]\t\n",
      "Train: [44][80/140]\t\n",
      "Train: [44][90/140]\t\n",
      "Train: [44][100/140]\t\n",
      "Train: [44][110/140]\t\n",
      "Train: [44][120/140]\t\n",
      "Train: [44][130/140]\t\n",
      "Train: [44][140/140]\t\n",
      "Training Accuracy: 94.39%\n",
      "Training loss: 0.1367791733397687\n",
      "Validation accuracy: 81.56462585034014 %\n",
      "Validation F1: 0.6082455746760057\n"
     ]
    },
    {
     "name": "stderr",
     "output_type": "stream",
     "text": [
      "/opt/conda/lib/python3.10/site-packages/torch/utils/data/dataloader.py:561: UserWarning: This DataLoader will create 8 worker processes in total. Our suggested max number of worker in current system is 2, which is smaller than what this DataLoader is going to create. Please be aware that excessive worker creation might get DataLoader running slow or even freeze, lower the worker number to avoid potential slowness/freeze if necessary.\n",
      "  warnings.warn(_create_warning_msg(\n"
     ]
    },
    {
     "name": "stdout",
     "output_type": "stream",
     "text": [
      "Train: [45][10/140]\t\n",
      "Train: [45][20/140]\t\n",
      "Train: [45][30/140]\t\n",
      "Train: [45][40/140]\t\n",
      "Train: [45][50/140]\t\n",
      "Train: [45][60/140]\t\n",
      "Train: [45][70/140]\t\n",
      "Train: [45][80/140]\t\n",
      "Train: [45][90/140]\t\n",
      "Train: [45][100/140]\t\n",
      "Train: [45][110/140]\t\n",
      "Train: [45][120/140]\t\n",
      "Train: [45][130/140]\t\n",
      "Train: [45][140/140]\t\n",
      "Training Accuracy: 94.31%\n",
      "Training loss: 0.13800638025686277\n",
      "Validation accuracy: 77.7891156462585 %\n",
      "Validation F1: 0.5823406910859635\n"
     ]
    },
    {
     "name": "stderr",
     "output_type": "stream",
     "text": [
      "/opt/conda/lib/python3.10/site-packages/torch/utils/data/dataloader.py:561: UserWarning: This DataLoader will create 8 worker processes in total. Our suggested max number of worker in current system is 2, which is smaller than what this DataLoader is going to create. Please be aware that excessive worker creation might get DataLoader running slow or even freeze, lower the worker number to avoid potential slowness/freeze if necessary.\n",
      "  warnings.warn(_create_warning_msg(\n"
     ]
    },
    {
     "name": "stdout",
     "output_type": "stream",
     "text": [
      "Train: [46][10/140]\t\n",
      "Train: [46][20/140]\t\n",
      "Train: [46][30/140]\t\n",
      "Train: [46][40/140]\t\n",
      "Train: [46][50/140]\t\n",
      "Train: [46][60/140]\t\n",
      "Train: [46][70/140]\t\n",
      "Train: [46][80/140]\t\n",
      "Train: [46][90/140]\t\n",
      "Train: [46][100/140]\t\n",
      "Train: [46][110/140]\t\n",
      "Train: [46][120/140]\t\n",
      "Train: [46][130/140]\t\n",
      "Train: [46][140/140]\t\n",
      "Training Accuracy: 94.66%\n",
      "Training loss: 0.13020163364783616\n",
      "Validation accuracy: 80.57823129251702 %\n",
      "Validation F1: 0.6137990069641703\n"
     ]
    },
    {
     "name": "stderr",
     "output_type": "stream",
     "text": [
      "/opt/conda/lib/python3.10/site-packages/torch/utils/data/dataloader.py:561: UserWarning: This DataLoader will create 8 worker processes in total. Our suggested max number of worker in current system is 2, which is smaller than what this DataLoader is going to create. Please be aware that excessive worker creation might get DataLoader running slow or even freeze, lower the worker number to avoid potential slowness/freeze if necessary.\n",
      "  warnings.warn(_create_warning_msg(\n"
     ]
    },
    {
     "name": "stdout",
     "output_type": "stream",
     "text": [
      "Train: [47][10/140]\t\n",
      "Train: [47][20/140]\t\n",
      "Train: [47][30/140]\t\n",
      "Train: [47][40/140]\t\n",
      "Train: [47][50/140]\t\n",
      "Train: [47][60/140]\t\n",
      "Train: [47][70/140]\t\n",
      "Train: [47][80/140]\t\n",
      "Train: [47][90/140]\t\n",
      "Train: [47][100/140]\t\n",
      "Train: [47][110/140]\t\n",
      "Train: [47][120/140]\t\n",
      "Train: [47][130/140]\t\n",
      "Train: [47][140/140]\t\n",
      "Training Accuracy: 94.71%\n",
      "Training loss: 0.12943558253884235\n",
      "Validation accuracy: 78.80952380952381 %\n",
      "Validation F1: 0.6163038548250235\n"
     ]
    },
    {
     "name": "stderr",
     "output_type": "stream",
     "text": [
      "/opt/conda/lib/python3.10/site-packages/torch/utils/data/dataloader.py:561: UserWarning: This DataLoader will create 8 worker processes in total. Our suggested max number of worker in current system is 2, which is smaller than what this DataLoader is going to create. Please be aware that excessive worker creation might get DataLoader running slow or even freeze, lower the worker number to avoid potential slowness/freeze if necessary.\n",
      "  warnings.warn(_create_warning_msg(\n"
     ]
    },
    {
     "name": "stdout",
     "output_type": "stream",
     "text": [
      "Train: [48][10/140]\t\n",
      "Train: [48][20/140]\t\n",
      "Train: [48][30/140]\t\n",
      "Train: [48][40/140]\t\n",
      "Train: [48][50/140]\t\n",
      "Train: [48][60/140]\t\n",
      "Train: [48][70/140]\t\n",
      "Train: [48][80/140]\t\n",
      "Train: [48][90/140]\t\n",
      "Train: [48][100/140]\t\n",
      "Train: [48][110/140]\t\n",
      "Train: [48][120/140]\t\n",
      "Train: [48][130/140]\t\n",
      "Train: [48][140/140]\t\n",
      "Training Accuracy: 94.85%\n",
      "Training loss: 0.12598338555423474\n",
      "Validation accuracy: 80.10204081632652 %\n",
      "Validation F1: 0.5770642814648265\n"
     ]
    },
    {
     "name": "stderr",
     "output_type": "stream",
     "text": [
      "/opt/conda/lib/python3.10/site-packages/torch/utils/data/dataloader.py:561: UserWarning: This DataLoader will create 8 worker processes in total. Our suggested max number of worker in current system is 2, which is smaller than what this DataLoader is going to create. Please be aware that excessive worker creation might get DataLoader running slow or even freeze, lower the worker number to avoid potential slowness/freeze if necessary.\n",
      "  warnings.warn(_create_warning_msg(\n"
     ]
    },
    {
     "name": "stdout",
     "output_type": "stream",
     "text": [
      "Train: [49][10/140]\t\n",
      "Train: [49][20/140]\t\n",
      "Train: [49][30/140]\t\n",
      "Train: [49][40/140]\t\n",
      "Train: [49][50/140]\t\n",
      "Train: [49][60/140]\t\n",
      "Train: [49][70/140]\t\n",
      "Train: [49][80/140]\t\n",
      "Train: [49][90/140]\t\n",
      "Train: [49][100/140]\t\n",
      "Train: [49][110/140]\t\n",
      "Train: [49][120/140]\t\n",
      "Train: [49][130/140]\t\n",
      "Train: [49][140/140]\t\n",
      "Training Accuracy: 94.98%\n",
      "Training loss: 0.12331934238488056\n",
      "Validation accuracy: 80.85034013605443 %\n",
      "Validation F1: 0.5853909640435013\n"
     ]
    },
    {
     "name": "stderr",
     "output_type": "stream",
     "text": [
      "/opt/conda/lib/python3.10/site-packages/torch/utils/data/dataloader.py:561: UserWarning: This DataLoader will create 8 worker processes in total. Our suggested max number of worker in current system is 2, which is smaller than what this DataLoader is going to create. Please be aware that excessive worker creation might get DataLoader running slow or even freeze, lower the worker number to avoid potential slowness/freeze if necessary.\n",
      "  warnings.warn(_create_warning_msg(\n"
     ]
    },
    {
     "name": "stdout",
     "output_type": "stream",
     "text": [
      "Train: [50][10/140]\t\n",
      "Train: [50][20/140]\t\n",
      "Train: [50][30/140]\t\n",
      "Train: [50][40/140]\t\n",
      "Train: [50][50/140]\t\n",
      "Train: [50][60/140]\t\n",
      "Train: [50][70/140]\t\n",
      "Train: [50][80/140]\t\n",
      "Train: [50][90/140]\t\n",
      "Train: [50][100/140]\t\n",
      "Train: [50][110/140]\t\n",
      "Train: [50][120/140]\t\n",
      "Train: [50][130/140]\t\n",
      "Train: [50][140/140]\t\n",
      "Training Accuracy: 94.74%\n",
      "Training loss: 0.1260057115406433\n",
      "Validation accuracy: 80.8843537414966 %\n",
      "Validation F1: 0.5971792162443613\n"
     ]
    },
    {
     "name": "stderr",
     "output_type": "stream",
     "text": [
      "/opt/conda/lib/python3.10/site-packages/torch/utils/data/dataloader.py:561: UserWarning: This DataLoader will create 8 worker processes in total. Our suggested max number of worker in current system is 2, which is smaller than what this DataLoader is going to create. Please be aware that excessive worker creation might get DataLoader running slow or even freeze, lower the worker number to avoid potential slowness/freeze if necessary.\n",
      "  warnings.warn(_create_warning_msg(\n"
     ]
    },
    {
     "name": "stdout",
     "output_type": "stream",
     "text": [
      "Train: [51][10/140]\t\n",
      "Train: [51][20/140]\t\n",
      "Train: [51][30/140]\t\n",
      "Train: [51][40/140]\t\n",
      "Train: [51][50/140]\t\n",
      "Train: [51][60/140]\t\n",
      "Train: [51][70/140]\t\n",
      "Train: [51][80/140]\t\n",
      "Train: [51][90/140]\t\n",
      "Train: [51][100/140]\t\n",
      "Train: [51][110/140]\t\n",
      "Train: [51][120/140]\t\n",
      "Train: [51][130/140]\t\n",
      "Train: [51][140/140]\t\n",
      "Training Accuracy: 94.88%\n",
      "Training loss: 0.12342068447035293\n",
      "Validation accuracy: 77.48299319727892 %\n",
      "Validation F1: 0.6054201689771599\n"
     ]
    },
    {
     "name": "stderr",
     "output_type": "stream",
     "text": [
      "/opt/conda/lib/python3.10/site-packages/torch/utils/data/dataloader.py:561: UserWarning: This DataLoader will create 8 worker processes in total. Our suggested max number of worker in current system is 2, which is smaller than what this DataLoader is going to create. Please be aware that excessive worker creation might get DataLoader running slow or even freeze, lower the worker number to avoid potential slowness/freeze if necessary.\n",
      "  warnings.warn(_create_warning_msg(\n"
     ]
    },
    {
     "name": "stdout",
     "output_type": "stream",
     "text": [
      "Train: [52][10/140]\t\n",
      "Train: [52][20/140]\t\n",
      "Train: [52][30/140]\t\n",
      "Train: [52][40/140]\t\n",
      "Train: [52][50/140]\t\n",
      "Train: [52][60/140]\t\n",
      "Train: [52][70/140]\t\n",
      "Train: [52][80/140]\t\n",
      "Train: [52][90/140]\t\n",
      "Train: [52][100/140]\t\n",
      "Train: [52][110/140]\t\n",
      "Train: [52][120/140]\t\n",
      "Train: [52][130/140]\t\n",
      "Train: [52][140/140]\t\n",
      "Training Accuracy: 95.17%\n",
      "Training loss: 0.11833348123047165\n",
      "Validation accuracy: 79.5578231292517 %\n",
      "Validation F1: 0.6285950258357474\n"
     ]
    },
    {
     "name": "stderr",
     "output_type": "stream",
     "text": [
      "/opt/conda/lib/python3.10/site-packages/torch/utils/data/dataloader.py:561: UserWarning: This DataLoader will create 8 worker processes in total. Our suggested max number of worker in current system is 2, which is smaller than what this DataLoader is going to create. Please be aware that excessive worker creation might get DataLoader running slow or even freeze, lower the worker number to avoid potential slowness/freeze if necessary.\n",
      "  warnings.warn(_create_warning_msg(\n"
     ]
    },
    {
     "name": "stdout",
     "output_type": "stream",
     "text": [
      "Train: [53][10/140]\t\n",
      "Train: [53][20/140]\t\n",
      "Train: [53][30/140]\t\n",
      "Train: [53][40/140]\t\n",
      "Train: [53][50/140]\t\n",
      "Train: [53][60/140]\t\n",
      "Train: [53][70/140]\t\n",
      "Train: [53][80/140]\t\n",
      "Train: [53][90/140]\t\n",
      "Train: [53][100/140]\t\n",
      "Train: [53][110/140]\t\n",
      "Train: [53][120/140]\t\n",
      "Train: [53][130/140]\t\n",
      "Train: [53][140/140]\t\n",
      "Training Accuracy: 95.14%\n",
      "Training loss: 0.11824160296637853\n",
      "Validation accuracy: 79.5578231292517 %\n",
      "Validation F1: 0.6257491303791881\n"
     ]
    },
    {
     "name": "stderr",
     "output_type": "stream",
     "text": [
      "/opt/conda/lib/python3.10/site-packages/torch/utils/data/dataloader.py:561: UserWarning: This DataLoader will create 8 worker processes in total. Our suggested max number of worker in current system is 2, which is smaller than what this DataLoader is going to create. Please be aware that excessive worker creation might get DataLoader running slow or even freeze, lower the worker number to avoid potential slowness/freeze if necessary.\n",
      "  warnings.warn(_create_warning_msg(\n"
     ]
    },
    {
     "name": "stdout",
     "output_type": "stream",
     "text": [
      "Train: [54][10/140]\t\n",
      "Train: [54][20/140]\t\n",
      "Train: [54][30/140]\t\n",
      "Train: [54][40/140]\t\n",
      "Train: [54][50/140]\t\n",
      "Train: [54][60/140]\t\n",
      "Train: [54][70/140]\t\n",
      "Train: [54][80/140]\t\n",
      "Train: [54][90/140]\t\n",
      "Train: [54][100/140]\t\n",
      "Train: [54][110/140]\t\n",
      "Train: [54][120/140]\t\n",
      "Train: [54][130/140]\t\n",
      "Train: [54][140/140]\t\n",
      "Training Accuracy: 95.33%\n",
      "Training loss: 0.11465781034843674\n",
      "Validation accuracy: 80.98639455782313 %\n",
      "Validation F1: 0.6283518953779783\n"
     ]
    },
    {
     "name": "stderr",
     "output_type": "stream",
     "text": [
      "/opt/conda/lib/python3.10/site-packages/torch/utils/data/dataloader.py:561: UserWarning: This DataLoader will create 8 worker processes in total. Our suggested max number of worker in current system is 2, which is smaller than what this DataLoader is going to create. Please be aware that excessive worker creation might get DataLoader running slow or even freeze, lower the worker number to avoid potential slowness/freeze if necessary.\n",
      "  warnings.warn(_create_warning_msg(\n"
     ]
    },
    {
     "name": "stdout",
     "output_type": "stream",
     "text": [
      "Train: [55][10/140]\t\n",
      "Train: [55][20/140]\t\n",
      "Train: [55][30/140]\t\n",
      "Train: [55][40/140]\t\n",
      "Train: [55][50/140]\t\n",
      "Train: [55][60/140]\t\n",
      "Train: [55][70/140]\t\n",
      "Train: [55][80/140]\t\n",
      "Train: [55][90/140]\t\n",
      "Train: [55][100/140]\t\n",
      "Train: [55][110/140]\t\n",
      "Train: [55][120/140]\t\n",
      "Train: [55][130/140]\t\n",
      "Train: [55][140/140]\t\n",
      "Training Accuracy: 95.38%\n",
      "Training loss: 0.11469909659707779\n",
      "Validation accuracy: 78.91156462585033 %\n",
      "Validation F1: 0.582975668473437\n"
     ]
    },
    {
     "name": "stderr",
     "output_type": "stream",
     "text": [
      "/opt/conda/lib/python3.10/site-packages/torch/utils/data/dataloader.py:561: UserWarning: This DataLoader will create 8 worker processes in total. Our suggested max number of worker in current system is 2, which is smaller than what this DataLoader is going to create. Please be aware that excessive worker creation might get DataLoader running slow or even freeze, lower the worker number to avoid potential slowness/freeze if necessary.\n",
      "  warnings.warn(_create_warning_msg(\n"
     ]
    },
    {
     "name": "stdout",
     "output_type": "stream",
     "text": [
      "Train: [56][10/140]\t\n",
      "Train: [56][20/140]\t\n",
      "Train: [56][30/140]\t\n",
      "Train: [56][40/140]\t\n",
      "Train: [56][50/140]\t\n",
      "Train: [56][60/140]\t\n",
      "Train: [56][70/140]\t\n",
      "Train: [56][80/140]\t\n",
      "Train: [56][90/140]\t\n",
      "Train: [56][100/140]\t\n",
      "Train: [56][110/140]\t\n",
      "Train: [56][120/140]\t\n",
      "Train: [56][130/140]\t\n",
      "Train: [56][140/140]\t\n",
      "Training Accuracy: 95.30%\n",
      "Training loss: 0.115271503513879\n",
      "Validation accuracy: 81.39455782312925 %\n",
      "Validation F1: 0.5988028524193433\n"
     ]
    },
    {
     "name": "stderr",
     "output_type": "stream",
     "text": [
      "/opt/conda/lib/python3.10/site-packages/torch/utils/data/dataloader.py:561: UserWarning: This DataLoader will create 8 worker processes in total. Our suggested max number of worker in current system is 2, which is smaller than what this DataLoader is going to create. Please be aware that excessive worker creation might get DataLoader running slow or even freeze, lower the worker number to avoid potential slowness/freeze if necessary.\n",
      "  warnings.warn(_create_warning_msg(\n"
     ]
    },
    {
     "name": "stdout",
     "output_type": "stream",
     "text": [
      "Train: [57][10/140]\t\n",
      "Train: [57][20/140]\t\n",
      "Train: [57][30/140]\t\n",
      "Train: [57][40/140]\t\n",
      "Train: [57][50/140]\t\n",
      "Train: [57][60/140]\t\n",
      "Train: [57][70/140]\t\n",
      "Train: [57][80/140]\t\n",
      "Train: [57][90/140]\t\n",
      "Train: [57][100/140]\t\n",
      "Train: [57][110/140]\t\n",
      "Train: [57][120/140]\t\n",
      "Train: [57][130/140]\t\n",
      "Train: [57][140/140]\t\n",
      "Training Accuracy: 95.55%\n",
      "Training loss: 0.11156086728434628\n",
      "Validation accuracy: 78.36734693877551 %\n",
      "Validation F1: 0.6227989141853448\n"
     ]
    },
    {
     "name": "stderr",
     "output_type": "stream",
     "text": [
      "/opt/conda/lib/python3.10/site-packages/torch/utils/data/dataloader.py:561: UserWarning: This DataLoader will create 8 worker processes in total. Our suggested max number of worker in current system is 2, which is smaller than what this DataLoader is going to create. Please be aware that excessive worker creation might get DataLoader running slow or even freeze, lower the worker number to avoid potential slowness/freeze if necessary.\n",
      "  warnings.warn(_create_warning_msg(\n"
     ]
    },
    {
     "name": "stdout",
     "output_type": "stream",
     "text": [
      "Train: [58][10/140]\t\n",
      "Train: [58][20/140]\t\n",
      "Train: [58][30/140]\t\n",
      "Train: [58][40/140]\t\n",
      "Train: [58][50/140]\t\n",
      "Train: [58][60/140]\t\n",
      "Train: [58][70/140]\t\n",
      "Train: [58][80/140]\t\n",
      "Train: [58][90/140]\t\n",
      "Train: [58][100/140]\t\n",
      "Train: [58][110/140]\t\n",
      "Train: [58][120/140]\t\n",
      "Train: [58][130/140]\t\n",
      "Train: [58][140/140]\t\n",
      "Training Accuracy: 95.40%\n",
      "Training loss: 0.11224662137923153\n",
      "Validation accuracy: 81.36054421768706 %\n",
      "Validation F1: 0.611013505564649\n"
     ]
    },
    {
     "name": "stderr",
     "output_type": "stream",
     "text": [
      "/opt/conda/lib/python3.10/site-packages/torch/utils/data/dataloader.py:561: UserWarning: This DataLoader will create 8 worker processes in total. Our suggested max number of worker in current system is 2, which is smaller than what this DataLoader is going to create. Please be aware that excessive worker creation might get DataLoader running slow or even freeze, lower the worker number to avoid potential slowness/freeze if necessary.\n",
      "  warnings.warn(_create_warning_msg(\n"
     ]
    },
    {
     "name": "stdout",
     "output_type": "stream",
     "text": [
      "Train: [59][10/140]\t\n",
      "Train: [59][20/140]\t\n",
      "Train: [59][30/140]\t\n",
      "Train: [59][40/140]\t\n",
      "Train: [59][50/140]\t\n",
      "Train: [59][60/140]\t\n",
      "Train: [59][70/140]\t\n",
      "Train: [59][80/140]\t\n",
      "Train: [59][90/140]\t\n",
      "Train: [59][100/140]\t\n",
      "Train: [59][110/140]\t\n",
      "Train: [59][120/140]\t\n",
      "Train: [59][130/140]\t\n",
      "Train: [59][140/140]\t\n",
      "Training Accuracy: 95.63%\n",
      "Training loss: 0.10851126515589961\n",
      "Validation accuracy: 78.87755102040816 %\n",
      "Validation F1: 0.6221713774356948\n"
     ]
    },
    {
     "name": "stderr",
     "output_type": "stream",
     "text": [
      "/opt/conda/lib/python3.10/site-packages/torch/utils/data/dataloader.py:561: UserWarning: This DataLoader will create 8 worker processes in total. Our suggested max number of worker in current system is 2, which is smaller than what this DataLoader is going to create. Please be aware that excessive worker creation might get DataLoader running slow or even freeze, lower the worker number to avoid potential slowness/freeze if necessary.\n",
      "  warnings.warn(_create_warning_msg(\n"
     ]
    },
    {
     "name": "stdout",
     "output_type": "stream",
     "text": [
      "Train: [60][10/140]\t\n",
      "Train: [60][20/140]\t\n",
      "Train: [60][30/140]\t\n",
      "Train: [60][40/140]\t\n",
      "Train: [60][50/140]\t\n",
      "Train: [60][60/140]\t\n",
      "Train: [60][70/140]\t\n",
      "Train: [60][80/140]\t\n",
      "Train: [60][90/140]\t\n",
      "Train: [60][100/140]\t\n",
      "Train: [60][110/140]\t\n",
      "Train: [60][120/140]\t\n",
      "Train: [60][130/140]\t\n",
      "Train: [60][140/140]\t\n",
      "Training Accuracy: 95.71%\n",
      "Training loss: 0.1052708926623807\n",
      "Validation accuracy: 80.34013605442178 %\n",
      "Validation F1: 0.6113849000295845\n"
     ]
    },
    {
     "name": "stderr",
     "output_type": "stream",
     "text": [
      "/opt/conda/lib/python3.10/site-packages/torch/utils/data/dataloader.py:561: UserWarning: This DataLoader will create 8 worker processes in total. Our suggested max number of worker in current system is 2, which is smaller than what this DataLoader is going to create. Please be aware that excessive worker creation might get DataLoader running slow or even freeze, lower the worker number to avoid potential slowness/freeze if necessary.\n",
      "  warnings.warn(_create_warning_msg(\n"
     ]
    },
    {
     "name": "stdout",
     "output_type": "stream",
     "text": [
      "Train: [61][10/140]\t\n",
      "Train: [61][20/140]\t\n",
      "Train: [61][30/140]\t\n",
      "Train: [61][40/140]\t\n",
      "Train: [61][50/140]\t\n",
      "Train: [61][60/140]\t\n",
      "Train: [61][70/140]\t\n",
      "Train: [61][80/140]\t\n",
      "Train: [61][90/140]\t\n",
      "Train: [61][100/140]\t\n",
      "Train: [61][110/140]\t\n",
      "Train: [61][120/140]\t\n",
      "Train: [61][130/140]\t\n",
      "Train: [61][140/140]\t\n",
      "Training Accuracy: 95.72%\n",
      "Training loss: 0.10595462153272849\n",
      "Validation accuracy: 81.83673469387756 %\n",
      "Validation F1: 0.6212825858929862\n"
     ]
    },
    {
     "name": "stderr",
     "output_type": "stream",
     "text": [
      "/opt/conda/lib/python3.10/site-packages/torch/utils/data/dataloader.py:561: UserWarning: This DataLoader will create 8 worker processes in total. Our suggested max number of worker in current system is 2, which is smaller than what this DataLoader is going to create. Please be aware that excessive worker creation might get DataLoader running slow or even freeze, lower the worker number to avoid potential slowness/freeze if necessary.\n",
      "  warnings.warn(_create_warning_msg(\n"
     ]
    },
    {
     "name": "stdout",
     "output_type": "stream",
     "text": [
      "Train: [62][10/140]\t\n",
      "Train: [62][20/140]\t\n",
      "Train: [62][30/140]\t\n",
      "Train: [62][40/140]\t\n",
      "Train: [62][50/140]\t\n",
      "Train: [62][60/140]\t\n",
      "Train: [62][70/140]\t\n",
      "Train: [62][80/140]\t\n",
      "Train: [62][90/140]\t\n",
      "Train: [62][100/140]\t\n",
      "Train: [62][110/140]\t\n",
      "Train: [62][120/140]\t\n",
      "Train: [62][130/140]\t\n",
      "Train: [62][140/140]\t\n",
      "Training Accuracy: 96.02%\n",
      "Training loss: 0.09900904942849448\n",
      "Validation accuracy: 80.06802721088435 %\n",
      "Validation F1: 0.5847508855062934\n"
     ]
    },
    {
     "name": "stderr",
     "output_type": "stream",
     "text": [
      "/opt/conda/lib/python3.10/site-packages/torch/utils/data/dataloader.py:561: UserWarning: This DataLoader will create 8 worker processes in total. Our suggested max number of worker in current system is 2, which is smaller than what this DataLoader is going to create. Please be aware that excessive worker creation might get DataLoader running slow or even freeze, lower the worker number to avoid potential slowness/freeze if necessary.\n",
      "  warnings.warn(_create_warning_msg(\n"
     ]
    },
    {
     "name": "stdout",
     "output_type": "stream",
     "text": [
      "Train: [63][10/140]\t\n",
      "Train: [63][20/140]\t\n",
      "Train: [63][30/140]\t\n",
      "Train: [63][40/140]\t\n",
      "Train: [63][50/140]\t\n",
      "Train: [63][60/140]\t\n",
      "Train: [63][70/140]\t\n",
      "Train: [63][80/140]\t\n",
      "Train: [63][90/140]\t\n",
      "Train: [63][100/140]\t\n",
      "Train: [63][110/140]\t\n",
      "Train: [63][120/140]\t\n",
      "Train: [63][130/140]\t\n",
      "Train: [63][140/140]\t\n",
      "Training Accuracy: 96.19%\n",
      "Training loss: 0.09609479763083299\n",
      "Validation accuracy: 80.57823129251702 %\n",
      "Validation F1: 0.6066521179786092\n"
     ]
    },
    {
     "name": "stderr",
     "output_type": "stream",
     "text": [
      "/opt/conda/lib/python3.10/site-packages/torch/utils/data/dataloader.py:561: UserWarning: This DataLoader will create 8 worker processes in total. Our suggested max number of worker in current system is 2, which is smaller than what this DataLoader is going to create. Please be aware that excessive worker creation might get DataLoader running slow or even freeze, lower the worker number to avoid potential slowness/freeze if necessary.\n",
      "  warnings.warn(_create_warning_msg(\n"
     ]
    },
    {
     "name": "stdout",
     "output_type": "stream",
     "text": [
      "Train: [64][10/140]\t\n",
      "Train: [64][20/140]\t\n",
      "Train: [64][30/140]\t\n",
      "Train: [64][40/140]\t\n",
      "Train: [64][50/140]\t\n",
      "Train: [64][60/140]\t\n",
      "Train: [64][70/140]\t\n",
      "Train: [64][80/140]\t\n",
      "Train: [64][90/140]\t\n",
      "Train: [64][100/140]\t\n",
      "Train: [64][110/140]\t\n",
      "Train: [64][120/140]\t\n",
      "Train: [64][130/140]\t\n",
      "Train: [64][140/140]\t\n",
      "Training Accuracy: 95.90%\n",
      "Training loss: 0.10179539922776043\n",
      "Validation accuracy: 80.10204081632652 %\n",
      "Validation F1: 0.5930613372534478\n"
     ]
    },
    {
     "name": "stderr",
     "output_type": "stream",
     "text": [
      "/opt/conda/lib/python3.10/site-packages/torch/utils/data/dataloader.py:561: UserWarning: This DataLoader will create 8 worker processes in total. Our suggested max number of worker in current system is 2, which is smaller than what this DataLoader is going to create. Please be aware that excessive worker creation might get DataLoader running slow or even freeze, lower the worker number to avoid potential slowness/freeze if necessary.\n",
      "  warnings.warn(_create_warning_msg(\n"
     ]
    },
    {
     "name": "stdout",
     "output_type": "stream",
     "text": [
      "Train: [65][10/140]\t\n",
      "Train: [65][20/140]\t\n",
      "Train: [65][30/140]\t\n",
      "Train: [65][40/140]\t\n",
      "Train: [65][50/140]\t\n",
      "Train: [65][60/140]\t\n",
      "Train: [65][70/140]\t\n",
      "Train: [65][80/140]\t\n",
      "Train: [65][90/140]\t\n",
      "Train: [65][100/140]\t\n",
      "Train: [65][110/140]\t\n",
      "Train: [65][120/140]\t\n",
      "Train: [65][130/140]\t\n",
      "Train: [65][140/140]\t\n",
      "Training Accuracy: 95.90%\n",
      "Training loss: 0.10159732169114734\n",
      "Validation accuracy: 80.57823129251702 %\n",
      "Validation F1: 0.6203795203229179\n"
     ]
    },
    {
     "name": "stderr",
     "output_type": "stream",
     "text": [
      "/opt/conda/lib/python3.10/site-packages/torch/utils/data/dataloader.py:561: UserWarning: This DataLoader will create 8 worker processes in total. Our suggested max number of worker in current system is 2, which is smaller than what this DataLoader is going to create. Please be aware that excessive worker creation might get DataLoader running slow or even freeze, lower the worker number to avoid potential slowness/freeze if necessary.\n",
      "  warnings.warn(_create_warning_msg(\n"
     ]
    },
    {
     "name": "stdout",
     "output_type": "stream",
     "text": [
      "Train: [66][10/140]\t\n",
      "Train: [66][20/140]\t\n",
      "Train: [66][30/140]\t\n",
      "Train: [66][40/140]\t\n",
      "Train: [66][50/140]\t\n",
      "Train: [66][60/140]\t\n",
      "Train: [66][70/140]\t\n",
      "Train: [66][80/140]\t\n",
      "Train: [66][90/140]\t\n",
      "Train: [66][100/140]\t\n",
      "Train: [66][110/140]\t\n",
      "Train: [66][120/140]\t\n",
      "Train: [66][130/140]\t\n",
      "Train: [66][140/140]\t\n",
      "Training Accuracy: 96.07%\n",
      "Training loss: 0.09786425644532264\n",
      "Validation accuracy: 79.14965986394557 %\n",
      "Validation F1: 0.6332037597527188\n"
     ]
    },
    {
     "name": "stderr",
     "output_type": "stream",
     "text": [
      "/opt/conda/lib/python3.10/site-packages/torch/utils/data/dataloader.py:561: UserWarning: This DataLoader will create 8 worker processes in total. Our suggested max number of worker in current system is 2, which is smaller than what this DataLoader is going to create. Please be aware that excessive worker creation might get DataLoader running slow or even freeze, lower the worker number to avoid potential slowness/freeze if necessary.\n",
      "  warnings.warn(_create_warning_msg(\n"
     ]
    },
    {
     "name": "stdout",
     "output_type": "stream",
     "text": [
      "Train: [67][10/140]\t\n",
      "Train: [67][20/140]\t\n",
      "Train: [67][30/140]\t\n",
      "Train: [67][40/140]\t\n",
      "Train: [67][50/140]\t\n",
      "Train: [67][60/140]\t\n",
      "Train: [67][70/140]\t\n",
      "Train: [67][80/140]\t\n",
      "Train: [67][90/140]\t\n",
      "Train: [67][100/140]\t\n",
      "Train: [67][110/140]\t\n",
      "Train: [67][120/140]\t\n",
      "Train: [67][130/140]\t\n",
      "Train: [67][140/140]\t\n",
      "Training Accuracy: 96.19%\n",
      "Training loss: 0.09457380789448847\n",
      "Validation accuracy: 78.63945578231292 %\n",
      "Validation F1: 0.6064459916941553\n"
     ]
    },
    {
     "name": "stderr",
     "output_type": "stream",
     "text": [
      "/opt/conda/lib/python3.10/site-packages/torch/utils/data/dataloader.py:561: UserWarning: This DataLoader will create 8 worker processes in total. Our suggested max number of worker in current system is 2, which is smaller than what this DataLoader is going to create. Please be aware that excessive worker creation might get DataLoader running slow or even freeze, lower the worker number to avoid potential slowness/freeze if necessary.\n",
      "  warnings.warn(_create_warning_msg(\n"
     ]
    },
    {
     "name": "stdout",
     "output_type": "stream",
     "text": [
      "Train: [68][10/140]\t\n",
      "Train: [68][20/140]\t\n",
      "Train: [68][30/140]\t\n",
      "Train: [68][40/140]\t\n",
      "Train: [68][50/140]\t\n",
      "Train: [68][60/140]\t\n",
      "Train: [68][70/140]\t\n",
      "Train: [68][80/140]\t\n",
      "Train: [68][90/140]\t\n",
      "Train: [68][100/140]\t\n",
      "Train: [68][110/140]\t\n",
      "Train: [68][120/140]\t\n",
      "Train: [68][130/140]\t\n",
      "Train: [68][140/140]\t\n",
      "Training Accuracy: 96.27%\n",
      "Training loss: 0.09427608658705199\n",
      "Validation accuracy: 78.63945578231292 %\n",
      "Validation F1: 0.6163510891036426\n"
     ]
    },
    {
     "name": "stderr",
     "output_type": "stream",
     "text": [
      "/opt/conda/lib/python3.10/site-packages/torch/utils/data/dataloader.py:561: UserWarning: This DataLoader will create 8 worker processes in total. Our suggested max number of worker in current system is 2, which is smaller than what this DataLoader is going to create. Please be aware that excessive worker creation might get DataLoader running slow or even freeze, lower the worker number to avoid potential slowness/freeze if necessary.\n",
      "  warnings.warn(_create_warning_msg(\n"
     ]
    },
    {
     "name": "stdout",
     "output_type": "stream",
     "text": [
      "Train: [69][10/140]\t\n",
      "Train: [69][20/140]\t\n",
      "Train: [69][30/140]\t\n",
      "Train: [69][40/140]\t\n",
      "Train: [69][50/140]\t\n",
      "Train: [69][60/140]\t\n",
      "Train: [69][70/140]\t\n",
      "Train: [69][80/140]\t\n",
      "Train: [69][90/140]\t\n",
      "Train: [69][100/140]\t\n",
      "Train: [69][110/140]\t\n",
      "Train: [69][120/140]\t\n",
      "Train: [69][130/140]\t\n",
      "Train: [69][140/140]\t\n",
      "Training Accuracy: 96.29%\n",
      "Training loss: 0.09356247238859945\n",
      "Validation accuracy: 77.72108843537416 %\n",
      "Validation F1: 0.5934547287735009\n"
     ]
    },
    {
     "name": "stderr",
     "output_type": "stream",
     "text": [
      "/opt/conda/lib/python3.10/site-packages/torch/utils/data/dataloader.py:561: UserWarning: This DataLoader will create 8 worker processes in total. Our suggested max number of worker in current system is 2, which is smaller than what this DataLoader is going to create. Please be aware that excessive worker creation might get DataLoader running slow or even freeze, lower the worker number to avoid potential slowness/freeze if necessary.\n",
      "  warnings.warn(_create_warning_msg(\n"
     ]
    },
    {
     "name": "stdout",
     "output_type": "stream",
     "text": [
      "Train: [70][10/140]\t\n",
      "Train: [70][20/140]\t\n",
      "Train: [70][30/140]\t\n",
      "Train: [70][40/140]\t\n",
      "Train: [70][50/140]\t\n",
      "Train: [70][60/140]\t\n",
      "Train: [70][70/140]\t\n",
      "Train: [70][80/140]\t\n",
      "Train: [70][90/140]\t\n",
      "Train: [70][100/140]\t\n",
      "Train: [70][110/140]\t\n",
      "Train: [70][120/140]\t\n",
      "Train: [70][130/140]\t\n",
      "Train: [70][140/140]\t\n",
      "Training Accuracy: 96.36%\n",
      "Training loss: 0.0920393830605969\n",
      "Validation accuracy: 78.16326530612245 %\n",
      "Validation F1: 0.6359368303779024\n"
     ]
    },
    {
     "name": "stderr",
     "output_type": "stream",
     "text": [
      "/opt/conda/lib/python3.10/site-packages/torch/utils/data/dataloader.py:561: UserWarning: This DataLoader will create 8 worker processes in total. Our suggested max number of worker in current system is 2, which is smaller than what this DataLoader is going to create. Please be aware that excessive worker creation might get DataLoader running slow or even freeze, lower the worker number to avoid potential slowness/freeze if necessary.\n",
      "  warnings.warn(_create_warning_msg(\n"
     ]
    },
    {
     "name": "stdout",
     "output_type": "stream",
     "text": [
      "Train: [71][10/140]\t\n",
      "Train: [71][20/140]\t\n",
      "Train: [71][30/140]\t\n",
      "Train: [71][40/140]\t\n",
      "Train: [71][50/140]\t\n",
      "Train: [71][60/140]\t\n",
      "Train: [71][70/140]\t\n",
      "Train: [71][80/140]\t\n",
      "Train: [71][90/140]\t\n",
      "Train: [71][100/140]\t\n",
      "Train: [71][110/140]\t\n",
      "Train: [71][120/140]\t\n",
      "Train: [71][130/140]\t\n",
      "Train: [71][140/140]\t\n",
      "Training Accuracy: 96.29%\n",
      "Training loss: 0.09179158434255104\n",
      "Validation accuracy: 80.0 %\n",
      "Validation F1: 0.6261794683176932\n"
     ]
    },
    {
     "name": "stderr",
     "output_type": "stream",
     "text": [
      "/opt/conda/lib/python3.10/site-packages/torch/utils/data/dataloader.py:561: UserWarning: This DataLoader will create 8 worker processes in total. Our suggested max number of worker in current system is 2, which is smaller than what this DataLoader is going to create. Please be aware that excessive worker creation might get DataLoader running slow or even freeze, lower the worker number to avoid potential slowness/freeze if necessary.\n",
      "  warnings.warn(_create_warning_msg(\n"
     ]
    },
    {
     "name": "stdout",
     "output_type": "stream",
     "text": [
      "Train: [72][10/140]\t\n",
      "Train: [72][20/140]\t\n",
      "Train: [72][30/140]\t\n",
      "Train: [72][40/140]\t\n",
      "Train: [72][50/140]\t\n",
      "Train: [72][60/140]\t\n",
      "Train: [72][70/140]\t\n",
      "Train: [72][80/140]\t\n",
      "Train: [72][90/140]\t\n",
      "Train: [72][100/140]\t\n",
      "Train: [72][110/140]\t\n",
      "Train: [72][120/140]\t\n",
      "Train: [72][130/140]\t\n",
      "Train: [72][140/140]\t\n",
      "Training Accuracy: 96.51%\n",
      "Training loss: 0.08870126127555088\n",
      "Validation accuracy: 81.4625850340136 %\n",
      "Validation F1: 0.6014522991357641\n"
     ]
    },
    {
     "name": "stderr",
     "output_type": "stream",
     "text": [
      "/opt/conda/lib/python3.10/site-packages/torch/utils/data/dataloader.py:561: UserWarning: This DataLoader will create 8 worker processes in total. Our suggested max number of worker in current system is 2, which is smaller than what this DataLoader is going to create. Please be aware that excessive worker creation might get DataLoader running slow or even freeze, lower the worker number to avoid potential slowness/freeze if necessary.\n",
      "  warnings.warn(_create_warning_msg(\n"
     ]
    },
    {
     "name": "stdout",
     "output_type": "stream",
     "text": [
      "Train: [73][10/140]\t\n",
      "Train: [73][20/140]\t\n",
      "Train: [73][30/140]\t\n",
      "Train: [73][40/140]\t\n",
      "Train: [73][50/140]\t\n",
      "Train: [73][60/140]\t\n",
      "Train: [73][70/140]\t\n",
      "Train: [73][80/140]\t\n",
      "Train: [73][90/140]\t\n",
      "Train: [73][100/140]\t\n",
      "Train: [73][110/140]\t\n",
      "Train: [73][120/140]\t\n",
      "Train: [73][130/140]\t\n",
      "Train: [73][140/140]\t\n",
      "Training Accuracy: 96.40%\n",
      "Training loss: 0.0896550085505019\n",
      "Validation accuracy: 81.08843537414965 %\n",
      "Validation F1: 0.6233644043994936\n"
     ]
    },
    {
     "name": "stderr",
     "output_type": "stream",
     "text": [
      "/opt/conda/lib/python3.10/site-packages/torch/utils/data/dataloader.py:561: UserWarning: This DataLoader will create 8 worker processes in total. Our suggested max number of worker in current system is 2, which is smaller than what this DataLoader is going to create. Please be aware that excessive worker creation might get DataLoader running slow or even freeze, lower the worker number to avoid potential slowness/freeze if necessary.\n",
      "  warnings.warn(_create_warning_msg(\n"
     ]
    },
    {
     "name": "stdout",
     "output_type": "stream",
     "text": [
      "Train: [74][10/140]\t\n",
      "Train: [74][20/140]\t\n",
      "Train: [74][30/140]\t\n",
      "Train: [74][40/140]\t\n",
      "Train: [74][50/140]\t\n",
      "Train: [74][60/140]\t\n",
      "Train: [74][70/140]\t\n",
      "Train: [74][80/140]\t\n",
      "Train: [74][90/140]\t\n",
      "Train: [74][100/140]\t\n",
      "Train: [74][110/140]\t\n",
      "Train: [74][120/140]\t\n",
      "Train: [74][130/140]\t\n",
      "Train: [74][140/140]\t\n",
      "Training Accuracy: 96.57%\n",
      "Training loss: 0.08561914752526358\n",
      "Validation accuracy: 81.56462585034014 %\n",
      "Validation F1: 0.6326480699635603\n"
     ]
    },
    {
     "name": "stderr",
     "output_type": "stream",
     "text": [
      "/opt/conda/lib/python3.10/site-packages/torch/utils/data/dataloader.py:561: UserWarning: This DataLoader will create 8 worker processes in total. Our suggested max number of worker in current system is 2, which is smaller than what this DataLoader is going to create. Please be aware that excessive worker creation might get DataLoader running slow or even freeze, lower the worker number to avoid potential slowness/freeze if necessary.\n",
      "  warnings.warn(_create_warning_msg(\n"
     ]
    },
    {
     "name": "stdout",
     "output_type": "stream",
     "text": [
      "Train: [75][10/140]\t\n",
      "Train: [75][20/140]\t\n",
      "Train: [75][30/140]\t\n",
      "Train: [75][40/140]\t\n",
      "Train: [75][50/140]\t\n",
      "Train: [75][60/140]\t\n",
      "Train: [75][70/140]\t\n",
      "Train: [75][80/140]\t\n",
      "Train: [75][90/140]\t\n",
      "Train: [75][100/140]\t\n",
      "Train: [75][110/140]\t\n",
      "Train: [75][120/140]\t\n",
      "Train: [75][130/140]\t\n",
      "Train: [75][140/140]\t\n",
      "Training Accuracy: 96.72%\n",
      "Training loss: 0.08276735603254615\n",
      "Validation accuracy: 79.08163265306123 %\n",
      "Validation F1: 0.621180908762406\n"
     ]
    },
    {
     "name": "stderr",
     "output_type": "stream",
     "text": [
      "/opt/conda/lib/python3.10/site-packages/torch/utils/data/dataloader.py:561: UserWarning: This DataLoader will create 8 worker processes in total. Our suggested max number of worker in current system is 2, which is smaller than what this DataLoader is going to create. Please be aware that excessive worker creation might get DataLoader running slow or even freeze, lower the worker number to avoid potential slowness/freeze if necessary.\n",
      "  warnings.warn(_create_warning_msg(\n"
     ]
    },
    {
     "name": "stdout",
     "output_type": "stream",
     "text": [
      "Train: [76][10/140]\t\n",
      "Train: [76][20/140]\t\n",
      "Train: [76][30/140]\t\n",
      "Train: [76][40/140]\t\n",
      "Train: [76][50/140]\t\n",
      "Train: [76][60/140]\t\n",
      "Train: [76][70/140]\t\n",
      "Train: [76][80/140]\t\n",
      "Train: [76][90/140]\t\n",
      "Train: [76][100/140]\t\n",
      "Train: [76][110/140]\t\n",
      "Train: [76][120/140]\t\n",
      "Train: [76][130/140]\t\n",
      "Train: [76][140/140]\t\n",
      "Training Accuracy: 96.77%\n",
      "Training loss: 0.08268976588170607\n",
      "Validation accuracy: 81.29251700680273 %\n",
      "Validation F1: 0.5936706881954701\n"
     ]
    },
    {
     "name": "stderr",
     "output_type": "stream",
     "text": [
      "/opt/conda/lib/python3.10/site-packages/torch/utils/data/dataloader.py:561: UserWarning: This DataLoader will create 8 worker processes in total. Our suggested max number of worker in current system is 2, which is smaller than what this DataLoader is going to create. Please be aware that excessive worker creation might get DataLoader running slow or even freeze, lower the worker number to avoid potential slowness/freeze if necessary.\n",
      "  warnings.warn(_create_warning_msg(\n"
     ]
    },
    {
     "name": "stdout",
     "output_type": "stream",
     "text": [
      "Train: [77][10/140]\t\n",
      "Train: [77][20/140]\t\n",
      "Train: [77][30/140]\t\n",
      "Train: [77][40/140]\t\n",
      "Train: [77][50/140]\t\n",
      "Train: [77][60/140]\t\n",
      "Train: [77][70/140]\t\n",
      "Train: [77][80/140]\t\n",
      "Train: [77][90/140]\t\n",
      "Train: [77][100/140]\t\n",
      "Train: [77][110/140]\t\n",
      "Train: [77][120/140]\t\n",
      "Train: [77][130/140]\t\n",
      "Train: [77][140/140]\t\n",
      "Training Accuracy: 96.76%\n",
      "Training loss: 0.08332155992275504\n",
      "Validation accuracy: 79.31972789115646 %\n",
      "Validation F1: 0.630792921550375\n"
     ]
    },
    {
     "name": "stderr",
     "output_type": "stream",
     "text": [
      "/opt/conda/lib/python3.10/site-packages/torch/utils/data/dataloader.py:561: UserWarning: This DataLoader will create 8 worker processes in total. Our suggested max number of worker in current system is 2, which is smaller than what this DataLoader is going to create. Please be aware that excessive worker creation might get DataLoader running slow or even freeze, lower the worker number to avoid potential slowness/freeze if necessary.\n",
      "  warnings.warn(_create_warning_msg(\n"
     ]
    },
    {
     "name": "stdout",
     "output_type": "stream",
     "text": [
      "Train: [78][10/140]\t\n",
      "Train: [78][20/140]\t\n",
      "Train: [78][30/140]\t\n",
      "Train: [78][40/140]\t\n",
      "Train: [78][50/140]\t\n",
      "Train: [78][60/140]\t\n",
      "Train: [78][70/140]\t\n",
      "Train: [78][80/140]\t\n",
      "Train: [78][90/140]\t\n",
      "Train: [78][100/140]\t\n",
      "Train: [78][110/140]\t\n",
      "Train: [78][120/140]\t\n",
      "Train: [78][130/140]\t\n",
      "Train: [78][140/140]\t\n",
      "Training Accuracy: 96.86%\n",
      "Training loss: 0.07986536389122792\n",
      "Validation accuracy: 80.1360544217687 %\n",
      "Validation F1: 0.630114444472088\n"
     ]
    },
    {
     "name": "stderr",
     "output_type": "stream",
     "text": [
      "/opt/conda/lib/python3.10/site-packages/torch/utils/data/dataloader.py:561: UserWarning: This DataLoader will create 8 worker processes in total. Our suggested max number of worker in current system is 2, which is smaller than what this DataLoader is going to create. Please be aware that excessive worker creation might get DataLoader running slow or even freeze, lower the worker number to avoid potential slowness/freeze if necessary.\n",
      "  warnings.warn(_create_warning_msg(\n"
     ]
    },
    {
     "name": "stdout",
     "output_type": "stream",
     "text": [
      "Train: [79][10/140]\t\n",
      "Train: [79][20/140]\t\n",
      "Train: [79][30/140]\t\n",
      "Train: [79][40/140]\t\n",
      "Train: [79][50/140]\t\n",
      "Train: [79][60/140]\t\n",
      "Train: [79][70/140]\t\n",
      "Train: [79][80/140]\t\n",
      "Train: [79][90/140]\t\n",
      "Train: [79][100/140]\t\n",
      "Train: [79][110/140]\t\n",
      "Train: [79][120/140]\t\n",
      "Train: [79][130/140]\t\n",
      "Train: [79][140/140]\t\n",
      "Training Accuracy: 96.68%\n",
      "Training loss: 0.08234631542361191\n",
      "Validation accuracy: 79.38775510204081 %\n",
      "Validation F1: 0.6058607347372467\n"
     ]
    },
    {
     "name": "stderr",
     "output_type": "stream",
     "text": [
      "/opt/conda/lib/python3.10/site-packages/torch/utils/data/dataloader.py:561: UserWarning: This DataLoader will create 8 worker processes in total. Our suggested max number of worker in current system is 2, which is smaller than what this DataLoader is going to create. Please be aware that excessive worker creation might get DataLoader running slow or even freeze, lower the worker number to avoid potential slowness/freeze if necessary.\n",
      "  warnings.warn(_create_warning_msg(\n"
     ]
    },
    {
     "name": "stdout",
     "output_type": "stream",
     "text": [
      "Train: [80][10/140]\t\n",
      "Train: [80][20/140]\t\n",
      "Train: [80][30/140]\t\n",
      "Train: [80][40/140]\t\n",
      "Train: [80][50/140]\t\n",
      "Train: [80][60/140]\t\n",
      "Train: [80][70/140]\t\n",
      "Train: [80][80/140]\t\n",
      "Train: [80][90/140]\t\n",
      "Train: [80][100/140]\t\n",
      "Train: [80][110/140]\t\n",
      "Train: [80][120/140]\t\n",
      "Train: [80][130/140]\t\n",
      "Train: [80][140/140]\t\n",
      "Training Accuracy: 97.04%\n",
      "Training loss: 0.07637226472463167\n",
      "Validation accuracy: 81.05442176870748 %\n",
      "Validation F1: 0.6207828486028134\n"
     ]
    },
    {
     "name": "stderr",
     "output_type": "stream",
     "text": [
      "/opt/conda/lib/python3.10/site-packages/torch/utils/data/dataloader.py:561: UserWarning: This DataLoader will create 8 worker processes in total. Our suggested max number of worker in current system is 2, which is smaller than what this DataLoader is going to create. Please be aware that excessive worker creation might get DataLoader running slow or even freeze, lower the worker number to avoid potential slowness/freeze if necessary.\n",
      "  warnings.warn(_create_warning_msg(\n"
     ]
    },
    {
     "name": "stdout",
     "output_type": "stream",
     "text": [
      "Train: [81][10/140]\t\n",
      "Train: [81][20/140]\t\n",
      "Train: [81][30/140]\t\n",
      "Train: [81][40/140]\t\n",
      "Train: [81][50/140]\t\n",
      "Train: [81][60/140]\t\n",
      "Train: [81][70/140]\t\n",
      "Train: [81][80/140]\t\n",
      "Train: [81][90/140]\t\n",
      "Train: [81][100/140]\t\n",
      "Train: [81][110/140]\t\n",
      "Train: [81][120/140]\t\n",
      "Train: [81][130/140]\t\n",
      "Train: [81][140/140]\t\n",
      "Training Accuracy: 97.12%\n",
      "Training loss: 0.07244437105200113\n",
      "Validation accuracy: 80.4421768707483 %\n",
      "Validation F1: 0.6335466212347459\n"
     ]
    },
    {
     "name": "stderr",
     "output_type": "stream",
     "text": [
      "/opt/conda/lib/python3.10/site-packages/torch/utils/data/dataloader.py:561: UserWarning: This DataLoader will create 8 worker processes in total. Our suggested max number of worker in current system is 2, which is smaller than what this DataLoader is going to create. Please be aware that excessive worker creation might get DataLoader running slow or even freeze, lower the worker number to avoid potential slowness/freeze if necessary.\n",
      "  warnings.warn(_create_warning_msg(\n"
     ]
    },
    {
     "name": "stdout",
     "output_type": "stream",
     "text": [
      "Train: [82][10/140]\t\n",
      "Train: [82][20/140]\t\n",
      "Train: [82][30/140]\t\n",
      "Train: [82][40/140]\t\n",
      "Train: [82][50/140]\t\n",
      "Train: [82][60/140]\t\n",
      "Train: [82][70/140]\t\n",
      "Train: [82][80/140]\t\n",
      "Train: [82][90/140]\t\n",
      "Train: [82][100/140]\t\n",
      "Train: [82][110/140]\t\n",
      "Train: [82][120/140]\t\n",
      "Train: [82][130/140]\t\n",
      "Train: [82][140/140]\t\n",
      "Training Accuracy: 97.10%\n",
      "Training loss: 0.07502482349253951\n",
      "Validation accuracy: 79.96598639455782 %\n",
      "Validation F1: 0.6102785562573713\n"
     ]
    },
    {
     "name": "stderr",
     "output_type": "stream",
     "text": [
      "/opt/conda/lib/python3.10/site-packages/torch/utils/data/dataloader.py:561: UserWarning: This DataLoader will create 8 worker processes in total. Our suggested max number of worker in current system is 2, which is smaller than what this DataLoader is going to create. Please be aware that excessive worker creation might get DataLoader running slow or even freeze, lower the worker number to avoid potential slowness/freeze if necessary.\n",
      "  warnings.warn(_create_warning_msg(\n"
     ]
    },
    {
     "name": "stdout",
     "output_type": "stream",
     "text": [
      "Train: [83][10/140]\t\n",
      "Train: [83][20/140]\t\n",
      "Train: [83][30/140]\t\n",
      "Train: [83][40/140]\t\n",
      "Train: [83][50/140]\t\n",
      "Train: [83][60/140]\t\n",
      "Train: [83][70/140]\t\n",
      "Train: [83][80/140]\t\n",
      "Train: [83][90/140]\t\n",
      "Train: [83][100/140]\t\n",
      "Train: [83][110/140]\t\n",
      "Train: [83][120/140]\t\n",
      "Train: [83][130/140]\t\n",
      "Train: [83][140/140]\t\n",
      "Training Accuracy: 96.88%\n",
      "Training loss: 0.07798885414053117\n",
      "Validation accuracy: 78.33333333333333 %\n",
      "Validation F1: 0.602186451566065\n"
     ]
    },
    {
     "name": "stderr",
     "output_type": "stream",
     "text": [
      "/opt/conda/lib/python3.10/site-packages/torch/utils/data/dataloader.py:561: UserWarning: This DataLoader will create 8 worker processes in total. Our suggested max number of worker in current system is 2, which is smaller than what this DataLoader is going to create. Please be aware that excessive worker creation might get DataLoader running slow or even freeze, lower the worker number to avoid potential slowness/freeze if necessary.\n",
      "  warnings.warn(_create_warning_msg(\n"
     ]
    },
    {
     "name": "stdout",
     "output_type": "stream",
     "text": [
      "Train: [84][10/140]\t\n",
      "Train: [84][20/140]\t\n",
      "Train: [84][30/140]\t\n",
      "Train: [84][40/140]\t\n",
      "Train: [84][50/140]\t\n",
      "Train: [84][60/140]\t\n",
      "Train: [84][70/140]\t\n",
      "Train: [84][80/140]\t\n",
      "Train: [84][90/140]\t\n",
      "Train: [84][100/140]\t\n",
      "Train: [84][110/140]\t\n",
      "Train: [84][120/140]\t\n",
      "Train: [84][130/140]\t\n",
      "Train: [84][140/140]\t\n",
      "Training Accuracy: 97.05%\n",
      "Training loss: 0.07391091161533893\n",
      "Validation accuracy: 77.44897959183673 %\n",
      "Validation F1: 0.5485658185887005\n"
     ]
    },
    {
     "name": "stderr",
     "output_type": "stream",
     "text": [
      "/opt/conda/lib/python3.10/site-packages/torch/utils/data/dataloader.py:561: UserWarning: This DataLoader will create 8 worker processes in total. Our suggested max number of worker in current system is 2, which is smaller than what this DataLoader is going to create. Please be aware that excessive worker creation might get DataLoader running slow or even freeze, lower the worker number to avoid potential slowness/freeze if necessary.\n",
      "  warnings.warn(_create_warning_msg(\n"
     ]
    },
    {
     "name": "stdout",
     "output_type": "stream",
     "text": [
      "Train: [85][10/140]\t\n",
      "Train: [85][20/140]\t\n",
      "Train: [85][30/140]\t\n",
      "Train: [85][40/140]\t\n",
      "Train: [85][50/140]\t\n",
      "Train: [85][60/140]\t\n",
      "Train: [85][70/140]\t\n",
      "Train: [85][80/140]\t\n",
      "Train: [85][90/140]\t\n",
      "Train: [85][100/140]\t\n",
      "Train: [85][110/140]\t\n",
      "Train: [85][120/140]\t\n",
      "Train: [85][130/140]\t\n",
      "Train: [85][140/140]\t\n",
      "Training Accuracy: 97.22%\n",
      "Training loss: 0.07153854300741071\n",
      "Validation accuracy: 81.3265306122449 %\n",
      "Validation F1: 0.6142105706616593\n"
     ]
    },
    {
     "name": "stderr",
     "output_type": "stream",
     "text": [
      "/opt/conda/lib/python3.10/site-packages/torch/utils/data/dataloader.py:561: UserWarning: This DataLoader will create 8 worker processes in total. Our suggested max number of worker in current system is 2, which is smaller than what this DataLoader is going to create. Please be aware that excessive worker creation might get DataLoader running slow or even freeze, lower the worker number to avoid potential slowness/freeze if necessary.\n",
      "  warnings.warn(_create_warning_msg(\n"
     ]
    },
    {
     "name": "stdout",
     "output_type": "stream",
     "text": [
      "Train: [86][10/140]\t\n",
      "Train: [86][20/140]\t\n",
      "Train: [86][30/140]\t\n",
      "Train: [86][40/140]\t\n",
      "Train: [86][50/140]\t\n",
      "Train: [86][60/140]\t\n",
      "Train: [86][70/140]\t\n",
      "Train: [86][80/140]\t\n",
      "Train: [86][90/140]\t\n",
      "Train: [86][100/140]\t\n",
      "Train: [86][110/140]\t\n",
      "Train: [86][120/140]\t\n",
      "Train: [86][130/140]\t\n",
      "Train: [86][140/140]\t\n",
      "Training Accuracy: 97.22%\n",
      "Training loss: 0.0715925221831228\n",
      "Validation accuracy: 79.59183673469387 %\n",
      "Validation F1: 0.6152920323923969\n"
     ]
    },
    {
     "name": "stderr",
     "output_type": "stream",
     "text": [
      "/opt/conda/lib/python3.10/site-packages/torch/utils/data/dataloader.py:561: UserWarning: This DataLoader will create 8 worker processes in total. Our suggested max number of worker in current system is 2, which is smaller than what this DataLoader is going to create. Please be aware that excessive worker creation might get DataLoader running slow or even freeze, lower the worker number to avoid potential slowness/freeze if necessary.\n",
      "  warnings.warn(_create_warning_msg(\n"
     ]
    },
    {
     "name": "stdout",
     "output_type": "stream",
     "text": [
      "Train: [87][10/140]\t\n",
      "Train: [87][20/140]\t\n",
      "Train: [87][30/140]\t\n",
      "Train: [87][40/140]\t\n",
      "Train: [87][50/140]\t\n",
      "Train: [87][60/140]\t\n",
      "Train: [87][70/140]\t\n",
      "Train: [87][80/140]\t\n",
      "Train: [87][90/140]\t\n",
      "Train: [87][100/140]\t\n",
      "Train: [87][110/140]\t\n",
      "Train: [87][120/140]\t\n",
      "Train: [87][130/140]\t\n",
      "Train: [87][140/140]\t\n",
      "Training Accuracy: 97.25%\n",
      "Training loss: 0.07150917971119482\n",
      "Validation accuracy: 80.23809523809524 %\n",
      "Validation F1: 0.613675665342095\n"
     ]
    },
    {
     "name": "stderr",
     "output_type": "stream",
     "text": [
      "/opt/conda/lib/python3.10/site-packages/torch/utils/data/dataloader.py:561: UserWarning: This DataLoader will create 8 worker processes in total. Our suggested max number of worker in current system is 2, which is smaller than what this DataLoader is going to create. Please be aware that excessive worker creation might get DataLoader running slow or even freeze, lower the worker number to avoid potential slowness/freeze if necessary.\n",
      "  warnings.warn(_create_warning_msg(\n"
     ]
    },
    {
     "name": "stdout",
     "output_type": "stream",
     "text": [
      "Train: [88][10/140]\t\n",
      "Train: [88][20/140]\t\n",
      "Train: [88][30/140]\t\n",
      "Train: [88][40/140]\t\n",
      "Train: [88][50/140]\t\n",
      "Train: [88][60/140]\t\n",
      "Train: [88][70/140]\t\n",
      "Train: [88][80/140]\t\n",
      "Train: [88][90/140]\t\n",
      "Train: [88][100/140]\t\n",
      "Train: [88][110/140]\t\n",
      "Train: [88][120/140]\t\n",
      "Train: [88][130/140]\t\n",
      "Train: [88][140/140]\t\n",
      "Training Accuracy: 97.29%\n",
      "Training loss: 0.07103551528557557\n",
      "Validation accuracy: 81.56462585034014 %\n",
      "Validation F1: 0.6135011824626895\n"
     ]
    },
    {
     "name": "stderr",
     "output_type": "stream",
     "text": [
      "/opt/conda/lib/python3.10/site-packages/torch/utils/data/dataloader.py:561: UserWarning: This DataLoader will create 8 worker processes in total. Our suggested max number of worker in current system is 2, which is smaller than what this DataLoader is going to create. Please be aware that excessive worker creation might get DataLoader running slow or even freeze, lower the worker number to avoid potential slowness/freeze if necessary.\n",
      "  warnings.warn(_create_warning_msg(\n"
     ]
    },
    {
     "name": "stdout",
     "output_type": "stream",
     "text": [
      "Train: [89][10/140]\t\n",
      "Train: [89][20/140]\t\n",
      "Train: [89][30/140]\t\n",
      "Train: [89][40/140]\t\n",
      "Train: [89][50/140]\t\n",
      "Train: [89][60/140]\t\n",
      "Train: [89][70/140]\t\n",
      "Train: [89][80/140]\t\n",
      "Train: [89][90/140]\t\n",
      "Train: [89][100/140]\t\n",
      "Train: [89][110/140]\t\n",
      "Train: [89][120/140]\t\n",
      "Train: [89][130/140]\t\n",
      "Train: [89][140/140]\t\n",
      "Training Accuracy: 97.22%\n",
      "Training loss: 0.07140570012950716\n",
      "Validation accuracy: 79.72789115646258 %\n",
      "Validation F1: 0.6358152236317317\n"
     ]
    },
    {
     "name": "stderr",
     "output_type": "stream",
     "text": [
      "/opt/conda/lib/python3.10/site-packages/torch/utils/data/dataloader.py:561: UserWarning: This DataLoader will create 8 worker processes in total. Our suggested max number of worker in current system is 2, which is smaller than what this DataLoader is going to create. Please be aware that excessive worker creation might get DataLoader running slow or even freeze, lower the worker number to avoid potential slowness/freeze if necessary.\n",
      "  warnings.warn(_create_warning_msg(\n"
     ]
    },
    {
     "name": "stdout",
     "output_type": "stream",
     "text": [
      "Train: [90][10/140]\t\n",
      "Train: [90][20/140]\t\n",
      "Train: [90][30/140]\t\n",
      "Train: [90][40/140]\t\n",
      "Train: [90][50/140]\t\n",
      "Train: [90][60/140]\t\n",
      "Train: [90][70/140]\t\n",
      "Train: [90][80/140]\t\n",
      "Train: [90][90/140]\t\n",
      "Train: [90][100/140]\t\n",
      "Train: [90][110/140]\t\n",
      "Train: [90][120/140]\t\n",
      "Train: [90][130/140]\t\n",
      "Train: [90][140/140]\t\n",
      "Training Accuracy: 97.65%\n",
      "Training loss: 0.062292327189972165\n",
      "Validation accuracy: 79.76190476190477 %\n",
      "Validation F1: 0.6339703978407187\n"
     ]
    },
    {
     "name": "stderr",
     "output_type": "stream",
     "text": [
      "/opt/conda/lib/python3.10/site-packages/torch/utils/data/dataloader.py:561: UserWarning: This DataLoader will create 8 worker processes in total. Our suggested max number of worker in current system is 2, which is smaller than what this DataLoader is going to create. Please be aware that excessive worker creation might get DataLoader running slow or even freeze, lower the worker number to avoid potential slowness/freeze if necessary.\n",
      "  warnings.warn(_create_warning_msg(\n"
     ]
    },
    {
     "name": "stdout",
     "output_type": "stream",
     "text": [
      "Train: [91][10/140]\t\n",
      "Train: [91][20/140]\t\n",
      "Train: [91][30/140]\t\n",
      "Train: [91][40/140]\t\n",
      "Train: [91][50/140]\t\n",
      "Train: [91][60/140]\t\n",
      "Train: [91][70/140]\t\n",
      "Train: [91][80/140]\t\n",
      "Train: [91][90/140]\t\n",
      "Train: [91][100/140]\t\n",
      "Train: [91][110/140]\t\n",
      "Train: [91][120/140]\t\n",
      "Train: [91][130/140]\t\n",
      "Train: [91][140/140]\t\n",
      "Training Accuracy: 97.49%\n",
      "Training loss: 0.06532763147546615\n",
      "Validation accuracy: 79.38775510204081 %\n",
      "Validation F1: 0.5828298769757311\n"
     ]
    },
    {
     "name": "stderr",
     "output_type": "stream",
     "text": [
      "/opt/conda/lib/python3.10/site-packages/torch/utils/data/dataloader.py:561: UserWarning: This DataLoader will create 8 worker processes in total. Our suggested max number of worker in current system is 2, which is smaller than what this DataLoader is going to create. Please be aware that excessive worker creation might get DataLoader running slow or even freeze, lower the worker number to avoid potential slowness/freeze if necessary.\n",
      "  warnings.warn(_create_warning_msg(\n"
     ]
    },
    {
     "name": "stdout",
     "output_type": "stream",
     "text": [
      "Train: [92][10/140]\t\n",
      "Train: [92][20/140]\t\n",
      "Train: [92][30/140]\t\n",
      "Train: [92][40/140]\t\n",
      "Train: [92][50/140]\t\n",
      "Train: [92][60/140]\t\n",
      "Train: [92][70/140]\t\n",
      "Train: [92][80/140]\t\n",
      "Train: [92][90/140]\t\n",
      "Train: [92][100/140]\t\n",
      "Train: [92][110/140]\t\n",
      "Train: [92][120/140]\t\n",
      "Train: [92][130/140]\t\n",
      "Train: [92][140/140]\t\n",
      "Training Accuracy: 97.66%\n",
      "Training loss: 0.061699309389028185\n",
      "Validation accuracy: 82.61904761904762 %\n",
      "Validation F1: 0.6195653783067542\n"
     ]
    },
    {
     "name": "stderr",
     "output_type": "stream",
     "text": [
      "/opt/conda/lib/python3.10/site-packages/torch/utils/data/dataloader.py:561: UserWarning: This DataLoader will create 8 worker processes in total. Our suggested max number of worker in current system is 2, which is smaller than what this DataLoader is going to create. Please be aware that excessive worker creation might get DataLoader running slow or even freeze, lower the worker number to avoid potential slowness/freeze if necessary.\n",
      "  warnings.warn(_create_warning_msg(\n"
     ]
    },
    {
     "name": "stdout",
     "output_type": "stream",
     "text": [
      "Train: [93][10/140]\t\n",
      "Train: [93][20/140]\t\n",
      "Train: [93][30/140]\t\n",
      "Train: [93][40/140]\t\n",
      "Train: [93][50/140]\t\n",
      "Train: [93][60/140]\t\n",
      "Train: [93][70/140]\t\n",
      "Train: [93][80/140]\t\n",
      "Train: [93][90/140]\t\n",
      "Train: [93][100/140]\t\n",
      "Train: [93][110/140]\t\n",
      "Train: [93][120/140]\t\n",
      "Train: [93][130/140]\t\n",
      "Train: [93][140/140]\t\n",
      "Training Accuracy: 97.61%\n",
      "Training loss: 0.06405366720587022\n",
      "Validation accuracy: 80.78231292517006 %\n",
      "Validation F1: 0.6358541055713515\n"
     ]
    },
    {
     "name": "stderr",
     "output_type": "stream",
     "text": [
      "/opt/conda/lib/python3.10/site-packages/torch/utils/data/dataloader.py:561: UserWarning: This DataLoader will create 8 worker processes in total. Our suggested max number of worker in current system is 2, which is smaller than what this DataLoader is going to create. Please be aware that excessive worker creation might get DataLoader running slow or even freeze, lower the worker number to avoid potential slowness/freeze if necessary.\n",
      "  warnings.warn(_create_warning_msg(\n"
     ]
    },
    {
     "name": "stdout",
     "output_type": "stream",
     "text": [
      "Train: [94][10/140]\t\n",
      "Train: [94][20/140]\t\n",
      "Train: [94][30/140]\t\n",
      "Train: [94][40/140]\t\n",
      "Train: [94][50/140]\t\n",
      "Train: [94][60/140]\t\n",
      "Train: [94][70/140]\t\n",
      "Train: [94][80/140]\t\n",
      "Train: [94][90/140]\t\n",
      "Train: [94][100/140]\t\n",
      "Train: [94][110/140]\t\n",
      "Train: [94][120/140]\t\n",
      "Train: [94][130/140]\t\n",
      "Train: [94][140/140]\t\n",
      "Training Accuracy: 97.25%\n",
      "Training loss: 0.07019417580400088\n",
      "Validation accuracy: 79.65986394557824 %\n",
      "Validation F1: 0.5979570528539137\n"
     ]
    },
    {
     "name": "stderr",
     "output_type": "stream",
     "text": [
      "/opt/conda/lib/python3.10/site-packages/torch/utils/data/dataloader.py:561: UserWarning: This DataLoader will create 8 worker processes in total. Our suggested max number of worker in current system is 2, which is smaller than what this DataLoader is going to create. Please be aware that excessive worker creation might get DataLoader running slow or even freeze, lower the worker number to avoid potential slowness/freeze if necessary.\n",
      "  warnings.warn(_create_warning_msg(\n"
     ]
    },
    {
     "name": "stdout",
     "output_type": "stream",
     "text": [
      "Train: [95][10/140]\t\n",
      "Train: [95][20/140]\t\n",
      "Train: [95][30/140]\t\n",
      "Train: [95][40/140]\t\n",
      "Train: [95][50/140]\t\n",
      "Train: [95][60/140]\t\n",
      "Train: [95][70/140]\t\n",
      "Train: [95][80/140]\t\n",
      "Train: [95][90/140]\t\n",
      "Train: [95][100/140]\t\n",
      "Train: [95][110/140]\t\n",
      "Train: [95][120/140]\t\n",
      "Train: [95][130/140]\t\n",
      "Train: [95][140/140]\t\n",
      "Training Accuracy: 97.31%\n",
      "Training loss: 0.06829980403823178\n",
      "Validation accuracy: 79.18367346938776 %\n",
      "Validation F1: 0.6182178763936873\n"
     ]
    },
    {
     "name": "stderr",
     "output_type": "stream",
     "text": [
      "/opt/conda/lib/python3.10/site-packages/torch/utils/data/dataloader.py:561: UserWarning: This DataLoader will create 8 worker processes in total. Our suggested max number of worker in current system is 2, which is smaller than what this DataLoader is going to create. Please be aware that excessive worker creation might get DataLoader running slow or even freeze, lower the worker number to avoid potential slowness/freeze if necessary.\n",
      "  warnings.warn(_create_warning_msg(\n"
     ]
    },
    {
     "name": "stdout",
     "output_type": "stream",
     "text": [
      "Train: [96][10/140]\t\n",
      "Train: [96][20/140]\t\n",
      "Train: [96][30/140]\t\n",
      "Train: [96][40/140]\t\n",
      "Train: [96][50/140]\t\n",
      "Train: [96][60/140]\t\n",
      "Train: [96][70/140]\t\n",
      "Train: [96][80/140]\t\n",
      "Train: [96][90/140]\t\n",
      "Train: [96][100/140]\t\n",
      "Train: [96][110/140]\t\n",
      "Train: [96][120/140]\t\n",
      "Train: [96][130/140]\t\n",
      "Train: [96][140/140]\t\n",
      "Training Accuracy: 97.82%\n",
      "Training loss: 0.057196121332850736\n",
      "Validation accuracy: 80.23809523809524 %\n",
      "Validation F1: 0.5981942320971082\n"
     ]
    },
    {
     "name": "stderr",
     "output_type": "stream",
     "text": [
      "/opt/conda/lib/python3.10/site-packages/torch/utils/data/dataloader.py:561: UserWarning: This DataLoader will create 8 worker processes in total. Our suggested max number of worker in current system is 2, which is smaller than what this DataLoader is going to create. Please be aware that excessive worker creation might get DataLoader running slow or even freeze, lower the worker number to avoid potential slowness/freeze if necessary.\n",
      "  warnings.warn(_create_warning_msg(\n"
     ]
    },
    {
     "name": "stdout",
     "output_type": "stream",
     "text": [
      "Train: [97][10/140]\t\n",
      "Train: [97][20/140]\t\n",
      "Train: [97][30/140]\t\n",
      "Train: [97][40/140]\t\n",
      "Train: [97][50/140]\t\n",
      "Train: [97][60/140]\t\n",
      "Train: [97][70/140]\t\n",
      "Train: [97][80/140]\t\n",
      "Train: [97][90/140]\t\n",
      "Train: [97][100/140]\t\n",
      "Train: [97][110/140]\t\n",
      "Train: [97][120/140]\t\n",
      "Train: [97][130/140]\t\n",
      "Train: [97][140/140]\t\n",
      "Training Accuracy: 97.70%\n",
      "Training loss: 0.0600740412230528\n",
      "Validation accuracy: 80.23809523809524 %\n",
      "Validation F1: 0.6185826532205264\n"
     ]
    },
    {
     "name": "stderr",
     "output_type": "stream",
     "text": [
      "/opt/conda/lib/python3.10/site-packages/torch/utils/data/dataloader.py:561: UserWarning: This DataLoader will create 8 worker processes in total. Our suggested max number of worker in current system is 2, which is smaller than what this DataLoader is going to create. Please be aware that excessive worker creation might get DataLoader running slow or even freeze, lower the worker number to avoid potential slowness/freeze if necessary.\n",
      "  warnings.warn(_create_warning_msg(\n"
     ]
    },
    {
     "name": "stdout",
     "output_type": "stream",
     "text": [
      "Train: [98][10/140]\t\n",
      "Train: [98][20/140]\t\n",
      "Train: [98][30/140]\t\n",
      "Train: [98][40/140]\t\n",
      "Train: [98][50/140]\t\n",
      "Train: [98][60/140]\t\n",
      "Train: [98][70/140]\t\n",
      "Train: [98][80/140]\t\n",
      "Train: [98][90/140]\t\n",
      "Train: [98][100/140]\t\n",
      "Train: [98][110/140]\t\n",
      "Train: [98][120/140]\t\n",
      "Train: [98][130/140]\t\n",
      "Train: [98][140/140]\t\n",
      "Training Accuracy: 97.96%\n",
      "Training loss: 0.05506800218203539\n",
      "Validation accuracy: 81.19047619047619 %\n",
      "Validation F1: 0.6348445575994643\n"
     ]
    },
    {
     "name": "stderr",
     "output_type": "stream",
     "text": [
      "/opt/conda/lib/python3.10/site-packages/torch/utils/data/dataloader.py:561: UserWarning: This DataLoader will create 8 worker processes in total. Our suggested max number of worker in current system is 2, which is smaller than what this DataLoader is going to create. Please be aware that excessive worker creation might get DataLoader running slow or even freeze, lower the worker number to avoid potential slowness/freeze if necessary.\n",
      "  warnings.warn(_create_warning_msg(\n"
     ]
    },
    {
     "name": "stdout",
     "output_type": "stream",
     "text": [
      "Train: [99][10/140]\t\n",
      "Train: [99][20/140]\t\n",
      "Train: [99][30/140]\t\n",
      "Train: [99][40/140]\t\n",
      "Train: [99][50/140]\t\n",
      "Train: [99][60/140]\t\n",
      "Train: [99][70/140]\t\n",
      "Train: [99][80/140]\t\n",
      "Train: [99][90/140]\t\n",
      "Train: [99][100/140]\t\n",
      "Train: [99][110/140]\t\n",
      "Train: [99][120/140]\t\n",
      "Train: [99][130/140]\t\n",
      "Train: [99][140/140]\t\n",
      "Training Accuracy: 97.67%\n",
      "Training loss: 0.06262945332824449\n",
      "Validation accuracy: 81.39455782312925 %\n",
      "Validation F1: 0.6392512105403937\n"
     ]
    },
    {
     "name": "stderr",
     "output_type": "stream",
     "text": [
      "/opt/conda/lib/python3.10/site-packages/torch/utils/data/dataloader.py:561: UserWarning: This DataLoader will create 8 worker processes in total. Our suggested max number of worker in current system is 2, which is smaller than what this DataLoader is going to create. Please be aware that excessive worker creation might get DataLoader running slow or even freeze, lower the worker number to avoid potential slowness/freeze if necessary.\n",
      "  warnings.warn(_create_warning_msg(\n"
     ]
    },
    {
     "name": "stdout",
     "output_type": "stream",
     "text": [
      "Train: [100][10/140]\t\n",
      "Train: [100][20/140]\t\n",
      "Train: [100][30/140]\t\n",
      "Train: [100][40/140]\t\n",
      "Train: [100][50/140]\t\n",
      "Train: [100][60/140]\t\n",
      "Train: [100][70/140]\t\n",
      "Train: [100][80/140]\t\n",
      "Train: [100][90/140]\t\n",
      "Train: [100][100/140]\t\n",
      "Train: [100][110/140]\t\n",
      "Train: [100][120/140]\t\n",
      "Train: [100][130/140]\t\n",
      "Train: [100][140/140]\t\n",
      "Training Accuracy: 97.58%\n",
      "Training loss: 0.0639999154558308\n",
      "Validation accuracy: 80.57823129251702 %\n",
      "Validation F1: 0.6170139634254463\n"
     ]
    },
    {
     "name": "stderr",
     "output_type": "stream",
     "text": [
      "/opt/conda/lib/python3.10/site-packages/torch/utils/data/dataloader.py:561: UserWarning: This DataLoader will create 8 worker processes in total. Our suggested max number of worker in current system is 2, which is smaller than what this DataLoader is going to create. Please be aware that excessive worker creation might get DataLoader running slow or even freeze, lower the worker number to avoid potential slowness/freeze if necessary.\n",
      "  warnings.warn(_create_warning_msg(\n"
     ]
    },
    {
     "name": "stdout",
     "output_type": "stream",
     "text": [
      "Train: [101][10/140]\t\n",
      "Train: [101][20/140]\t\n",
      "Train: [101][30/140]\t\n",
      "Train: [101][40/140]\t\n",
      "Train: [101][50/140]\t\n",
      "Train: [101][60/140]\t\n",
      "Train: [101][70/140]\t\n",
      "Train: [101][80/140]\t\n",
      "Train: [101][90/140]\t\n",
      "Train: [101][100/140]\t\n",
      "Train: [101][110/140]\t\n",
      "Train: [101][120/140]\t\n",
      "Train: [101][130/140]\t\n",
      "Train: [101][140/140]\t\n",
      "Training Accuracy: 97.97%\n",
      "Training loss: 0.054811682778507315\n",
      "Validation accuracy: 77.21088435374149 %\n",
      "Validation F1: 0.6140962937985535\n"
     ]
    },
    {
     "name": "stderr",
     "output_type": "stream",
     "text": [
      "/opt/conda/lib/python3.10/site-packages/torch/utils/data/dataloader.py:561: UserWarning: This DataLoader will create 8 worker processes in total. Our suggested max number of worker in current system is 2, which is smaller than what this DataLoader is going to create. Please be aware that excessive worker creation might get DataLoader running slow or even freeze, lower the worker number to avoid potential slowness/freeze if necessary.\n",
      "  warnings.warn(_create_warning_msg(\n"
     ]
    },
    {
     "name": "stdout",
     "output_type": "stream",
     "text": [
      "Train: [102][10/140]\t\n",
      "Train: [102][20/140]\t\n",
      "Train: [102][30/140]\t\n",
      "Train: [102][40/140]\t\n",
      "Train: [102][50/140]\t\n",
      "Train: [102][60/140]\t\n",
      "Train: [102][70/140]\t\n",
      "Train: [102][80/140]\t\n",
      "Train: [102][90/140]\t\n",
      "Train: [102][100/140]\t\n",
      "Train: [102][110/140]\t\n",
      "Train: [102][120/140]\t\n",
      "Train: [102][130/140]\t\n",
      "Train: [102][140/140]\t\n",
      "Training Accuracy: 97.97%\n",
      "Training loss: 0.05495319815311204\n",
      "Validation accuracy: 81.36054421768706 %\n",
      "Validation F1: 0.6411518921447898\n"
     ]
    },
    {
     "name": "stderr",
     "output_type": "stream",
     "text": [
      "/opt/conda/lib/python3.10/site-packages/torch/utils/data/dataloader.py:561: UserWarning: This DataLoader will create 8 worker processes in total. Our suggested max number of worker in current system is 2, which is smaller than what this DataLoader is going to create. Please be aware that excessive worker creation might get DataLoader running slow or even freeze, lower the worker number to avoid potential slowness/freeze if necessary.\n",
      "  warnings.warn(_create_warning_msg(\n"
     ]
    },
    {
     "name": "stdout",
     "output_type": "stream",
     "text": [
      "Train: [103][10/140]\t\n",
      "Train: [103][20/140]\t\n",
      "Train: [103][30/140]\t\n",
      "Train: [103][40/140]\t\n",
      "Train: [103][50/140]\t\n",
      "Train: [103][60/140]\t\n",
      "Train: [103][70/140]\t\n",
      "Train: [103][80/140]\t\n",
      "Train: [103][90/140]\t\n",
      "Train: [103][100/140]\t\n",
      "Train: [103][110/140]\t\n",
      "Train: [103][120/140]\t\n",
      "Train: [103][130/140]\t\n",
      "Train: [103][140/140]\t\n",
      "Training Accuracy: 98.00%\n",
      "Training loss: 0.053394826213042014\n",
      "Validation accuracy: 79.89795918367348 %\n",
      "Validation F1: 0.6019285300138294\n"
     ]
    },
    {
     "name": "stderr",
     "output_type": "stream",
     "text": [
      "/opt/conda/lib/python3.10/site-packages/torch/utils/data/dataloader.py:561: UserWarning: This DataLoader will create 8 worker processes in total. Our suggested max number of worker in current system is 2, which is smaller than what this DataLoader is going to create. Please be aware that excessive worker creation might get DataLoader running slow or even freeze, lower the worker number to avoid potential slowness/freeze if necessary.\n",
      "  warnings.warn(_create_warning_msg(\n"
     ]
    },
    {
     "name": "stdout",
     "output_type": "stream",
     "text": [
      "Train: [104][10/140]\t\n",
      "Train: [104][20/140]\t\n",
      "Train: [104][30/140]\t\n",
      "Train: [104][40/140]\t\n",
      "Train: [104][50/140]\t\n",
      "Train: [104][60/140]\t\n",
      "Train: [104][70/140]\t\n",
      "Train: [104][80/140]\t\n",
      "Train: [104][90/140]\t\n",
      "Train: [104][100/140]\t\n",
      "Train: [104][110/140]\t\n",
      "Train: [104][120/140]\t\n",
      "Train: [104][130/140]\t\n",
      "Train: [104][140/140]\t\n",
      "Training Accuracy: 98.06%\n",
      "Training loss: 0.05313162132512831\n",
      "Validation accuracy: 78.74149659863946 %\n",
      "Validation F1: 0.6422555646244807\n"
     ]
    },
    {
     "name": "stderr",
     "output_type": "stream",
     "text": [
      "/opt/conda/lib/python3.10/site-packages/torch/utils/data/dataloader.py:561: UserWarning: This DataLoader will create 8 worker processes in total. Our suggested max number of worker in current system is 2, which is smaller than what this DataLoader is going to create. Please be aware that excessive worker creation might get DataLoader running slow or even freeze, lower the worker number to avoid potential slowness/freeze if necessary.\n",
      "  warnings.warn(_create_warning_msg(\n"
     ]
    },
    {
     "name": "stdout",
     "output_type": "stream",
     "text": [
      "Train: [105][10/140]\t\n",
      "Train: [105][20/140]\t\n",
      "Train: [105][30/140]\t\n",
      "Train: [105][40/140]\t\n",
      "Train: [105][50/140]\t\n",
      "Train: [105][60/140]\t\n",
      "Train: [105][70/140]\t\n",
      "Train: [105][80/140]\t\n",
      "Train: [105][90/140]\t\n",
      "Train: [105][100/140]\t\n",
      "Train: [105][110/140]\t\n",
      "Train: [105][120/140]\t\n",
      "Train: [105][130/140]\t\n",
      "Train: [105][140/140]\t\n",
      "Training Accuracy: 97.97%\n",
      "Training loss: 0.05415137655269434\n",
      "Validation accuracy: 79.28571428571428 %\n",
      "Validation F1: 0.6301384959660609\n"
     ]
    },
    {
     "name": "stderr",
     "output_type": "stream",
     "text": [
      "/opt/conda/lib/python3.10/site-packages/torch/utils/data/dataloader.py:561: UserWarning: This DataLoader will create 8 worker processes in total. Our suggested max number of worker in current system is 2, which is smaller than what this DataLoader is going to create. Please be aware that excessive worker creation might get DataLoader running slow or even freeze, lower the worker number to avoid potential slowness/freeze if necessary.\n",
      "  warnings.warn(_create_warning_msg(\n"
     ]
    },
    {
     "name": "stdout",
     "output_type": "stream",
     "text": [
      "Train: [106][10/140]\t\n",
      "Train: [106][20/140]\t\n",
      "Train: [106][30/140]\t\n",
      "Train: [106][40/140]\t\n",
      "Train: [106][50/140]\t\n",
      "Train: [106][60/140]\t\n",
      "Train: [106][70/140]\t\n",
      "Train: [106][80/140]\t\n",
      "Train: [106][90/140]\t\n",
      "Train: [106][100/140]\t\n",
      "Train: [106][110/140]\t\n",
      "Train: [106][120/140]\t\n",
      "Train: [106][130/140]\t\n",
      "Train: [106][140/140]\t\n",
      "Training Accuracy: 98.12%\n",
      "Training loss: 0.051132662231397084\n",
      "Validation accuracy: 80.91836734693878 %\n",
      "Validation F1: 0.6368900316289622\n"
     ]
    },
    {
     "name": "stderr",
     "output_type": "stream",
     "text": [
      "/opt/conda/lib/python3.10/site-packages/torch/utils/data/dataloader.py:561: UserWarning: This DataLoader will create 8 worker processes in total. Our suggested max number of worker in current system is 2, which is smaller than what this DataLoader is going to create. Please be aware that excessive worker creation might get DataLoader running slow or even freeze, lower the worker number to avoid potential slowness/freeze if necessary.\n",
      "  warnings.warn(_create_warning_msg(\n"
     ]
    },
    {
     "name": "stdout",
     "output_type": "stream",
     "text": [
      "Train: [107][10/140]\t\n",
      "Train: [107][20/140]\t\n",
      "Train: [107][30/140]\t\n",
      "Train: [107][40/140]\t\n",
      "Train: [107][50/140]\t\n",
      "Train: [107][60/140]\t\n",
      "Train: [107][70/140]\t\n",
      "Train: [107][80/140]\t\n",
      "Train: [107][90/140]\t\n",
      "Train: [107][100/140]\t\n",
      "Train: [107][110/140]\t\n",
      "Train: [107][120/140]\t\n",
      "Train: [107][130/140]\t\n",
      "Train: [107][140/140]\t\n",
      "Training Accuracy: 98.32%\n",
      "Training loss: 0.04717107578680958\n",
      "Validation accuracy: 80.54421768707482 %\n",
      "Validation F1: 0.6335354259237301\n"
     ]
    },
    {
     "name": "stderr",
     "output_type": "stream",
     "text": [
      "/opt/conda/lib/python3.10/site-packages/torch/utils/data/dataloader.py:561: UserWarning: This DataLoader will create 8 worker processes in total. Our suggested max number of worker in current system is 2, which is smaller than what this DataLoader is going to create. Please be aware that excessive worker creation might get DataLoader running slow or even freeze, lower the worker number to avoid potential slowness/freeze if necessary.\n",
      "  warnings.warn(_create_warning_msg(\n"
     ]
    },
    {
     "name": "stdout",
     "output_type": "stream",
     "text": [
      "Train: [108][10/140]\t\n",
      "Train: [108][20/140]\t\n",
      "Train: [108][30/140]\t\n",
      "Train: [108][40/140]\t\n",
      "Train: [108][50/140]\t\n",
      "Train: [108][60/140]\t\n",
      "Train: [108][70/140]\t\n",
      "Train: [108][80/140]\t\n",
      "Train: [108][90/140]\t\n",
      "Train: [108][100/140]\t\n",
      "Train: [108][110/140]\t\n",
      "Train: [108][120/140]\t\n",
      "Train: [108][130/140]\t\n",
      "Train: [108][140/140]\t\n",
      "Training Accuracy: 98.19%\n",
      "Training loss: 0.04843984836853254\n",
      "Validation accuracy: 80.23809523809524 %\n",
      "Validation F1: 0.6063727592042106\n"
     ]
    },
    {
     "name": "stderr",
     "output_type": "stream",
     "text": [
      "/opt/conda/lib/python3.10/site-packages/torch/utils/data/dataloader.py:561: UserWarning: This DataLoader will create 8 worker processes in total. Our suggested max number of worker in current system is 2, which is smaller than what this DataLoader is going to create. Please be aware that excessive worker creation might get DataLoader running slow or even freeze, lower the worker number to avoid potential slowness/freeze if necessary.\n",
      "  warnings.warn(_create_warning_msg(\n"
     ]
    },
    {
     "name": "stdout",
     "output_type": "stream",
     "text": [
      "Train: [109][10/140]\t\n",
      "Train: [109][20/140]\t\n",
      "Train: [109][30/140]\t\n",
      "Train: [109][40/140]\t\n",
      "Train: [109][50/140]\t\n",
      "Train: [109][60/140]\t\n",
      "Train: [109][70/140]\t\n",
      "Train: [109][80/140]\t\n",
      "Train: [109][90/140]\t\n",
      "Train: [109][100/140]\t\n",
      "Train: [109][110/140]\t\n",
      "Train: [109][120/140]\t\n",
      "Train: [109][130/140]\t\n",
      "Train: [109][140/140]\t\n",
      "Training Accuracy: 98.06%\n",
      "Training loss: 0.05152570971156829\n",
      "Validation accuracy: 77.3469387755102 %\n",
      "Validation F1: 0.6084436168027879\n"
     ]
    },
    {
     "name": "stderr",
     "output_type": "stream",
     "text": [
      "/opt/conda/lib/python3.10/site-packages/torch/utils/data/dataloader.py:561: UserWarning: This DataLoader will create 8 worker processes in total. Our suggested max number of worker in current system is 2, which is smaller than what this DataLoader is going to create. Please be aware that excessive worker creation might get DataLoader running slow or even freeze, lower the worker number to avoid potential slowness/freeze if necessary.\n",
      "  warnings.warn(_create_warning_msg(\n"
     ]
    },
    {
     "name": "stdout",
     "output_type": "stream",
     "text": [
      "Train: [110][10/140]\t\n",
      "Train: [110][20/140]\t\n",
      "Train: [110][30/140]\t\n",
      "Train: [110][40/140]\t\n",
      "Train: [110][50/140]\t\n",
      "Train: [110][60/140]\t\n",
      "Train: [110][70/140]\t\n",
      "Train: [110][80/140]\t\n",
      "Train: [110][90/140]\t\n",
      "Train: [110][100/140]\t\n",
      "Train: [110][110/140]\t\n",
      "Train: [110][120/140]\t\n",
      "Train: [110][130/140]\t\n",
      "Train: [110][140/140]\t\n",
      "Training Accuracy: 98.06%\n",
      "Training loss: 0.05169425256605452\n",
      "Validation accuracy: 80.81632653061224 %\n",
      "Validation F1: 0.6228349695164056\n"
     ]
    },
    {
     "name": "stderr",
     "output_type": "stream",
     "text": [
      "/opt/conda/lib/python3.10/site-packages/torch/utils/data/dataloader.py:561: UserWarning: This DataLoader will create 8 worker processes in total. Our suggested max number of worker in current system is 2, which is smaller than what this DataLoader is going to create. Please be aware that excessive worker creation might get DataLoader running slow or even freeze, lower the worker number to avoid potential slowness/freeze if necessary.\n",
      "  warnings.warn(_create_warning_msg(\n"
     ]
    },
    {
     "name": "stdout",
     "output_type": "stream",
     "text": [
      "Train: [111][10/140]\t\n",
      "Train: [111][20/140]\t\n",
      "Train: [111][30/140]\t\n",
      "Train: [111][40/140]\t\n",
      "Train: [111][50/140]\t\n",
      "Train: [111][60/140]\t\n",
      "Train: [111][70/140]\t\n",
      "Train: [111][80/140]\t\n",
      "Train: [111][90/140]\t\n",
      "Train: [111][100/140]\t\n",
      "Train: [111][110/140]\t\n",
      "Train: [111][120/140]\t\n",
      "Train: [111][130/140]\t\n",
      "Train: [111][140/140]\t\n",
      "Training Accuracy: 97.79%\n",
      "Training loss: 0.058375005207807126\n",
      "Validation accuracy: 79.08163265306123 %\n",
      "Validation F1: 0.6021896787604856\n"
     ]
    },
    {
     "name": "stderr",
     "output_type": "stream",
     "text": [
      "/opt/conda/lib/python3.10/site-packages/torch/utils/data/dataloader.py:561: UserWarning: This DataLoader will create 8 worker processes in total. Our suggested max number of worker in current system is 2, which is smaller than what this DataLoader is going to create. Please be aware that excessive worker creation might get DataLoader running slow or even freeze, lower the worker number to avoid potential slowness/freeze if necessary.\n",
      "  warnings.warn(_create_warning_msg(\n"
     ]
    },
    {
     "name": "stdout",
     "output_type": "stream",
     "text": [
      "Train: [112][10/140]\t\n",
      "Train: [112][20/140]\t\n",
      "Train: [112][30/140]\t\n",
      "Train: [112][40/140]\t\n",
      "Train: [112][50/140]\t\n",
      "Train: [112][60/140]\t\n",
      "Train: [112][70/140]\t\n",
      "Train: [112][80/140]\t\n",
      "Train: [112][90/140]\t\n",
      "Train: [112][100/140]\t\n",
      "Train: [112][110/140]\t\n",
      "Train: [112][120/140]\t\n",
      "Train: [112][130/140]\t\n",
      "Train: [112][140/140]\t\n",
      "Training Accuracy: 98.14%\n",
      "Training loss: 0.050606740713386854\n",
      "Validation accuracy: 79.6938775510204 %\n",
      "Validation F1: 0.6093634630756055\n"
     ]
    },
    {
     "name": "stderr",
     "output_type": "stream",
     "text": [
      "/opt/conda/lib/python3.10/site-packages/torch/utils/data/dataloader.py:561: UserWarning: This DataLoader will create 8 worker processes in total. Our suggested max number of worker in current system is 2, which is smaller than what this DataLoader is going to create. Please be aware that excessive worker creation might get DataLoader running slow or even freeze, lower the worker number to avoid potential slowness/freeze if necessary.\n",
      "  warnings.warn(_create_warning_msg(\n"
     ]
    },
    {
     "name": "stdout",
     "output_type": "stream",
     "text": [
      "Train: [113][10/140]\t\n",
      "Train: [113][20/140]\t\n",
      "Train: [113][30/140]\t\n",
      "Train: [113][40/140]\t\n",
      "Train: [113][50/140]\t\n",
      "Train: [113][60/140]\t\n",
      "Train: [113][70/140]\t\n",
      "Train: [113][80/140]\t\n",
      "Train: [113][90/140]\t\n",
      "Train: [113][100/140]\t\n",
      "Train: [113][110/140]\t\n",
      "Train: [113][120/140]\t\n",
      "Train: [113][130/140]\t\n",
      "Train: [113][140/140]\t\n",
      "Training Accuracy: 98.62%\n",
      "Training loss: 0.03986462072309931\n",
      "Validation accuracy: 80.4421768707483 %\n",
      "Validation F1: 0.6241379256929497\n"
     ]
    },
    {
     "name": "stderr",
     "output_type": "stream",
     "text": [
      "/opt/conda/lib/python3.10/site-packages/torch/utils/data/dataloader.py:561: UserWarning: This DataLoader will create 8 worker processes in total. Our suggested max number of worker in current system is 2, which is smaller than what this DataLoader is going to create. Please be aware that excessive worker creation might get DataLoader running slow or even freeze, lower the worker number to avoid potential slowness/freeze if necessary.\n",
      "  warnings.warn(_create_warning_msg(\n"
     ]
    },
    {
     "name": "stdout",
     "output_type": "stream",
     "text": [
      "Train: [114][10/140]\t\n",
      "Train: [114][20/140]\t\n",
      "Train: [114][30/140]\t\n",
      "Train: [114][40/140]\t\n",
      "Train: [114][50/140]\t\n",
      "Train: [114][60/140]\t\n",
      "Train: [114][70/140]\t\n",
      "Train: [114][80/140]\t\n",
      "Train: [114][90/140]\t\n",
      "Train: [114][100/140]\t\n",
      "Train: [114][110/140]\t\n",
      "Train: [114][120/140]\t\n",
      "Train: [114][130/140]\t\n",
      "Train: [114][140/140]\t\n",
      "Training Accuracy: 98.51%\n",
      "Training loss: 0.041757614264295195\n",
      "Validation accuracy: 80.27210884353741 %\n",
      "Validation F1: 0.6301533874378776\n"
     ]
    },
    {
     "name": "stderr",
     "output_type": "stream",
     "text": [
      "/opt/conda/lib/python3.10/site-packages/torch/utils/data/dataloader.py:561: UserWarning: This DataLoader will create 8 worker processes in total. Our suggested max number of worker in current system is 2, which is smaller than what this DataLoader is going to create. Please be aware that excessive worker creation might get DataLoader running slow or even freeze, lower the worker number to avoid potential slowness/freeze if necessary.\n",
      "  warnings.warn(_create_warning_msg(\n"
     ]
    },
    {
     "name": "stdout",
     "output_type": "stream",
     "text": [
      "Train: [115][10/140]\t\n",
      "Train: [115][20/140]\t\n",
      "Train: [115][30/140]\t\n",
      "Train: [115][40/140]\t\n",
      "Train: [115][50/140]\t\n",
      "Train: [115][60/140]\t\n",
      "Train: [115][70/140]\t\n",
      "Train: [115][80/140]\t\n",
      "Train: [115][90/140]\t\n",
      "Train: [115][100/140]\t\n",
      "Train: [115][110/140]\t\n",
      "Train: [115][120/140]\t\n",
      "Train: [115][130/140]\t\n",
      "Train: [115][140/140]\t\n",
      "Training Accuracy: 98.36%\n",
      "Training loss: 0.04476270394495422\n",
      "Validation accuracy: 80.1360544217687 %\n",
      "Validation F1: 0.644759904582421\n"
     ]
    },
    {
     "name": "stderr",
     "output_type": "stream",
     "text": [
      "/opt/conda/lib/python3.10/site-packages/torch/utils/data/dataloader.py:561: UserWarning: This DataLoader will create 8 worker processes in total. Our suggested max number of worker in current system is 2, which is smaller than what this DataLoader is going to create. Please be aware that excessive worker creation might get DataLoader running slow or even freeze, lower the worker number to avoid potential slowness/freeze if necessary.\n",
      "  warnings.warn(_create_warning_msg(\n"
     ]
    },
    {
     "name": "stdout",
     "output_type": "stream",
     "text": [
      "Train: [116][10/140]\t\n",
      "Train: [116][20/140]\t\n",
      "Train: [116][30/140]\t\n",
      "Train: [116][40/140]\t\n",
      "Train: [116][50/140]\t\n",
      "Train: [116][60/140]\t\n",
      "Train: [116][70/140]\t\n",
      "Train: [116][80/140]\t\n",
      "Train: [116][90/140]\t\n",
      "Train: [116][100/140]\t\n",
      "Train: [116][110/140]\t\n",
      "Train: [116][120/140]\t\n",
      "Train: [116][130/140]\t\n",
      "Train: [116][140/140]\t\n",
      "Training Accuracy: 98.40%\n",
      "Training loss: 0.044619422303197306\n",
      "Validation accuracy: 81.29251700680273 %\n",
      "Validation F1: 0.656810613624863\n"
     ]
    },
    {
     "name": "stderr",
     "output_type": "stream",
     "text": [
      "/opt/conda/lib/python3.10/site-packages/torch/utils/data/dataloader.py:561: UserWarning: This DataLoader will create 8 worker processes in total. Our suggested max number of worker in current system is 2, which is smaller than what this DataLoader is going to create. Please be aware that excessive worker creation might get DataLoader running slow or even freeze, lower the worker number to avoid potential slowness/freeze if necessary.\n",
      "  warnings.warn(_create_warning_msg(\n"
     ]
    },
    {
     "name": "stdout",
     "output_type": "stream",
     "text": [
      "Train: [117][10/140]\t\n",
      "Train: [117][20/140]\t\n",
      "Train: [117][30/140]\t\n",
      "Train: [117][40/140]\t\n",
      "Train: [117][50/140]\t\n",
      "Train: [117][60/140]\t\n",
      "Train: [117][70/140]\t\n",
      "Train: [117][80/140]\t\n",
      "Train: [117][90/140]\t\n",
      "Train: [117][100/140]\t\n",
      "Train: [117][110/140]\t\n",
      "Train: [117][120/140]\t\n",
      "Train: [117][130/140]\t\n",
      "Train: [117][140/140]\t\n",
      "Training Accuracy: 98.42%\n",
      "Training loss: 0.04378376151580237\n",
      "Validation accuracy: 81.42857142857143 %\n",
      "Validation F1: 0.6045079100047032\n"
     ]
    },
    {
     "name": "stderr",
     "output_type": "stream",
     "text": [
      "/opt/conda/lib/python3.10/site-packages/torch/utils/data/dataloader.py:561: UserWarning: This DataLoader will create 8 worker processes in total. Our suggested max number of worker in current system is 2, which is smaller than what this DataLoader is going to create. Please be aware that excessive worker creation might get DataLoader running slow or even freeze, lower the worker number to avoid potential slowness/freeze if necessary.\n",
      "  warnings.warn(_create_warning_msg(\n"
     ]
    },
    {
     "name": "stdout",
     "output_type": "stream",
     "text": [
      "Train: [118][10/140]\t\n",
      "Train: [118][20/140]\t\n",
      "Train: [118][30/140]\t\n",
      "Train: [118][40/140]\t\n",
      "Train: [118][50/140]\t\n",
      "Train: [118][60/140]\t\n",
      "Train: [118][70/140]\t\n",
      "Train: [118][80/140]\t\n",
      "Train: [118][90/140]\t\n",
      "Train: [118][100/140]\t\n",
      "Train: [118][110/140]\t\n",
      "Train: [118][120/140]\t\n",
      "Train: [118][130/140]\t\n",
      "Train: [118][140/140]\t\n",
      "Training Accuracy: 98.45%\n",
      "Training loss: 0.043159172108493384\n",
      "Validation accuracy: 79.421768707483 %\n",
      "Validation F1: 0.616722429491104\n"
     ]
    },
    {
     "name": "stderr",
     "output_type": "stream",
     "text": [
      "/opt/conda/lib/python3.10/site-packages/torch/utils/data/dataloader.py:561: UserWarning: This DataLoader will create 8 worker processes in total. Our suggested max number of worker in current system is 2, which is smaller than what this DataLoader is going to create. Please be aware that excessive worker creation might get DataLoader running slow or even freeze, lower the worker number to avoid potential slowness/freeze if necessary.\n",
      "  warnings.warn(_create_warning_msg(\n"
     ]
    },
    {
     "name": "stdout",
     "output_type": "stream",
     "text": [
      "Train: [119][10/140]\t\n",
      "Train: [119][20/140]\t\n",
      "Train: [119][30/140]\t\n",
      "Train: [119][40/140]\t\n",
      "Train: [119][50/140]\t\n",
      "Train: [119][60/140]\t\n",
      "Train: [119][70/140]\t\n",
      "Train: [119][80/140]\t\n",
      "Train: [119][90/140]\t\n",
      "Train: [119][100/140]\t\n",
      "Train: [119][110/140]\t\n",
      "Train: [119][120/140]\t\n",
      "Train: [119][130/140]\t\n",
      "Train: [119][140/140]\t\n",
      "Training Accuracy: 98.52%\n",
      "Training loss: 0.042193121718542274\n",
      "Validation accuracy: 80.95238095238095 %\n",
      "Validation F1: 0.6423061321200926\n"
     ]
    },
    {
     "name": "stderr",
     "output_type": "stream",
     "text": [
      "/opt/conda/lib/python3.10/site-packages/torch/utils/data/dataloader.py:561: UserWarning: This DataLoader will create 8 worker processes in total. Our suggested max number of worker in current system is 2, which is smaller than what this DataLoader is going to create. Please be aware that excessive worker creation might get DataLoader running slow or even freeze, lower the worker number to avoid potential slowness/freeze if necessary.\n",
      "  warnings.warn(_create_warning_msg(\n"
     ]
    },
    {
     "name": "stdout",
     "output_type": "stream",
     "text": [
      "Train: [120][10/140]\t\n",
      "Train: [120][20/140]\t\n",
      "Train: [120][30/140]\t\n",
      "Train: [120][40/140]\t\n",
      "Train: [120][50/140]\t\n",
      "Train: [120][60/140]\t\n",
      "Train: [120][70/140]\t\n",
      "Train: [120][80/140]\t\n",
      "Train: [120][90/140]\t\n",
      "Train: [120][100/140]\t\n",
      "Train: [120][110/140]\t\n",
      "Train: [120][120/140]\t\n",
      "Train: [120][130/140]\t\n",
      "Train: [120][140/140]\t\n",
      "Training Accuracy: 98.11%\n",
      "Training loss: 0.050817453258372815\n",
      "Validation accuracy: 81.19047619047619 %\n",
      "Validation F1: 0.6351775528791423\n"
     ]
    },
    {
     "name": "stderr",
     "output_type": "stream",
     "text": [
      "/opt/conda/lib/python3.10/site-packages/torch/utils/data/dataloader.py:561: UserWarning: This DataLoader will create 8 worker processes in total. Our suggested max number of worker in current system is 2, which is smaller than what this DataLoader is going to create. Please be aware that excessive worker creation might get DataLoader running slow or even freeze, lower the worker number to avoid potential slowness/freeze if necessary.\n",
      "  warnings.warn(_create_warning_msg(\n"
     ]
    },
    {
     "name": "stdout",
     "output_type": "stream",
     "text": [
      "Train: [121][10/140]\t\n",
      "Train: [121][20/140]\t\n",
      "Train: [121][30/140]\t\n",
      "Train: [121][40/140]\t\n",
      "Train: [121][50/140]\t\n",
      "Train: [121][60/140]\t\n",
      "Train: [121][70/140]\t\n",
      "Train: [121][80/140]\t\n",
      "Train: [121][90/140]\t\n",
      "Train: [121][100/140]\t\n",
      "Train: [121][110/140]\t\n",
      "Train: [121][120/140]\t\n",
      "Train: [121][130/140]\t\n",
      "Train: [121][140/140]\t\n",
      "Training Accuracy: 98.39%\n",
      "Training loss: 0.0436326374612493\n",
      "Validation accuracy: 80.78231292517006 %\n",
      "Validation F1: 0.6017966869995123\n"
     ]
    },
    {
     "name": "stderr",
     "output_type": "stream",
     "text": [
      "/opt/conda/lib/python3.10/site-packages/torch/utils/data/dataloader.py:561: UserWarning: This DataLoader will create 8 worker processes in total. Our suggested max number of worker in current system is 2, which is smaller than what this DataLoader is going to create. Please be aware that excessive worker creation might get DataLoader running slow or even freeze, lower the worker number to avoid potential slowness/freeze if necessary.\n",
      "  warnings.warn(_create_warning_msg(\n"
     ]
    },
    {
     "name": "stdout",
     "output_type": "stream",
     "text": [
      "Train: [122][10/140]\t\n",
      "Train: [122][20/140]\t\n",
      "Train: [122][30/140]\t\n",
      "Train: [122][40/140]\t\n",
      "Train: [122][50/140]\t\n",
      "Train: [122][60/140]\t\n",
      "Train: [122][70/140]\t\n",
      "Train: [122][80/140]\t\n",
      "Train: [122][90/140]\t\n",
      "Train: [122][100/140]\t\n",
      "Train: [122][110/140]\t\n",
      "Train: [122][120/140]\t\n",
      "Train: [122][130/140]\t\n",
      "Train: [122][140/140]\t\n",
      "Training Accuracy: 98.54%\n",
      "Training loss: 0.04076111220144175\n",
      "Validation accuracy: 77.51700680272108 %\n",
      "Validation F1: 0.6061865728703438\n"
     ]
    },
    {
     "name": "stderr",
     "output_type": "stream",
     "text": [
      "/opt/conda/lib/python3.10/site-packages/torch/utils/data/dataloader.py:561: UserWarning: This DataLoader will create 8 worker processes in total. Our suggested max number of worker in current system is 2, which is smaller than what this DataLoader is going to create. Please be aware that excessive worker creation might get DataLoader running slow or even freeze, lower the worker number to avoid potential slowness/freeze if necessary.\n",
      "  warnings.warn(_create_warning_msg(\n"
     ]
    },
    {
     "name": "stdout",
     "output_type": "stream",
     "text": [
      "Train: [123][10/140]\t\n",
      "Train: [123][20/140]\t\n",
      "Train: [123][30/140]\t\n",
      "Train: [123][40/140]\t\n",
      "Train: [123][50/140]\t\n",
      "Train: [123][60/140]\t\n",
      "Train: [123][70/140]\t\n",
      "Train: [123][80/140]\t\n",
      "Train: [123][90/140]\t\n",
      "Train: [123][100/140]\t\n",
      "Train: [123][110/140]\t\n",
      "Train: [123][120/140]\t\n",
      "Train: [123][130/140]\t\n",
      "Train: [123][140/140]\t\n",
      "Training Accuracy: 98.59%\n",
      "Training loss: 0.03972663742246369\n",
      "Validation accuracy: 80.1360544217687 %\n",
      "Validation F1: 0.6111950269989064\n"
     ]
    },
    {
     "name": "stderr",
     "output_type": "stream",
     "text": [
      "/opt/conda/lib/python3.10/site-packages/torch/utils/data/dataloader.py:561: UserWarning: This DataLoader will create 8 worker processes in total. Our suggested max number of worker in current system is 2, which is smaller than what this DataLoader is going to create. Please be aware that excessive worker creation might get DataLoader running slow or even freeze, lower the worker number to avoid potential slowness/freeze if necessary.\n",
      "  warnings.warn(_create_warning_msg(\n"
     ]
    },
    {
     "name": "stdout",
     "output_type": "stream",
     "text": [
      "Train: [124][10/140]\t\n",
      "Train: [124][20/140]\t\n",
      "Train: [124][30/140]\t\n",
      "Train: [124][40/140]\t\n",
      "Train: [124][50/140]\t\n",
      "Train: [124][60/140]\t\n",
      "Train: [124][70/140]\t\n",
      "Train: [124][80/140]\t\n",
      "Train: [124][90/140]\t\n",
      "Train: [124][100/140]\t\n",
      "Train: [124][110/140]\t\n",
      "Train: [124][120/140]\t\n",
      "Train: [124][130/140]\t\n",
      "Train: [124][140/140]\t\n",
      "Training Accuracy: 97.82%\n",
      "Training loss: 0.058542487518345995\n",
      "Validation accuracy: 81.12244897959184 %\n",
      "Validation F1: 0.6260066807495224\n"
     ]
    },
    {
     "name": "stderr",
     "output_type": "stream",
     "text": [
      "/opt/conda/lib/python3.10/site-packages/torch/utils/data/dataloader.py:561: UserWarning: This DataLoader will create 8 worker processes in total. Our suggested max number of worker in current system is 2, which is smaller than what this DataLoader is going to create. Please be aware that excessive worker creation might get DataLoader running slow or even freeze, lower the worker number to avoid potential slowness/freeze if necessary.\n",
      "  warnings.warn(_create_warning_msg(\n"
     ]
    },
    {
     "name": "stdout",
     "output_type": "stream",
     "text": [
      "Train: [125][10/140]\t\n",
      "Train: [125][20/140]\t\n",
      "Train: [125][30/140]\t\n",
      "Train: [125][40/140]\t\n",
      "Train: [125][50/140]\t\n",
      "Train: [125][60/140]\t\n",
      "Train: [125][70/140]\t\n",
      "Train: [125][80/140]\t\n",
      "Train: [125][90/140]\t\n",
      "Train: [125][100/140]\t\n",
      "Train: [125][110/140]\t\n",
      "Train: [125][120/140]\t\n",
      "Train: [125][130/140]\t\n",
      "Train: [125][140/140]\t\n",
      "Training Accuracy: 98.52%\n",
      "Training loss: 0.04129374170281957\n",
      "Validation accuracy: 81.73469387755102 %\n",
      "Validation F1: 0.6183126550436443\n"
     ]
    },
    {
     "name": "stderr",
     "output_type": "stream",
     "text": [
      "/opt/conda/lib/python3.10/site-packages/torch/utils/data/dataloader.py:561: UserWarning: This DataLoader will create 8 worker processes in total. Our suggested max number of worker in current system is 2, which is smaller than what this DataLoader is going to create. Please be aware that excessive worker creation might get DataLoader running slow or even freeze, lower the worker number to avoid potential slowness/freeze if necessary.\n",
      "  warnings.warn(_create_warning_msg(\n"
     ]
    },
    {
     "name": "stdout",
     "output_type": "stream",
     "text": [
      "Train: [126][10/140]\t\n",
      "Train: [126][20/140]\t\n",
      "Train: [126][30/140]\t\n",
      "Train: [126][40/140]\t\n",
      "Train: [126][50/140]\t\n",
      "Train: [126][60/140]\t\n",
      "Train: [126][70/140]\t\n",
      "Train: [126][80/140]\t\n",
      "Train: [126][90/140]\t\n",
      "Train: [126][100/140]\t\n",
      "Train: [126][110/140]\t\n",
      "Train: [126][120/140]\t\n",
      "Train: [126][130/140]\t\n",
      "Train: [126][140/140]\t\n",
      "Training Accuracy: 98.34%\n",
      "Training loss: 0.045184548173110614\n",
      "Validation accuracy: 80.40816326530611 %\n",
      "Validation F1: 0.6302298468874321\n"
     ]
    },
    {
     "name": "stderr",
     "output_type": "stream",
     "text": [
      "/opt/conda/lib/python3.10/site-packages/torch/utils/data/dataloader.py:561: UserWarning: This DataLoader will create 8 worker processes in total. Our suggested max number of worker in current system is 2, which is smaller than what this DataLoader is going to create. Please be aware that excessive worker creation might get DataLoader running slow or even freeze, lower the worker number to avoid potential slowness/freeze if necessary.\n",
      "  warnings.warn(_create_warning_msg(\n"
     ]
    },
    {
     "name": "stdout",
     "output_type": "stream",
     "text": [
      "Train: [127][10/140]\t\n",
      "Train: [127][20/140]\t\n",
      "Train: [127][30/140]\t\n",
      "Train: [127][40/140]\t\n",
      "Train: [127][50/140]\t\n",
      "Train: [127][60/140]\t\n",
      "Train: [127][70/140]\t\n",
      "Train: [127][80/140]\t\n",
      "Train: [127][90/140]\t\n",
      "Train: [127][100/140]\t\n",
      "Train: [127][110/140]\t\n",
      "Train: [127][120/140]\t\n",
      "Train: [127][130/140]\t\n",
      "Train: [127][140/140]\t\n",
      "Training Accuracy: 98.80%\n",
      "Training loss: 0.03456746622958467\n",
      "Validation accuracy: 80.47619047619048 %\n",
      "Validation F1: 0.6152735463787297\n"
     ]
    },
    {
     "name": "stderr",
     "output_type": "stream",
     "text": [
      "/opt/conda/lib/python3.10/site-packages/torch/utils/data/dataloader.py:561: UserWarning: This DataLoader will create 8 worker processes in total. Our suggested max number of worker in current system is 2, which is smaller than what this DataLoader is going to create. Please be aware that excessive worker creation might get DataLoader running slow or even freeze, lower the worker number to avoid potential slowness/freeze if necessary.\n",
      "  warnings.warn(_create_warning_msg(\n"
     ]
    },
    {
     "name": "stdout",
     "output_type": "stream",
     "text": [
      "Train: [128][10/140]\t\n",
      "Train: [128][20/140]\t\n",
      "Train: [128][30/140]\t\n",
      "Train: [128][40/140]\t\n",
      "Train: [128][50/140]\t\n",
      "Train: [128][60/140]\t\n",
      "Train: [128][70/140]\t\n",
      "Train: [128][80/140]\t\n",
      "Train: [128][90/140]\t\n",
      "Train: [128][100/140]\t\n",
      "Train: [128][110/140]\t\n",
      "Train: [128][120/140]\t\n",
      "Train: [128][130/140]\t\n",
      "Train: [128][140/140]\t\n",
      "Training Accuracy: 98.84%\n",
      "Training loss: 0.03277992822495537\n",
      "Validation accuracy: 82.14285714285714 %\n",
      "Validation F1: 0.6492898512298829\n"
     ]
    },
    {
     "name": "stderr",
     "output_type": "stream",
     "text": [
      "/opt/conda/lib/python3.10/site-packages/torch/utils/data/dataloader.py:561: UserWarning: This DataLoader will create 8 worker processes in total. Our suggested max number of worker in current system is 2, which is smaller than what this DataLoader is going to create. Please be aware that excessive worker creation might get DataLoader running slow or even freeze, lower the worker number to avoid potential slowness/freeze if necessary.\n",
      "  warnings.warn(_create_warning_msg(\n"
     ]
    },
    {
     "name": "stdout",
     "output_type": "stream",
     "text": [
      "Train: [129][10/140]\t\n",
      "Train: [129][20/140]\t\n",
      "Train: [129][30/140]\t\n",
      "Train: [129][40/140]\t\n",
      "Train: [129][50/140]\t\n",
      "Train: [129][60/140]\t\n",
      "Train: [129][70/140]\t\n",
      "Train: [129][80/140]\t\n",
      "Train: [129][90/140]\t\n",
      "Train: [129][100/140]\t\n",
      "Train: [129][110/140]\t\n",
      "Train: [129][120/140]\t\n",
      "Train: [129][130/140]\t\n",
      "Train: [129][140/140]\t\n",
      "Training Accuracy: 98.80%\n",
      "Training loss: 0.03378044044585152\n",
      "Validation accuracy: 79.14965986394557 %\n",
      "Validation F1: 0.6254558286504363\n"
     ]
    },
    {
     "name": "stderr",
     "output_type": "stream",
     "text": [
      "/opt/conda/lib/python3.10/site-packages/torch/utils/data/dataloader.py:561: UserWarning: This DataLoader will create 8 worker processes in total. Our suggested max number of worker in current system is 2, which is smaller than what this DataLoader is going to create. Please be aware that excessive worker creation might get DataLoader running slow or even freeze, lower the worker number to avoid potential slowness/freeze if necessary.\n",
      "  warnings.warn(_create_warning_msg(\n"
     ]
    },
    {
     "name": "stdout",
     "output_type": "stream",
     "text": [
      "Train: [130][10/140]\t\n",
      "Train: [130][20/140]\t\n",
      "Train: [130][30/140]\t\n",
      "Train: [130][40/140]\t\n",
      "Train: [130][50/140]\t\n",
      "Train: [130][60/140]\t\n",
      "Train: [130][70/140]\t\n",
      "Train: [130][80/140]\t\n",
      "Train: [130][90/140]\t\n",
      "Train: [130][100/140]\t\n",
      "Train: [130][110/140]\t\n",
      "Train: [130][120/140]\t\n",
      "Train: [130][130/140]\t\n",
      "Train: [130][140/140]\t\n",
      "Training Accuracy: 98.66%\n",
      "Training loss: 0.03763209521038619\n",
      "Validation accuracy: 80.78231292517006 %\n",
      "Validation F1: 0.6361161951795222\n"
     ]
    },
    {
     "name": "stderr",
     "output_type": "stream",
     "text": [
      "/opt/conda/lib/python3.10/site-packages/torch/utils/data/dataloader.py:561: UserWarning: This DataLoader will create 8 worker processes in total. Our suggested max number of worker in current system is 2, which is smaller than what this DataLoader is going to create. Please be aware that excessive worker creation might get DataLoader running slow or even freeze, lower the worker number to avoid potential slowness/freeze if necessary.\n",
      "  warnings.warn(_create_warning_msg(\n"
     ]
    },
    {
     "name": "stdout",
     "output_type": "stream",
     "text": [
      "Train: [131][10/140]\t\n",
      "Train: [131][20/140]\t\n",
      "Train: [131][30/140]\t\n",
      "Train: [131][40/140]\t\n",
      "Train: [131][50/140]\t\n",
      "Train: [131][60/140]\t\n",
      "Train: [131][70/140]\t\n",
      "Train: [131][80/140]\t\n",
      "Train: [131][90/140]\t\n",
      "Train: [131][100/140]\t\n",
      "Train: [131][110/140]\t\n",
      "Train: [131][120/140]\t\n",
      "Train: [131][130/140]\t\n",
      "Train: [131][140/140]\t\n",
      "Training Accuracy: 98.29%\n",
      "Training loss: 0.0468462927642492\n",
      "Validation accuracy: 76.83673469387755 %\n",
      "Validation F1: 0.6273272207780867\n"
     ]
    },
    {
     "name": "stderr",
     "output_type": "stream",
     "text": [
      "/opt/conda/lib/python3.10/site-packages/torch/utils/data/dataloader.py:561: UserWarning: This DataLoader will create 8 worker processes in total. Our suggested max number of worker in current system is 2, which is smaller than what this DataLoader is going to create. Please be aware that excessive worker creation might get DataLoader running slow or even freeze, lower the worker number to avoid potential slowness/freeze if necessary.\n",
      "  warnings.warn(_create_warning_msg(\n"
     ]
    },
    {
     "name": "stdout",
     "output_type": "stream",
     "text": [
      "Train: [132][10/140]\t\n",
      "Train: [132][20/140]\t\n",
      "Train: [132][30/140]\t\n",
      "Train: [132][40/140]\t\n",
      "Train: [132][50/140]\t\n",
      "Train: [132][60/140]\t\n",
      "Train: [132][70/140]\t\n",
      "Train: [132][80/140]\t\n",
      "Train: [132][90/140]\t\n",
      "Train: [132][100/140]\t\n",
      "Train: [132][110/140]\t\n",
      "Train: [132][120/140]\t\n",
      "Train: [132][130/140]\t\n",
      "Train: [132][140/140]\t\n",
      "Training Accuracy: 98.50%\n",
      "Training loss: 0.04208343800798102\n",
      "Validation accuracy: 79.82993197278911 %\n",
      "Validation F1: 0.612363031103408\n"
     ]
    },
    {
     "name": "stderr",
     "output_type": "stream",
     "text": [
      "/opt/conda/lib/python3.10/site-packages/torch/utils/data/dataloader.py:561: UserWarning: This DataLoader will create 8 worker processes in total. Our suggested max number of worker in current system is 2, which is smaller than what this DataLoader is going to create. Please be aware that excessive worker creation might get DataLoader running slow or even freeze, lower the worker number to avoid potential slowness/freeze if necessary.\n",
      "  warnings.warn(_create_warning_msg(\n"
     ]
    },
    {
     "name": "stdout",
     "output_type": "stream",
     "text": [
      "Train: [133][10/140]\t\n",
      "Train: [133][20/140]\t\n",
      "Train: [133][30/140]\t\n",
      "Train: [133][40/140]\t\n",
      "Train: [133][50/140]\t\n",
      "Train: [133][60/140]\t\n",
      "Train: [133][70/140]\t\n",
      "Train: [133][80/140]\t\n",
      "Train: [133][90/140]\t\n",
      "Train: [133][100/140]\t\n",
      "Train: [133][110/140]\t\n",
      "Train: [133][120/140]\t\n",
      "Train: [133][130/140]\t\n",
      "Train: [133][140/140]\t\n",
      "Training Accuracy: 98.67%\n",
      "Training loss: 0.03775911455224998\n",
      "Validation accuracy: 80.37414965986395 %\n",
      "Validation F1: 0.6216656318703817\n"
     ]
    },
    {
     "name": "stderr",
     "output_type": "stream",
     "text": [
      "/opt/conda/lib/python3.10/site-packages/torch/utils/data/dataloader.py:561: UserWarning: This DataLoader will create 8 worker processes in total. Our suggested max number of worker in current system is 2, which is smaller than what this DataLoader is going to create. Please be aware that excessive worker creation might get DataLoader running slow or even freeze, lower the worker number to avoid potential slowness/freeze if necessary.\n",
      "  warnings.warn(_create_warning_msg(\n"
     ]
    },
    {
     "name": "stdout",
     "output_type": "stream",
     "text": [
      "Train: [134][10/140]\t\n",
      "Train: [134][20/140]\t\n",
      "Train: [134][30/140]\t\n",
      "Train: [134][40/140]\t\n",
      "Train: [134][50/140]\t\n",
      "Train: [134][60/140]\t\n",
      "Train: [134][70/140]\t\n",
      "Train: [134][80/140]\t\n",
      "Train: [134][90/140]\t\n",
      "Train: [134][100/140]\t\n",
      "Train: [134][110/140]\t\n",
      "Train: [134][120/140]\t\n",
      "Train: [134][130/140]\t\n",
      "Train: [134][140/140]\t\n",
      "Training Accuracy: 98.65%\n",
      "Training loss: 0.03871848005204089\n",
      "Validation accuracy: 81.19047619047619 %\n",
      "Validation F1: 0.6108444256889851\n"
     ]
    },
    {
     "name": "stderr",
     "output_type": "stream",
     "text": [
      "/opt/conda/lib/python3.10/site-packages/torch/utils/data/dataloader.py:561: UserWarning: This DataLoader will create 8 worker processes in total. Our suggested max number of worker in current system is 2, which is smaller than what this DataLoader is going to create. Please be aware that excessive worker creation might get DataLoader running slow or even freeze, lower the worker number to avoid potential slowness/freeze if necessary.\n",
      "  warnings.warn(_create_warning_msg(\n"
     ]
    },
    {
     "name": "stdout",
     "output_type": "stream",
     "text": [
      "Train: [135][10/140]\t\n",
      "Train: [135][20/140]\t\n",
      "Train: [135][30/140]\t\n",
      "Train: [135][40/140]\t\n",
      "Train: [135][50/140]\t\n",
      "Train: [135][60/140]\t\n",
      "Train: [135][70/140]\t\n",
      "Train: [135][80/140]\t\n",
      "Train: [135][90/140]\t\n",
      "Train: [135][100/140]\t\n",
      "Train: [135][110/140]\t\n",
      "Train: [135][120/140]\t\n",
      "Train: [135][130/140]\t\n",
      "Train: [135][140/140]\t\n",
      "Training Accuracy: 98.59%\n",
      "Training loss: 0.040248754931173934\n",
      "Validation accuracy: 81.59863945578232 %\n",
      "Validation F1: 0.6412542170731115\n"
     ]
    },
    {
     "name": "stderr",
     "output_type": "stream",
     "text": [
      "/opt/conda/lib/python3.10/site-packages/torch/utils/data/dataloader.py:561: UserWarning: This DataLoader will create 8 worker processes in total. Our suggested max number of worker in current system is 2, which is smaller than what this DataLoader is going to create. Please be aware that excessive worker creation might get DataLoader running slow or even freeze, lower the worker number to avoid potential slowness/freeze if necessary.\n",
      "  warnings.warn(_create_warning_msg(\n"
     ]
    },
    {
     "name": "stdout",
     "output_type": "stream",
     "text": [
      "Train: [136][10/140]\t\n",
      "Train: [136][20/140]\t\n",
      "Train: [136][30/140]\t\n",
      "Train: [136][40/140]\t\n",
      "Train: [136][50/140]\t\n",
      "Train: [136][60/140]\t\n",
      "Train: [136][70/140]\t\n",
      "Train: [136][80/140]\t\n",
      "Train: [136][90/140]\t\n",
      "Train: [136][100/140]\t\n",
      "Train: [136][110/140]\t\n",
      "Train: [136][120/140]\t\n",
      "Train: [136][130/140]\t\n",
      "Train: [136][140/140]\t\n",
      "Training Accuracy: 98.82%\n",
      "Training loss: 0.033037011288348725\n",
      "Validation accuracy: 81.53061224489797 %\n",
      "Validation F1: 0.6438114761760193\n"
     ]
    },
    {
     "name": "stderr",
     "output_type": "stream",
     "text": [
      "/opt/conda/lib/python3.10/site-packages/torch/utils/data/dataloader.py:561: UserWarning: This DataLoader will create 8 worker processes in total. Our suggested max number of worker in current system is 2, which is smaller than what this DataLoader is going to create. Please be aware that excessive worker creation might get DataLoader running slow or even freeze, lower the worker number to avoid potential slowness/freeze if necessary.\n",
      "  warnings.warn(_create_warning_msg(\n"
     ]
    },
    {
     "name": "stdout",
     "output_type": "stream",
     "text": [
      "Train: [137][10/140]\t\n",
      "Train: [137][20/140]\t\n",
      "Train: [137][30/140]\t\n",
      "Train: [137][40/140]\t\n",
      "Train: [137][50/140]\t\n",
      "Train: [137][60/140]\t\n",
      "Train: [137][70/140]\t\n",
      "Train: [137][80/140]\t\n",
      "Train: [137][90/140]\t\n",
      "Train: [137][100/140]\t\n",
      "Train: [137][110/140]\t\n",
      "Train: [137][120/140]\t\n",
      "Train: [137][130/140]\t\n",
      "Train: [137][140/140]\t\n",
      "Training Accuracy: 98.93%\n",
      "Training loss: 0.0313028967754473\n",
      "Validation accuracy: 81.15646258503402 %\n",
      "Validation F1: 0.6332387705232458\n"
     ]
    },
    {
     "name": "stderr",
     "output_type": "stream",
     "text": [
      "/opt/conda/lib/python3.10/site-packages/torch/utils/data/dataloader.py:561: UserWarning: This DataLoader will create 8 worker processes in total. Our suggested max number of worker in current system is 2, which is smaller than what this DataLoader is going to create. Please be aware that excessive worker creation might get DataLoader running slow or even freeze, lower the worker number to avoid potential slowness/freeze if necessary.\n",
      "  warnings.warn(_create_warning_msg(\n"
     ]
    },
    {
     "name": "stdout",
     "output_type": "stream",
     "text": [
      "Train: [138][10/140]\t\n",
      "Train: [138][20/140]\t\n",
      "Train: [138][30/140]\t\n",
      "Train: [138][40/140]\t\n",
      "Train: [138][50/140]\t\n",
      "Train: [138][60/140]\t\n",
      "Train: [138][70/140]\t\n",
      "Train: [138][80/140]\t\n",
      "Train: [138][90/140]\t\n",
      "Train: [138][100/140]\t\n",
      "Train: [138][110/140]\t\n",
      "Train: [138][120/140]\t\n",
      "Train: [138][130/140]\t\n",
      "Train: [138][140/140]\t\n",
      "Training Accuracy: 98.97%\n",
      "Training loss: 0.03093262380216689\n",
      "Validation accuracy: 80.03401360544218 %\n",
      "Validation F1: 0.6377858015941974\n"
     ]
    },
    {
     "name": "stderr",
     "output_type": "stream",
     "text": [
      "/opt/conda/lib/python3.10/site-packages/torch/utils/data/dataloader.py:561: UserWarning: This DataLoader will create 8 worker processes in total. Our suggested max number of worker in current system is 2, which is smaller than what this DataLoader is going to create. Please be aware that excessive worker creation might get DataLoader running slow or even freeze, lower the worker number to avoid potential slowness/freeze if necessary.\n",
      "  warnings.warn(_create_warning_msg(\n"
     ]
    },
    {
     "name": "stdout",
     "output_type": "stream",
     "text": [
      "Train: [139][10/140]\t\n",
      "Train: [139][20/140]\t\n",
      "Train: [139][30/140]\t\n",
      "Train: [139][40/140]\t\n",
      "Train: [139][50/140]\t\n",
      "Train: [139][60/140]\t\n",
      "Train: [139][70/140]\t\n",
      "Train: [139][80/140]\t\n",
      "Train: [139][90/140]\t\n",
      "Train: [139][100/140]\t\n",
      "Train: [139][110/140]\t\n",
      "Train: [139][120/140]\t\n",
      "Train: [139][130/140]\t\n",
      "Train: [139][140/140]\t\n",
      "Training Accuracy: 99.08%\n",
      "Training loss: 0.027748702561395482\n",
      "Validation accuracy: 79.45578231292517 %\n",
      "Validation F1: 0.596837566600856\n"
     ]
    },
    {
     "name": "stderr",
     "output_type": "stream",
     "text": [
      "/opt/conda/lib/python3.10/site-packages/torch/utils/data/dataloader.py:561: UserWarning: This DataLoader will create 8 worker processes in total. Our suggested max number of worker in current system is 2, which is smaller than what this DataLoader is going to create. Please be aware that excessive worker creation might get DataLoader running slow or even freeze, lower the worker number to avoid potential slowness/freeze if necessary.\n",
      "  warnings.warn(_create_warning_msg(\n"
     ]
    },
    {
     "name": "stdout",
     "output_type": "stream",
     "text": [
      "Train: [140][10/140]\t\n",
      "Train: [140][20/140]\t\n",
      "Train: [140][30/140]\t\n",
      "Train: [140][40/140]\t\n",
      "Train: [140][50/140]\t\n",
      "Train: [140][60/140]\t\n",
      "Train: [140][70/140]\t\n",
      "Train: [140][80/140]\t\n",
      "Train: [140][90/140]\t\n",
      "Train: [140][100/140]\t\n",
      "Train: [140][110/140]\t\n",
      "Train: [140][120/140]\t\n",
      "Train: [140][130/140]\t\n",
      "Train: [140][140/140]\t\n",
      "Training Accuracy: 98.89%\n",
      "Training loss: 0.03222108853972126\n",
      "Validation accuracy: 79.79591836734694 %\n",
      "Validation F1: 0.5952664085200994\n"
     ]
    },
    {
     "name": "stderr",
     "output_type": "stream",
     "text": [
      "/opt/conda/lib/python3.10/site-packages/torch/utils/data/dataloader.py:561: UserWarning: This DataLoader will create 8 worker processes in total. Our suggested max number of worker in current system is 2, which is smaller than what this DataLoader is going to create. Please be aware that excessive worker creation might get DataLoader running slow or even freeze, lower the worker number to avoid potential slowness/freeze if necessary.\n",
      "  warnings.warn(_create_warning_msg(\n"
     ]
    },
    {
     "name": "stdout",
     "output_type": "stream",
     "text": [
      "Train: [141][10/140]\t\n",
      "Train: [141][20/140]\t\n",
      "Train: [141][30/140]\t\n",
      "Train: [141][40/140]\t\n",
      "Train: [141][50/140]\t\n",
      "Train: [141][60/140]\t\n",
      "Train: [141][70/140]\t\n",
      "Train: [141][80/140]\t\n",
      "Train: [141][90/140]\t\n",
      "Train: [141][100/140]\t\n",
      "Train: [141][110/140]\t\n",
      "Train: [141][120/140]\t\n",
      "Train: [141][130/140]\t\n",
      "Train: [141][140/140]\t\n",
      "Training Accuracy: 98.68%\n",
      "Training loss: 0.03663762276196432\n",
      "Validation accuracy: 79.8639455782313 %\n",
      "Validation F1: 0.6246579656630216\n"
     ]
    },
    {
     "name": "stderr",
     "output_type": "stream",
     "text": [
      "/opt/conda/lib/python3.10/site-packages/torch/utils/data/dataloader.py:561: UserWarning: This DataLoader will create 8 worker processes in total. Our suggested max number of worker in current system is 2, which is smaller than what this DataLoader is going to create. Please be aware that excessive worker creation might get DataLoader running slow or even freeze, lower the worker number to avoid potential slowness/freeze if necessary.\n",
      "  warnings.warn(_create_warning_msg(\n"
     ]
    },
    {
     "name": "stdout",
     "output_type": "stream",
     "text": [
      "Train: [142][10/140]\t\n",
      "Train: [142][20/140]\t\n",
      "Train: [142][30/140]\t\n",
      "Train: [142][40/140]\t\n",
      "Train: [142][50/140]\t\n",
      "Train: [142][60/140]\t\n",
      "Train: [142][70/140]\t\n",
      "Train: [142][80/140]\t\n",
      "Train: [142][90/140]\t\n",
      "Train: [142][100/140]\t\n",
      "Train: [142][110/140]\t\n",
      "Train: [142][120/140]\t\n",
      "Train: [142][130/140]\t\n",
      "Train: [142][140/140]\t\n",
      "Training Accuracy: 98.72%\n",
      "Training loss: 0.03561706492774661\n",
      "Validation accuracy: 79.59183673469387 %\n",
      "Validation F1: 0.6094290932221132\n"
     ]
    },
    {
     "name": "stderr",
     "output_type": "stream",
     "text": [
      "/opt/conda/lib/python3.10/site-packages/torch/utils/data/dataloader.py:561: UserWarning: This DataLoader will create 8 worker processes in total. Our suggested max number of worker in current system is 2, which is smaller than what this DataLoader is going to create. Please be aware that excessive worker creation might get DataLoader running slow or even freeze, lower the worker number to avoid potential slowness/freeze if necessary.\n",
      "  warnings.warn(_create_warning_msg(\n"
     ]
    },
    {
     "name": "stdout",
     "output_type": "stream",
     "text": [
      "Train: [143][10/140]\t\n",
      "Train: [143][20/140]\t\n",
      "Train: [143][30/140]\t\n",
      "Train: [143][40/140]\t\n",
      "Train: [143][50/140]\t\n",
      "Train: [143][60/140]\t\n",
      "Train: [143][70/140]\t\n",
      "Train: [143][80/140]\t\n",
      "Train: [143][90/140]\t\n",
      "Train: [143][100/140]\t\n",
      "Train: [143][110/140]\t\n",
      "Train: [143][120/140]\t\n",
      "Train: [143][130/140]\t\n",
      "Train: [143][140/140]\t\n",
      "Training Accuracy: 98.60%\n",
      "Training loss: 0.04013484859278074\n",
      "Validation accuracy: 80.98639455782313 %\n",
      "Validation F1: 0.6153686330878827\n"
     ]
    },
    {
     "name": "stderr",
     "output_type": "stream",
     "text": [
      "/opt/conda/lib/python3.10/site-packages/torch/utils/data/dataloader.py:561: UserWarning: This DataLoader will create 8 worker processes in total. Our suggested max number of worker in current system is 2, which is smaller than what this DataLoader is going to create. Please be aware that excessive worker creation might get DataLoader running slow or even freeze, lower the worker number to avoid potential slowness/freeze if necessary.\n",
      "  warnings.warn(_create_warning_msg(\n"
     ]
    },
    {
     "name": "stdout",
     "output_type": "stream",
     "text": [
      "Train: [144][10/140]\t\n",
      "Train: [144][20/140]\t\n",
      "Train: [144][30/140]\t\n",
      "Train: [144][40/140]\t\n",
      "Train: [144][50/140]\t\n",
      "Train: [144][60/140]\t\n",
      "Train: [144][70/140]\t\n",
      "Train: [144][80/140]\t\n",
      "Train: [144][90/140]\t\n",
      "Train: [144][100/140]\t\n",
      "Train: [144][110/140]\t\n",
      "Train: [144][120/140]\t\n",
      "Train: [144][130/140]\t\n",
      "Train: [144][140/140]\t\n",
      "Training Accuracy: 98.87%\n",
      "Training loss: 0.0324506743803343\n",
      "Validation accuracy: 81.83673469387756 %\n",
      "Validation F1: 0.6330436273985353\n"
     ]
    },
    {
     "name": "stderr",
     "output_type": "stream",
     "text": [
      "/opt/conda/lib/python3.10/site-packages/torch/utils/data/dataloader.py:561: UserWarning: This DataLoader will create 8 worker processes in total. Our suggested max number of worker in current system is 2, which is smaller than what this DataLoader is going to create. Please be aware that excessive worker creation might get DataLoader running slow or even freeze, lower the worker number to avoid potential slowness/freeze if necessary.\n",
      "  warnings.warn(_create_warning_msg(\n"
     ]
    },
    {
     "name": "stdout",
     "output_type": "stream",
     "text": [
      "Train: [145][10/140]\t\n",
      "Train: [145][20/140]\t\n",
      "Train: [145][30/140]\t\n",
      "Train: [145][40/140]\t\n",
      "Train: [145][50/140]\t\n",
      "Train: [145][60/140]\t\n",
      "Train: [145][70/140]\t\n",
      "Train: [145][80/140]\t\n",
      "Train: [145][90/140]\t\n",
      "Train: [145][100/140]\t\n",
      "Train: [145][110/140]\t\n",
      "Train: [145][120/140]\t\n",
      "Train: [145][130/140]\t\n",
      "Train: [145][140/140]\t\n",
      "Training Accuracy: 98.79%\n",
      "Training loss: 0.03411149714132894\n",
      "Validation accuracy: 80.54421768707482 %\n",
      "Validation F1: 0.6103908743478217\n"
     ]
    },
    {
     "name": "stderr",
     "output_type": "stream",
     "text": [
      "/opt/conda/lib/python3.10/site-packages/torch/utils/data/dataloader.py:561: UserWarning: This DataLoader will create 8 worker processes in total. Our suggested max number of worker in current system is 2, which is smaller than what this DataLoader is going to create. Please be aware that excessive worker creation might get DataLoader running slow or even freeze, lower the worker number to avoid potential slowness/freeze if necessary.\n",
      "  warnings.warn(_create_warning_msg(\n"
     ]
    },
    {
     "name": "stdout",
     "output_type": "stream",
     "text": [
      "Train: [146][10/140]\t\n",
      "Train: [146][20/140]\t\n",
      "Train: [146][30/140]\t\n",
      "Train: [146][40/140]\t\n",
      "Train: [146][50/140]\t\n",
      "Train: [146][60/140]\t\n",
      "Train: [146][70/140]\t\n",
      "Train: [146][80/140]\t\n",
      "Train: [146][90/140]\t\n",
      "Train: [146][100/140]\t\n",
      "Train: [146][110/140]\t\n",
      "Train: [146][120/140]\t\n",
      "Train: [146][130/140]\t\n",
      "Train: [146][140/140]\t\n",
      "Training Accuracy: 98.83%\n",
      "Training loss: 0.03243102249068031\n",
      "Validation accuracy: 79.35374149659864 %\n",
      "Validation F1: 0.6277628648893905\n"
     ]
    },
    {
     "name": "stderr",
     "output_type": "stream",
     "text": [
      "/opt/conda/lib/python3.10/site-packages/torch/utils/data/dataloader.py:561: UserWarning: This DataLoader will create 8 worker processes in total. Our suggested max number of worker in current system is 2, which is smaller than what this DataLoader is going to create. Please be aware that excessive worker creation might get DataLoader running slow or even freeze, lower the worker number to avoid potential slowness/freeze if necessary.\n",
      "  warnings.warn(_create_warning_msg(\n"
     ]
    },
    {
     "name": "stdout",
     "output_type": "stream",
     "text": [
      "Train: [147][10/140]\t\n",
      "Train: [147][20/140]\t\n",
      "Train: [147][30/140]\t\n",
      "Train: [147][40/140]\t\n",
      "Train: [147][50/140]\t\n",
      "Train: [147][60/140]\t\n",
      "Train: [147][70/140]\t\n",
      "Train: [147][80/140]\t\n",
      "Train: [147][90/140]\t\n",
      "Train: [147][100/140]\t\n",
      "Train: [147][110/140]\t\n",
      "Train: [147][120/140]\t\n",
      "Train: [147][130/140]\t\n",
      "Train: [147][140/140]\t\n",
      "Training Accuracy: 98.75%\n",
      "Training loss: 0.03504694209762634\n",
      "Validation accuracy: 81.4625850340136 %\n",
      "Validation F1: 0.628318804150216\n"
     ]
    },
    {
     "name": "stderr",
     "output_type": "stream",
     "text": [
      "/opt/conda/lib/python3.10/site-packages/torch/utils/data/dataloader.py:561: UserWarning: This DataLoader will create 8 worker processes in total. Our suggested max number of worker in current system is 2, which is smaller than what this DataLoader is going to create. Please be aware that excessive worker creation might get DataLoader running slow or even freeze, lower the worker number to avoid potential slowness/freeze if necessary.\n",
      "  warnings.warn(_create_warning_msg(\n"
     ]
    },
    {
     "name": "stdout",
     "output_type": "stream",
     "text": [
      "Train: [148][10/140]\t\n",
      "Train: [148][20/140]\t\n",
      "Train: [148][30/140]\t\n",
      "Train: [148][40/140]\t\n",
      "Train: [148][50/140]\t\n",
      "Train: [148][60/140]\t\n",
      "Train: [148][70/140]\t\n",
      "Train: [148][80/140]\t\n",
      "Train: [148][90/140]\t\n",
      "Train: [148][100/140]\t\n",
      "Train: [148][110/140]\t\n",
      "Train: [148][120/140]\t\n",
      "Train: [148][130/140]\t\n",
      "Train: [148][140/140]\t\n",
      "Training Accuracy: 98.75%\n",
      "Training loss: 0.03576789373111287\n",
      "Validation accuracy: 81.36054421768706 %\n",
      "Validation F1: 0.6162173885746292\n"
     ]
    },
    {
     "name": "stderr",
     "output_type": "stream",
     "text": [
      "/opt/conda/lib/python3.10/site-packages/torch/utils/data/dataloader.py:561: UserWarning: This DataLoader will create 8 worker processes in total. Our suggested max number of worker in current system is 2, which is smaller than what this DataLoader is going to create. Please be aware that excessive worker creation might get DataLoader running slow or even freeze, lower the worker number to avoid potential slowness/freeze if necessary.\n",
      "  warnings.warn(_create_warning_msg(\n"
     ]
    },
    {
     "name": "stdout",
     "output_type": "stream",
     "text": [
      "Train: [149][10/140]\t\n",
      "Train: [149][20/140]\t\n",
      "Train: [149][30/140]\t\n",
      "Train: [149][40/140]\t\n",
      "Train: [149][50/140]\t\n",
      "Train: [149][60/140]\t\n",
      "Train: [149][70/140]\t\n",
      "Train: [149][80/140]\t\n",
      "Train: [149][90/140]\t\n",
      "Train: [149][100/140]\t\n",
      "Train: [149][110/140]\t\n",
      "Train: [149][120/140]\t\n",
      "Train: [149][130/140]\t\n",
      "Train: [149][140/140]\t\n",
      "Training Accuracy: 98.77%\n",
      "Training loss: 0.035165733431160355\n",
      "Validation accuracy: 78.5374149659864 %\n",
      "Validation F1: 0.6100889770296893\n"
     ]
    },
    {
     "name": "stderr",
     "output_type": "stream",
     "text": [
      "/opt/conda/lib/python3.10/site-packages/torch/utils/data/dataloader.py:561: UserWarning: This DataLoader will create 8 worker processes in total. Our suggested max number of worker in current system is 2, which is smaller than what this DataLoader is going to create. Please be aware that excessive worker creation might get DataLoader running slow or even freeze, lower the worker number to avoid potential slowness/freeze if necessary.\n",
      "  warnings.warn(_create_warning_msg(\n"
     ]
    },
    {
     "name": "stdout",
     "output_type": "stream",
     "text": [
      "Train: [150][10/140]\t\n",
      "Train: [150][20/140]\t\n",
      "Train: [150][30/140]\t\n",
      "Train: [150][40/140]\t\n",
      "Train: [150][50/140]\t\n",
      "Train: [150][60/140]\t\n",
      "Train: [150][70/140]\t\n",
      "Train: [150][80/140]\t\n",
      "Train: [150][90/140]\t\n",
      "Train: [150][100/140]\t\n",
      "Train: [150][110/140]\t\n",
      "Train: [150][120/140]\t\n",
      "Train: [150][130/140]\t\n",
      "Train: [150][140/140]\t\n",
      "Training Accuracy: 98.72%\n",
      "Training loss: 0.036395269593741494\n",
      "Validation accuracy: 80.57823129251702 %\n",
      "Validation F1: 0.6358169999955016\n"
     ]
    }
   ],
   "source": [
    "# training routine without freezing\n",
    "model[0].requires_grad_(True)\n",
    "opt.learning_rate = 0.01\n",
    "\n",
    "best_f1 = 0.63\n",
    "for epoch in range(1, 150+1):\n",
    "    train_supervised(train_loader, val_loader, model, criterion, optimizer, epoch, opt)\n",
    "    cur_f1 = sample_evaluation(val_loader, model, opt)\n",
    "    if cur_f1 > best_f1:\n",
    "        #best_f1 = cur_f1\n",
    "        submission_generate(test_loader, model, opt, epoch)\n",
    "    elif epoch % 30 == 0:\n",
    "        submission_generate(test_loader, model, opt, epoch)\n",
    "    "
   ]
  },
  {
   "cell_type": "code",
   "execution_count": 29,
   "id": "0574efec",
   "metadata": {
    "execution": {
     "iopub.execute_input": "2023-08-27T11:47:57.625629Z",
     "iopub.status.busy": "2023-08-27T11:47:57.625017Z",
     "iopub.status.idle": "2023-08-27T11:47:58.127729Z",
     "shell.execute_reply": "2023-08-27T11:47:58.126704Z"
    },
    "papermill": {
     "duration": 0.83305,
     "end_time": "2023-08-27T11:47:58.130184",
     "exception": false,
     "start_time": "2023-08-27T11:47:57.297134",
     "status": "completed"
    },
    "tags": []
   },
   "outputs": [
    {
     "name": "stdout",
     "output_type": "stream",
     "text": [
      "==> Saving...\n"
     ]
    }
   ],
   "source": [
    "save_file = os.path.join('/kaggle/working/supervised/last.pth')\n",
    "save_model(model, optimizer, opt, opt.epochs, save_file)"
   ]
  },
  {
   "cell_type": "code",
   "execution_count": 30,
   "id": "ee700a2d",
   "metadata": {
    "execution": {
     "iopub.execute_input": "2023-08-27T11:47:58.544116Z",
     "iopub.status.busy": "2023-08-27T11:47:58.543764Z",
     "iopub.status.idle": "2023-08-27T11:48:03.920000Z",
     "shell.execute_reply": "2023-08-27T11:48:03.918946Z"
    },
    "papermill": {
     "duration": 5.584182,
     "end_time": "2023-08-27T11:48:03.922113",
     "exception": false,
     "start_time": "2023-08-27T11:47:58.337931",
     "status": "completed"
    },
    "tags": []
   },
   "outputs": [
    {
     "name": "stdout",
     "output_type": "stream",
     "text": [
      "Validation accuracy: 80.57823129251702 %\n",
      "Validation F1: 0.6358169999955016\n"
     ]
    },
    {
     "data": {
      "text/plain": [
       "0.6358169999955016"
      ]
     },
     "execution_count": 30,
     "metadata": {},
     "output_type": "execute_result"
    }
   ],
   "source": [
    "# Validation\n",
    "sample_evaluation(val_loader, model, opt)"
   ]
  },
  {
   "cell_type": "code",
   "execution_count": 31,
   "id": "7fe1f7f6",
   "metadata": {
    "execution": {
     "iopub.execute_input": "2023-08-27T11:48:04.336533Z",
     "iopub.status.busy": "2023-08-27T11:48:04.336148Z",
     "iopub.status.idle": "2023-08-27T11:48:44.568380Z",
     "shell.execute_reply": "2023-08-27T11:48:44.567431Z"
    },
    "papermill": {
     "duration": 40.441752,
     "end_time": "2023-08-27T11:48:44.570890",
     "exception": false,
     "start_time": "2023-08-27T11:48:04.129138",
     "status": "completed"
    },
    "tags": []
   },
   "outputs": [],
   "source": [
    "submission_generate(test_loader, model, opt)"
   ]
  },
  {
   "cell_type": "code",
   "execution_count": null,
   "id": "ab0bfea6",
   "metadata": {
    "papermill": {
     "duration": 0.264793,
     "end_time": "2023-08-27T11:48:45.041107",
     "exception": false,
     "start_time": "2023-08-27T11:48:44.776314",
     "status": "completed"
    },
    "tags": []
   },
   "outputs": [],
   "source": []
  },
  {
   "cell_type": "code",
   "execution_count": null,
   "id": "d970fc86",
   "metadata": {
    "papermill": {
     "duration": 0.201471,
     "end_time": "2023-08-27T11:48:45.446420",
     "exception": false,
     "start_time": "2023-08-27T11:48:45.244949",
     "status": "completed"
    },
    "tags": []
   },
   "outputs": [],
   "source": []
  },
  {
   "cell_type": "code",
   "execution_count": null,
   "id": "f0175ccc",
   "metadata": {
    "papermill": {
     "duration": 0.201292,
     "end_time": "2023-08-27T11:48:45.854156",
     "exception": false,
     "start_time": "2023-08-27T11:48:45.652864",
     "status": "completed"
    },
    "tags": []
   },
   "outputs": [],
   "source": []
  },
  {
   "cell_type": "code",
   "execution_count": null,
   "id": "a877f38b",
   "metadata": {
    "papermill": {
     "duration": 0.201613,
     "end_time": "2023-08-27T11:48:46.259015",
     "exception": false,
     "start_time": "2023-08-27T11:48:46.057402",
     "status": "completed"
    },
    "tags": []
   },
   "outputs": [],
   "source": []
  },
  {
   "cell_type": "code",
   "execution_count": null,
   "id": "42f25dec",
   "metadata": {
    "papermill": {
     "duration": 0.205101,
     "end_time": "2023-08-27T11:48:46.665715",
     "exception": false,
     "start_time": "2023-08-27T11:48:46.460614",
     "status": "completed"
    },
    "tags": []
   },
   "outputs": [],
   "source": []
  },
  {
   "cell_type": "code",
   "execution_count": null,
   "id": "9b5c11f3",
   "metadata": {
    "papermill": {
     "duration": 0.200234,
     "end_time": "2023-08-27T11:48:47.068850",
     "exception": false,
     "start_time": "2023-08-27T11:48:46.868616",
     "status": "completed"
    },
    "tags": []
   },
   "outputs": [],
   "source": []
  },
  {
   "cell_type": "code",
   "execution_count": null,
   "id": "32f2c314",
   "metadata": {
    "papermill": {
     "duration": 0.201602,
     "end_time": "2023-08-27T11:48:47.475892",
     "exception": false,
     "start_time": "2023-08-27T11:48:47.274290",
     "status": "completed"
    },
    "tags": []
   },
   "outputs": [],
   "source": []
  },
  {
   "cell_type": "code",
   "execution_count": null,
   "id": "9d2db478",
   "metadata": {
    "papermill": {
     "duration": 0.204648,
     "end_time": "2023-08-27T11:48:47.892752",
     "exception": false,
     "start_time": "2023-08-27T11:48:47.688104",
     "status": "completed"
    },
    "tags": []
   },
   "outputs": [],
   "source": []
  },
  {
   "cell_type": "code",
   "execution_count": null,
   "id": "04ff5d20",
   "metadata": {
    "papermill": {
     "duration": 0.203809,
     "end_time": "2023-08-27T11:48:48.299631",
     "exception": false,
     "start_time": "2023-08-27T11:48:48.095822",
     "status": "completed"
    },
    "tags": []
   },
   "outputs": [],
   "source": []
  },
  {
   "cell_type": "code",
   "execution_count": null,
   "id": "5c586f49",
   "metadata": {
    "papermill": {
     "duration": 0.202416,
     "end_time": "2023-08-27T11:48:48.704006",
     "exception": false,
     "start_time": "2023-08-27T11:48:48.501590",
     "status": "completed"
    },
    "tags": []
   },
   "outputs": [],
   "source": []
  },
  {
   "cell_type": "code",
   "execution_count": null,
   "id": "b37312ee",
   "metadata": {
    "papermill": {
     "duration": 0.260739,
     "end_time": "2023-08-27T11:48:49.165965",
     "exception": false,
     "start_time": "2023-08-27T11:48:48.905226",
     "status": "completed"
    },
    "tags": []
   },
   "outputs": [],
   "source": []
  },
  {
   "cell_type": "code",
   "execution_count": null,
   "id": "b342ad88",
   "metadata": {
    "papermill": {
     "duration": 0.220055,
     "end_time": "2023-08-27T11:48:49.589892",
     "exception": false,
     "start_time": "2023-08-27T11:48:49.369837",
     "status": "completed"
    },
    "tags": []
   },
   "outputs": [],
   "source": []
  },
  {
   "cell_type": "code",
   "execution_count": null,
   "id": "18e4f14c",
   "metadata": {
    "papermill": {
     "duration": 0.199992,
     "end_time": "2023-08-27T11:48:49.996892",
     "exception": false,
     "start_time": "2023-08-27T11:48:49.796900",
     "status": "completed"
    },
    "tags": []
   },
   "outputs": [],
   "source": []
  },
  {
   "cell_type": "code",
   "execution_count": null,
   "id": "eaeaff35",
   "metadata": {
    "papermill": {
     "duration": 0.203173,
     "end_time": "2023-08-27T11:48:50.404273",
     "exception": false,
     "start_time": "2023-08-27T11:48:50.201100",
     "status": "completed"
    },
    "tags": []
   },
   "outputs": [],
   "source": []
  },
  {
   "cell_type": "code",
   "execution_count": null,
   "id": "cffae78b",
   "metadata": {
    "papermill": {
     "duration": 0.207844,
     "end_time": "2023-08-27T11:48:50.817550",
     "exception": false,
     "start_time": "2023-08-27T11:48:50.609706",
     "status": "completed"
    },
    "tags": []
   },
   "outputs": [],
   "source": []
  }
 ],
 "metadata": {
  "kernelspec": {
   "display_name": "Python 3",
   "language": "python",
   "name": "python3"
  },
  "language_info": {
   "codemirror_mode": {
    "name": "ipython",
    "version": 3
   },
   "file_extension": ".py",
   "mimetype": "text/x-python",
   "name": "python",
   "nbconvert_exporter": "python",
   "pygments_lexer": "ipython3",
   "version": "3.10.12"
  },
  "papermill": {
   "default_parameters": {},
   "duration": 9097.694464,
   "end_time": "2023-08-27T11:48:53.321429",
   "environment_variables": {},
   "exception": null,
   "input_path": "__notebook__.ipynb",
   "output_path": "__notebook__.ipynb",
   "parameters": {},
   "start_time": "2023-08-27T09:17:15.626965",
   "version": "2.4.0"
  }
 },
 "nbformat": 4,
 "nbformat_minor": 5
}
